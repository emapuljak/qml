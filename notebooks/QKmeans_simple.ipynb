{
 "cells": [
  {
   "cell_type": "code",
   "execution_count": 2,
   "id": "f2eb5e89-2518-40eb-99e1-839d61d48b99",
   "metadata": {},
   "outputs": [],
   "source": [
    "import matplotlib.pyplot as plt\n",
    "import pandas as pd\n",
    "from qiskit import QuantumRegister, ClassicalRegister\n",
    "from qiskit import QuantumCircuit\n",
    "from qiskit import Aer, execute\n",
    "from numpy import pi\n",
    "import numpy as np"
   ]
  },
  {
   "cell_type": "code",
   "execution_count": 2,
   "id": "3f1e0d63-ca2b-441e-a63b-76f0f759c04e",
   "metadata": {},
   "outputs": [],
   "source": [
    "# Get the data from the .csv file\n",
    "url = 'https://raw.githubusercontent.com/SashwatAnagolum/DoNew/master/kmeans/kmeans_data.csv'\n",
    "data = pd.read_csv(url, on_bad_lines='skip', usecols=['Feature 1', 'Feature 2', 'Class'])"
   ]
  },
  {
   "cell_type": "code",
   "execution_count": 3,
   "id": "013b8c59-6751-47c3-acc8-fc3e05ec24a9",
   "metadata": {},
   "outputs": [
    {
     "data": {
      "text/html": [
       "<div>\n",
       "<style scoped>\n",
       "    .dataframe tbody tr th:only-of-type {\n",
       "        vertical-align: middle;\n",
       "    }\n",
       "\n",
       "    .dataframe tbody tr th {\n",
       "        vertical-align: top;\n",
       "    }\n",
       "\n",
       "    .dataframe thead th {\n",
       "        text-align: right;\n",
       "    }\n",
       "</style>\n",
       "<table border=\"1\" class=\"dataframe\">\n",
       "  <thead>\n",
       "    <tr style=\"text-align: right;\">\n",
       "      <th></th>\n",
       "      <th>Feature 1</th>\n",
       "      <th>Feature 2</th>\n",
       "      <th>Class</th>\n",
       "    </tr>\n",
       "  </thead>\n",
       "  <tbody>\n",
       "    <tr>\n",
       "      <th>0</th>\n",
       "      <td>-0.646</td>\n",
       "      <td>0.763</td>\n",
       "      <td>Green</td>\n",
       "    </tr>\n",
       "    <tr>\n",
       "      <th>1</th>\n",
       "      <td>-0.610</td>\n",
       "      <td>0.617</td>\n",
       "      <td>Green</td>\n",
       "    </tr>\n",
       "    <tr>\n",
       "      <th>2</th>\n",
       "      <td>-0.596</td>\n",
       "      <td>0.915</td>\n",
       "      <td>Green</td>\n",
       "    </tr>\n",
       "    <tr>\n",
       "      <th>3</th>\n",
       "      <td>-0.565</td>\n",
       "      <td>0.927</td>\n",
       "      <td>Green</td>\n",
       "    </tr>\n",
       "    <tr>\n",
       "      <th>4</th>\n",
       "      <td>-0.542</td>\n",
       "      <td>0.631</td>\n",
       "      <td>Green</td>\n",
       "    </tr>\n",
       "    <tr>\n",
       "      <th>...</th>\n",
       "      <td>...</td>\n",
       "      <td>...</td>\n",
       "      <td>...</td>\n",
       "    </tr>\n",
       "    <tr>\n",
       "      <th>70</th>\n",
       "      <td>0.719</td>\n",
       "      <td>0.307</td>\n",
       "      <td>Black</td>\n",
       "    </tr>\n",
       "    <tr>\n",
       "      <th>71</th>\n",
       "      <td>0.724</td>\n",
       "      <td>0.113</td>\n",
       "      <td>Black</td>\n",
       "    </tr>\n",
       "    <tr>\n",
       "      <th>72</th>\n",
       "      <td>0.739</td>\n",
       "      <td>0.432</td>\n",
       "      <td>Black</td>\n",
       "    </tr>\n",
       "    <tr>\n",
       "      <th>73</th>\n",
       "      <td>0.784</td>\n",
       "      <td>0.257</td>\n",
       "      <td>Black</td>\n",
       "    </tr>\n",
       "    <tr>\n",
       "      <th>74</th>\n",
       "      <td>0.797</td>\n",
       "      <td>0.545</td>\n",
       "      <td>Black</td>\n",
       "    </tr>\n",
       "  </tbody>\n",
       "</table>\n",
       "<p>75 rows × 3 columns</p>\n",
       "</div>"
      ],
      "text/plain": [
       "    Feature 1  Feature 2  Class\n",
       "0      -0.646      0.763  Green\n",
       "1      -0.610      0.617  Green\n",
       "2      -0.596      0.915  Green\n",
       "3      -0.565      0.927  Green\n",
       "4      -0.542      0.631  Green\n",
       "..        ...        ...    ...\n",
       "70      0.719      0.307  Black\n",
       "71      0.724      0.113  Black\n",
       "72      0.739      0.432  Black\n",
       "73      0.784      0.257  Black\n",
       "74      0.797      0.545  Black\n",
       "\n",
       "[75 rows x 3 columns]"
      ]
     },
     "execution_count": 3,
     "metadata": {},
     "output_type": "execute_result"
    }
   ],
   "source": [
    "data"
   ]
  },
  {
   "cell_type": "code",
   "execution_count": 4,
   "id": "61b8afb8-e19c-4036-93a7-71e85d5be854",
   "metadata": {},
   "outputs": [],
   "source": [
    "# Create binary variables to filter data\n",
    "isGreen = data['Class'] == 'Green'\n",
    "isBlue = data['Class'] == 'Blue'\n",
    "isBlack = data['Class'] == 'Black'"
   ]
  },
  {
   "cell_type": "code",
   "execution_count": 5,
   "id": "31bad262-4013-433c-8765-114934ec15c2",
   "metadata": {},
   "outputs": [],
   "source": [
    "# Filter data\n",
    "greenData = data[isGreen].drop(['Class'], axis=1)\n",
    "blueData = data[isBlue].drop(['Class'], axis=1)\n",
    "blackData = data[isBlack].drop(['Class'], axis=1)"
   ]
  },
  {
   "cell_type": "code",
   "execution_count": 6,
   "id": "4fa99216-22e1-4160-8d1c-380c90a57e94",
   "metadata": {},
   "outputs": [],
   "source": [
    "# This is the point we need to classify\n",
    "y_p = 0.141\n",
    "x_p = -0.161"
   ]
  },
  {
   "cell_type": "code",
   "execution_count": 7,
   "id": "9651af2a-7da3-4824-88fe-15bcf0b1d532",
   "metadata": {},
   "outputs": [],
   "source": [
    "# Finding the x-coords of the centroids\n",
    "xgc = sum(greenData['Feature 1']) / len(greenData['Feature 1'])\n",
    "xbc = sum(blueData['Feature 1']) / len(blueData['Feature 1'])\n",
    "xkc = sum(blackData['Feature 1']) / len(blackData['Feature 1'])\n",
    "\n",
    "# Finding the y-coords of the centroids\n",
    "ygc = sum(greenData['Feature 2']) / len(greenData['Feature 2'])\n",
    "ybc = sum(blueData['Feature 2']) / len(blueData['Feature 2'])\n",
    "ykc = sum(blackData['Feature 2']) / len(blackData['Feature 2'])"
   ]
  },
  {
   "cell_type": "code",
   "execution_count": 8,
   "id": "3e1168bf-c017-4339-b87e-5e06e07b3a8a",
   "metadata": {},
   "outputs": [
    {
     "data": {
      "image/png": "[encoded data removed]",
      "text/plain": [
       "<Figure size 432x288 with 1 Axes>"
      ]
     },
     "metadata": {
      "needs_background": "light"
     },
     "output_type": "display_data"
    }
   ],
   "source": [
    "fig, ax = plt.subplots()\n",
    "ax.set(xlabel='Data Feature 1', ylabel='Data Feature 2')\n",
    "\n",
    "# Plotting the centroids\n",
    "plt.plot(xgc, ygc, 'gx')\n",
    "plt.plot(xbc, ybc, 'bx')\n",
    "plt.plot(xkc, ykc, 'kx')\n",
    "\n",
    "# Plotting the new data point\n",
    "plt.plot(x_p, y_p, 'ro')\n",
    "\n",
    "# Setting the axis ranges\n",
    "plt.axis([-1, 1, -1, 1])\n",
    "\n",
    "plt.show()\n"
   ]
  },
  {
   "cell_type": "code",
   "execution_count": null,
   "id": "325766a5-528e-4995-9b13-173f1548e0c6",
   "metadata": {},
   "outputs": [],
   "source": [
    "# Calculating theta and phi values\n",
    "phi_list = [((x + 1) * pi / 2) for x in [x_p, xgc, xbc, xkc]]\n",
    "theta_list = [((x + 1) * pi / 2) for x in [y_p, ygc, ybc, ykc]]"
   ]
  },
  {
   "cell_type": "code",
   "execution_count": null,
   "id": "8c44d061-5da1-4302-b26a-ef84403f3fb5",
   "metadata": {},
   "outputs": [],
   "source": [
    "# Create a 2 qubit QuantumRegister - two for the vectors, and \n",
    "# one for the ancillary qubit\n",
    "qreg = QuantumRegister(3, 'qreg')\n",
    "\n",
    "# Create a one bit ClassicalRegister to hold the result\n",
    "# of the measurements\n",
    "creg = ClassicalRegister(1, 'creg')\n",
    "\n",
    "qc = QuantumCircuit(qreg, creg, name='qc')"
   ]
  },
  {
   "cell_type": "code",
   "execution_count": null,
   "id": "75d7b7dc-977c-4df1-a2c1-f6865b6129c4",
   "metadata": {},
   "outputs": [],
   "source": [
    "# Get backend using the Aer provider\n",
    "backend = Aer.get_backend('qasm_simulator')"
   ]
  },
  {
   "cell_type": "code",
   "execution_count": null,
   "id": "64233214-5ad9-4dd9-8e3b-44ddb4967bee",
   "metadata": {},
   "outputs": [],
   "source": [
    "# Create list to hold the results\n",
    "results_list = []"
   ]
  },
  {
   "cell_type": "code",
   "execution_count": null,
   "id": "a6d00360-0db5-4539-bc91-97ac7d4abba9",
   "metadata": {},
   "outputs": [],
   "source": [
    "# Estimating distances from the new point to the centroids\n",
    "for i in range(1, 4):\n",
    "    # Apply a Hadamard to the ancillary\n",
    "    qc.h(qreg[2])\n",
    "\n",
    "    # Encode new point and centroid\n",
    "    qc.u(theta_list[0], phi_list[0], 0, qreg[0])           \n",
    "    qc.u(theta_list[i], phi_list[i], 0, qreg[1]) \n",
    "\n",
    "    # Perform controlled swap\n",
    "    qc.cswap(qreg[2], qreg[0], qreg[1])\n",
    "    # Apply second Hadamard to ancillary\n",
    "    qc.h(qreg[2])\n",
    "\n",
    "    # Measure ancillary\n",
    "    qc.measure(qreg[2], creg[0])\n",
    "\n",
    "    # Reset qubits\n",
    "    qc.reset(qreg)\n",
    "\n",
    "    # Register and execute job\n",
    "    job = execute(qc, backend=backend, shots=1024)\n",
    "    result = job.result().get_counts(qc)\n",
    "    results_list.append(result['1'])\n",
    "\n",
    "print(results_list)"
   ]
  },
  {
   "cell_type": "code",
   "execution_count": null,
   "id": "4443b449-b125-463a-a1a2-3c241362dba7",
   "metadata": {},
   "outputs": [],
   "source": [
    "# Create a list to hold the possible classes\n",
    "class_list = ['Green', 'Blue', 'Black']"
   ]
  },
  {
   "cell_type": "code",
   "execution_count": null,
   "id": "0c155a9e-405a-4f33-a478-2779c9f492b7",
   "metadata": {},
   "outputs": [],
   "source": [
    "# Find out which class the new data point belongs to \n",
    "# according to our distance estimation algorithm\n",
    "quantum_p_class = class_list[results_list.index(min(results_list))]"
   ]
  },
  {
   "cell_type": "code",
   "execution_count": null,
   "id": "1ddac2d0-0f34-47ee-983d-86e0aba722ed",
   "metadata": {},
   "outputs": [],
   "source": [
    "# Find out which class the new data point belongs to \n",
    "# according to classical euclidean distance calculation\n",
    "distances_list = [((x_p - i[0])**2 + (y_p - i[1])**2)**0.5 for i in [(xgc, ygc), (xbc, ybc), (xkc, ykc)]]\n",
    "classical_p_class = class_list[distances_list.index(min(distances_list))]"
   ]
  },
  {
   "cell_type": "code",
   "execution_count": null,
   "id": "00f06b55-425a-4971-8254-142bf8ce1223",
   "metadata": {},
   "outputs": [],
   "source": [
    "# Print results\n",
    "print(\"\"\"According to our distance algorithm,\n",
    " the new data point belongs to the\"\"\", quantum_p_class, \n",
    " 'class.\\n')\n",
    "print('Euclidean distances: ', distances_list, '\\n')\n",
    "print(\"\"\"According to euclidean distance calculations,\n",
    " the new data point belongs to the\"\"\", classical_p_class, \n",
    " 'class.')"
   ]
  },
  {
   "cell_type": "code",
   "execution_count": 5,
   "id": "7aee98c2-4724-47b5-9ab9-129da6302524",
   "metadata": {},
   "outputs": [],
   "source": [
    "rows, cols = np.tril_indices(8, m=8)"
   ]
  },
  {
   "cell_type": "code",
   "execution_count": 6,
   "id": "f80fd27b-cd2b-4a63-b54d-ad55a27ab5cf",
   "metadata": {},
   "outputs": [
    {
     "data": {
      "text/plain": [
       "array([0, 1, 1, 2, 2, 2, 3, 3, 3, 3, 4, 4, 4, 4, 4, 5, 5, 5, 5, 5, 5, 6,\n",
       "       6, 6, 6, 6, 6, 6, 7, 7, 7, 7, 7, 7, 7, 7])"
      ]
     },
     "execution_count": 6,
     "metadata": {},
     "output_type": "execute_result"
    }
   ],
   "source": [
    "rows"
   ]
  },
  {
   "cell_type": "code",
   "execution_count": 7,
   "id": "f89bdb32-b599-4f12-97c8-360a56353dea",
   "metadata": {},
   "outputs": [
    {
     "data": {
      "text/plain": [
       "array([0, 0, 1, 0, 1, 2, 0, 1, 2, 3, 0, 1, 2, 3, 4, 0, 1, 2, 3, 4, 5, 0,\n",
       "       1, 2, 3, 4, 5, 6, 0, 1, 2, 3, 4, 5, 6, 7])"
      ]
     },
     "execution_count": 7,
     "metadata": {},
     "output_type": "execute_result"
    }
   ],
   "source": [
    "cols"
   ]
  },
  {
   "cell_type": "code",
   "execution_count": null,
   "id": "499454d3-84a3-42f9-97f7-d31db6833ba4",
   "metadata": {},
   "outputs": [],
   "source": []
  }
 ],
 "metadata": {
  "kernelspec": {
   "display_name": "Python 3 (ipykernel)",
   "language": "python",
   "name": "python3"
  },
  "language_info": {
   "codemirror_mode": {
    "name": "ipython",
    "version": 3
   },
   "file_extension": ".py",
   "mimetype": "text/x-python",
   "name": "python",
   "nbconvert_exporter": "python",
   "pygments_lexer": "ipython3",
   "version": "3.8.12"
  }
 },
 "nbformat": 4,
 "nbformat_minor": 5
}
