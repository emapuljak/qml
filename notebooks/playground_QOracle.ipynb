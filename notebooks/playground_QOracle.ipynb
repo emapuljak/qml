{
 "cells": [
  {
   "cell_type": "code",
   "execution_count": null,
   "id": "f7f3e131-924d-4f19-b504-ea1fac0b5039",
   "metadata": {},
   "outputs": [],
   "source": [
    "import numpy as np\n",
    "import matplotlib.pyplot as plt\n",
    "import matplotlib\n",
    "%matplotlib inline\n",
    "import math\n",
    "import h5py\n",
    "import sys\n",
    "sys.path.append('/eos/home-e/epuljak/private/epuljak')\n",
    "sys.path.append('../')\n",
    "sys.path.append('../../')\n",
    "import setGPU\n",
    "\n",
    "# import qibo\n",
    "# qibo.set_backend(\"tensorflow\")\n",
    "\n",
    "# import scripts.qkmeans as qkm\n",
    "#import scripts.minimization as m\n",
    "#import scripts.oracle as o\n",
    "#import scripts.grover as g\n",
    "#import scripts.qkmedians as qkmed\n",
    "import scripts.distance_calc as distc\n",
    "import scripts.util as ut\n",
    "#import utils as u\n",
    "#import plots as p"
   ]
  },
  {
   "cell_type": "code",
   "execution_count": null,
   "id": "024885d3-0488-4e38-a1a2-1a563ca3d0f5",
   "metadata": {},
   "outputs": [],
   "source": [
    "from qiskit.visualization import plot_histogram, plot_bloch_multivector\n",
    "from qiskit.visualization.utils import _bloch_multivector_data\n",
    "from qiskit import QuantumCircuit, execute, Aer, transpile\n",
    "#from qiskit.tools.jupyter import *\n",
    "from qiskit.quantum_info import Statevector\n",
    "from qiskit import QuantumCircuit, ClassicalRegister, QuantumRegister, Aer, IBMQ, execute\n",
    "#from qiskit.tools.monitor import job_monitor"
   ]
  },
  {
   "cell_type": "code",
   "execution_count": null,
   "id": "190f478d-a86e-4499-b2d3-37aa6f6cdcc9",
   "metadata": {},
   "outputs": [],
   "source": [
    "# qibo.set_device(\"/GPU:0\")"
   ]
  },
  {
   "cell_type": "code",
   "execution_count": null,
   "id": "159b134c-a73e-40d7-875a-8a82246bc07c",
   "metadata": {},
   "outputs": [],
   "source": [
    "from math import remainder\n",
    "a = [3.4, 2.5, 1.9, 0.2, 10.1]\n",
    "a=ut.normalize(a)\n",
    "print(a)\n",
    "for i in a:\n",
    "    print(remainder(i, math.pi/2))"
   ]
  },
  {
   "cell_type": "code",
   "execution_count": null,
   "id": "172eac56-b07c-4a35-931d-af0695990d8a",
   "metadata": {},
   "outputs": [],
   "source": [
    "a = np.array([1,5,6,1,7,4,6,9], dtype=np.float32)\n",
    "b = np.array([2,3,7,4,1,2,2,2], dtype=np.float32)\n",
    "num_features = 8"
   ]
  },
  {
   "cell_type": "code",
   "execution_count": null,
   "id": "dc6e0b4d-0d4d-4073-b4fd-4794e61af9d2",
   "metadata": {},
   "outputs": [],
   "source": [
    "distance_TI, qc = distc.DistCalc_DI(a, b)\n",
    "distance_TI"
   ]
  },
  {
   "cell_type": "code",
   "execution_count": null,
   "id": "c71ef57a-2d7b-4159-a1c5-80619d093b56",
   "metadata": {},
   "outputs": [],
   "source": [
    "distances = np.array([4.5, 6.2, 7.0, 9.0, 4.2, 5.9, 10.2, 1.6])"
   ]
  },
  {
   "cell_type": "code",
   "execution_count": null,
   "id": "fe83d0f7-6f3a-46ae-94ed-b49b3bf8b4a0",
   "metadata": {},
   "outputs": [],
   "source": [
    "def amplitude_encoding(xi):\n",
    "    xi = ut.normalize(xi)\n",
    "    xi = distc.pad_input(xi)\n",
    "    print(xi)\n",
    "    n_qubits = math.log2(len(xi))\n",
    "    return xi, n_qubits"
   ]
  },
  {
   "cell_type": "code",
   "execution_count": null,
   "id": "875e8462-975e-4f5c-93eb-00c1396139e4",
   "metadata": {},
   "outputs": [],
   "source": [
    "ampl, n_qubits = amplitude_encoding(distances)"
   ]
  },
  {
   "cell_type": "code",
   "execution_count": null,
   "id": "64be8be1-f5ed-4cc3-993d-84ae4f9996d2",
   "metadata": {},
   "outputs": [],
   "source": [
    "n_qubits"
   ]
  },
  {
   "cell_type": "code",
   "execution_count": null,
   "id": "c5564407-93f4-4cd8-bcad-db98805fdaee",
   "metadata": {},
   "outputs": [],
   "source": [
    "a = QuantumRegister(n_qubits, \"a\")\n",
    "c_a = ClassicalRegister(n_qubits, \"cr\")\n",
    "\n",
    "# Creating Quantum Circuit called \"qc\" involving your Quantum Register \"qr\"\n",
    "# and your Classical Register \"cr\"\n",
    "qc = QuantumCircuit(a, c_a, name=\"k_means\")\n",
    "qc.initialize(ampl, range(int(n_qubits)))\n",
    "#qc.measure(a, c_a)\n",
    "state_vec = Statevector.from_instruction(qc)\n",
    "state_vec.to_dict()"
   ]
  },
  {
   "cell_type": "code",
   "execution_count": null,
   "id": "e618957b-cd92-47cf-9979-3b96d6c33a09",
   "metadata": {},
   "outputs": [],
   "source": [
    "plot_bloch_multivector(state_vec)"
   ]
  },
  {
   "cell_type": "code",
   "execution_count": null,
   "id": "2309f588-3db8-4b2f-bdac-ee9c5f936a48",
   "metadata": {},
   "outputs": [],
   "source": [
    "from qiskit.visualization.utils import _bloch_multivector_data\n",
    "\n",
    "bloch_data = (_bloch_multivector_data(state_vec))\n",
    "print(bloch_data)\n",
    "qubitvector_0=bloch_data[0] # qubit 0\n",
    "x_0=qubitvector_0[0]\n",
    "y_0=qubitvector_0[1]\n",
    "z_0=qubitvector_0[2]\n",
    "\n",
    "qubitvector_1=bloch_data[1] # qubit 1\n",
    "x_1=qubitvector_1[0]\n",
    "y_1=qubitvector_1[1]\n",
    "z_1=qubitvector_1[2]\n",
    "\n",
    "qubitvector_2=bloch_data[2] # qubit 2\n",
    "x_2=qubitvector_2[0]\n",
    "y_2=qubitvector_2[1]\n",
    "z_2=qubitvector_2[2]"
   ]
  },
  {
   "cell_type": "code",
   "execution_count": null,
   "id": "58e492f9-5de5-4ec4-8536-ba4a62f0ad59",
   "metadata": {},
   "outputs": [],
   "source": [
    "#tan𝜑=𝑦/𝑥\n",
    "#cos𝜃=𝑧\n",
    "phi_0 = math.atan(y_0/x_0)\n",
    "theta_0 = math.acos(z_0)\n",
    "\n",
    "phi_1 = math.atan(y_1/x_1)\n",
    "theta_1 = math.acos(z_1)\n",
    "\n",
    "phi_2 = math.atan(y_2/x_2)\n",
    "theta_2 = math.acos(z_2)"
   ]
  },
  {
   "cell_type": "code",
   "execution_count": null,
   "id": "55dff438-7630-417d-9ad3-a1aee943013c",
   "metadata": {},
   "outputs": [],
   "source": [
    "phi_0, theta_0"
   ]
  },
  {
   "cell_type": "code",
   "execution_count": null,
   "id": "4e286531-acb7-4bd8-b986-e71e11f32854",
   "metadata": {},
   "outputs": [],
   "source": [
    "a = QuantumRegister(6, \"a\")\n",
    "c_a = ClassicalRegister(6, \"cr\")\n",
    "\n",
    "# Creating Quantum Circuit called \"qc\" involving your Quantum Register \"qr\"\n",
    "# and your Classical Register \"cr\"\n",
    "qc = QuantumCircuit(a, c_a, name=\"k_means\")\n",
    "qc.h(a)\n",
    "#qc.measure(a, c_a)\n",
    "state_vec = Statevector.from_instruction(qc)\n",
    "state_vec.to_dict()"
   ]
  },
  {
   "cell_type": "code",
   "execution_count": null,
   "id": "425d9a47-6dad-479c-a346-bf0ee7e2c199",
   "metadata": {},
   "outputs": [],
   "source": [
    "int(10.4)"
   ]
  },
  {
   "cell_type": "markdown",
   "id": "22b8d450-1315-4981-85a1-805a61736ef4",
   "metadata": {},
   "source": [
    "## Convert distances to binary fixed-point precision"
   ]
  },
  {
   "cell_type": "code",
   "execution_count": null,
   "id": "868576b1-c684-4191-bdb8-8bdbc8c808a7",
   "metadata": {},
   "outputs": [],
   "source": [
    "import scripts.minimization as m\n",
    "import h5py\n",
    "import math\n",
    "import scripts.qkmedians as qkmed\n",
    "import qibo\n",
    "qibo.set_backend(\"tensorflow\")"
   ]
  },
  {
   "cell_type": "code",
   "execution_count": null,
   "id": "79824200-eb6b-4c12-8125-f2c6d1e7352e",
   "metadata": {},
   "outputs": [],
   "source": [
    "latent_dim='24'\n",
    "run = '01032022_1'\n",
    "test_size=100\n",
    "save_dir='/eos/user/e/epuljak/private/epuljak/PhD/TN/QIBO/search_algorithms/notebooks/results_qmedians/corrected_cuts'"
   ]
  },
  {
   "cell_type": "code",
   "execution_count": null,
   "id": "8f4304fe-a254-461b-b7a4-4f71f96ab734",
   "metadata": {},
   "outputs": [],
   "source": [
    "# read QCD predicted data (test - SIDE)\n",
    "read_dir =f'/eos/user/e/epuljak/private/epuljak/public/diJet/{latent_dim}/'\n",
    "file_name = f'{read_dir}latentrep_QCD_sig_testclustering.h5'\n",
    "with h5py.File(file_name, 'r') as file:\n",
    "    data = file['latent_space']\n",
    "    l1 = data[:,0,:]\n",
    "    l2 = data[:,1,:]\n",
    "    #r_index = np.random.choice(list(range(l1.shape[0])), size=int(test_size/2))\n",
    "    data_test_qcd = np.vstack([l1[:test_size], l2[:test_size]])"
   ]
  },
  {
   "cell_type": "code",
   "execution_count": null,
   "id": "e21fd4fe-d268-4e09-b9a9-c285f86bbada",
   "metadata": {},
   "outputs": [],
   "source": [
    "k = 4 # number of clusters\n",
    "centroids = qkmed.initialize_centroids(data_test_qcd, k)   # Intialize centroids\n",
    "tolerance=1e-8"
   ]
  },
  {
   "cell_type": "code",
   "execution_count": null,
   "id": "93219f74-4b84-40f0-bcc1-7a8236c0070e",
   "metadata": {},
   "outputs": [],
   "source": [
    "maxs=[]\n",
    "for i in range(data_test_qcd.shape[1]):\n",
    "    maxs.append(max(data_test_qcd[:, i]))\n",
    "max(maxs)"
   ]
  },
  {
   "cell_type": "code",
   "execution_count": null,
   "id": "820c90aa-3ea7-434b-b015-a6db425a9611",
   "metadata": {},
   "outputs": [],
   "source": [
    "mins=[]\n",
    "for i in range(data_test_qcd.shape[1]):\n",
    "    mins.append(min(data_test_qcd[:, i]))\n",
    "min(mins)"
   ]
  },
  {
   "cell_type": "code",
   "execution_count": null,
   "id": "1cafaa0f-807b-46c5-90ce-b703c73beb32",
   "metadata": {},
   "outputs": [],
   "source": [
    "math.sqrt(2**3)"
   ]
  },
  {
   "cell_type": "code",
   "execution_count": null,
   "id": "bcd9ca35-8a6f-44d0-9969-1d674012ad08",
   "metadata": {},
   "outputs": [],
   "source": [
    "cluster_label, distances = qkmed.find_nearest_neighbour_DI(data_test_qcd,centroids)"
   ]
  },
  {
   "cell_type": "code",
   "execution_count": null,
   "id": "4601bdca-a1ee-4262-9e9a-a448c82f5089",
   "metadata": {},
   "outputs": [],
   "source": [
    "maxs=[]\n",
    "for i in range(distances.shape[1]):\n",
    "    maxs.append(max(distances[:, i]))\n",
    "max(maxs)"
   ]
  },
  {
   "cell_type": "code",
   "execution_count": null,
   "id": "54418725-ae90-4727-a3bd-37b500c1e2b2",
   "metadata": {},
   "outputs": [],
   "source": [
    "mins=[]\n",
    "for i in range(distances.shape[1]):\n",
    "    mins.append(min(distances[:, i]))\n",
    "min(mins)"
   ]
  },
  {
   "cell_type": "code",
   "execution_count": null,
   "id": "c485a7fd-7d0b-454e-af52-59250b778e3f",
   "metadata": {},
   "outputs": [],
   "source": [
    "import scripts.classic_functions as cf\n",
    "cluster_label_c, distances_c = cf.find_nearest_neighbour_classic(data_train,centroids)\n",
    "#distances_c"
   ]
  },
  {
   "cell_type": "code",
   "execution_count": null,
   "id": "0eede107-e919-4e97-a15b-e51e32661dd6",
   "metadata": {},
   "outputs": [],
   "source": [
    "maxs=[]\n",
    "for i in range(data_train.shape[0]):\n",
    "    maxs.append(max(distances[i, :]))\n",
    "print(max(maxs))"
   ]
  },
  {
   "cell_type": "code",
   "execution_count": null,
   "id": "84701294-5228-413e-98c0-b3c35a0fee1c",
   "metadata": {},
   "outputs": [],
   "source": [
    "dist_norm = []; norm=[]\n",
    "for dist in distances[:]:\n",
    "    d = ut.normalize(dist)\n",
    "    norm.append(np.linalg.norm(dist))\n",
    "    dist_norm.append(d)\n",
    "    #dist_norm.append([math.remainder(a, math.pi/2.) for a in d])"
   ]
  },
  {
   "cell_type": "code",
   "execution_count": null,
   "id": "a4dc4fd0-c28d-4038-aa5f-895fe7f7c8a3",
   "metadata": {},
   "outputs": [],
   "source": [
    "dist = w"
   ]
  },
  {
   "cell_type": "code",
   "execution_count": null,
   "id": "a7b45c5a-4ede-4a7d-ba07-005e68810b5d",
   "metadata": {},
   "outputs": [],
   "source": [
    "# for j in range(distances.shape[0]):\n",
    "    \n",
    "#     qc = QuantumCircuit(n_qubits, n_qubits, name='neg_rot_circ')\n",
    "#     # rotation for point\n",
    "#     for i in range(n_qubits):\n",
    "#         qc.ry(dist_norm[j][i], i)\n",
    "#     #state_vec = Statevector.from_instruction(qc)\n",
    "#     #plot_bloch_multivector(state_vec)\n",
    "    \n",
    "#     for i in range(n_qubits):\n",
    "#         qc.measure(i, i)\n",
    "    \n",
    "#     simulator = Aer.get_backend('qasm_simulator')\n",
    "#     circ = transpile(qc, simulator)\n",
    "\n",
    "#     # Run and get counts\n",
    "#     result = simulator.run(qc, shots=10000).result()\n",
    "#     counts = result.get_counts(qc)\n",
    "#     print(counts)\n",
    "#     count_1 = (counts['00'] + counts['01'])/10000\n",
    "#     count_2 = (counts['00'] + counts['10'])/10000\n",
    "\n",
    "#     new_cluster_label.append(np.argmin([count_1, count_2]))"
   ]
  },
  {
   "cell_type": "code",
   "execution_count": null,
   "id": "c39d4a7a-a8b6-4c79-8a49-6433b7a6946c",
   "metadata": {},
   "outputs": [],
   "source": [
    "# simulator = Aer.get_backend('qasm_simulator')\n",
    "# circ = transpile(qc, simulator)\n",
    "\n",
    "# # Run and get counts\n",
    "# result = simulator.run(qc, shots=1024).result()\n",
    "# counts = result.get_counts(qc)\n",
    "# count_1 = (counts['00'] + counts['01'])/1024\n",
    "# count_2 = (counts['00'] + counts['10'])/1024\n",
    "\n",
    "# count_1, count_2"
   ]
  },
  {
   "cell_type": "code",
   "execution_count": null,
   "id": "db18583e-3ba0-48b8-91e6-c742b0922501",
   "metadata": {},
   "outputs": [],
   "source": [
    "# to fixed-point representation\n",
    "\n",
    "# max distance = 2*sqrt(N) where N=lat_dim because max value = sqrt((1+1)^2*N)\n",
    "max_dist = 2*math.sqrt(lat_dim)\n",
    "print(max_dist+1)\n",
    "n_bits = int((math.log(max_dist+1)/math.log(2)) + 1) # can varry the performance because of this!\n",
    "print(n_bits)\n",
    "step = max_dist+1\n",
    "step"
   ]
  },
  {
   "cell_type": "code",
   "execution_count": null,
   "id": "fe37edd9-376a-47be-86e9-f864819278cf",
   "metadata": {},
   "outputs": [],
   "source": [
    "precision=2**n_bits"
   ]
  },
  {
   "cell_type": "code",
   "execution_count": null,
   "id": "779777fc-fe37-4be2-8175-591017bfae87",
   "metadata": {},
   "outputs": [],
   "source": [
    "n_qubits=[]\n",
    "dist_fix = []; dist_fix_float=[]\n",
    "for i in range(distances.shape[0]):\n",
    "    max_dist = math.ceil(max(distances[i,:]))\n",
    "    n_bits = int((math.log(max_dist)/math.log(2)) + 1)+1\n",
    "    step = max_dist/(2**n_bits)\n",
    "    n_qubits.append(n_bits)\n",
    "    dist_fix.append([int((distances[i,0]/step)),\\\n",
    "                     int((distances[i,1]/step)),\\\n",
    "                     int((distances[i,2]/step))])\n",
    "    dist_fix_float.append(distances[i,:]/max_dist)\n",
    "dist_fix[:10], dist_fix_float[:10]"
   ]
  },
  {
   "cell_type": "code",
   "execution_count": null,
   "id": "2115923c-4660-4fdb-bc8f-f71e69b72487",
   "metadata": {},
   "outputs": [],
   "source": [
    "n_qubits[:10]"
   ]
  },
  {
   "cell_type": "markdown",
   "id": "dc766cca-d754-4b3e-9a73-671966340a6f",
   "metadata": {},
   "source": [
    "## BASIS ENCODING\n",
    "#### Define reference state $|a\\rangle$ and superposition of all others $|b\\rangle$"
   ]
  },
  {
   "cell_type": "code",
   "execution_count": null,
   "id": "894b4227-9a68-4a81-85cb-9063a8d17df0",
   "metadata": {},
   "outputs": [],
   "source": [
    "def basis_encoding(inputs, n_qubits):\n",
    "    amplitudes = np.zeros(2**n_qubits)\n",
    "    for i in inputs:\n",
    "        amplitudes[i] = 1./math.sqrt(len(inputs))\n",
    "    return amplitudes"
   ]
  },
  {
   "cell_type": "code",
   "execution_count": null,
   "id": "d56f784a-8442-46c5-97ad-62e6abb1cd83",
   "metadata": {},
   "outputs": [],
   "source": [
    "n_qubits[0]"
   ]
  },
  {
   "cell_type": "code",
   "execution_count": null,
   "id": "a28731dd-d7d6-4b23-9a9e-ca728cec8ef1",
   "metadata": {},
   "outputs": [],
   "source": [
    "# a - threshold\n",
    "index_rand = np.random.choice(list(range(k))) # random index of reference state\n",
    "print(index_rand)\n",
    "threshold = dist_fix[0][index_rand]\n",
    "\n",
    "# qc = QuantumCircuit(n_qubits[0], n_qubits[0])\n",
    "# ampl = basis_encoding([threshold], n_qubits[0])\n",
    "# qc.initialize(ampl)\n",
    "# state_vec_a = Statevector.from_instruction(qc)\n",
    "# qc.draw()"
   ]
  },
  {
   "cell_type": "code",
   "execution_count": null,
   "id": "f90f3a96-65f8-46c1-ad8b-2b78edb7cda7",
   "metadata": {},
   "outputs": [],
   "source": [
    "threshold"
   ]
  },
  {
   "cell_type": "code",
   "execution_count": null,
   "id": "b2762eec-3226-48b8-af43-f6a7d10cd9c7",
   "metadata": {},
   "outputs": [],
   "source": [
    "# b - superposition\n",
    "qc = QuantumCircuit(n_qubits[0], n_qubits[0])\n",
    "ampl = basis_encoding(dist_fix[0][:], n_qubits[0])\n",
    "qc.initialize(ampl)\n",
    "state_vec_b = Statevector.from_instruction(qc)\n",
    "#qc.measure(range(n_qubits[0]), range(n_qubits[0]))\n",
    "qc.draw()"
   ]
  },
  {
   "cell_type": "code",
   "execution_count": null,
   "id": "d0cf1c4c-b374-4160-a473-d1c2f9f0867c",
   "metadata": {},
   "outputs": [],
   "source": [
    "state_vec.to_dict()"
   ]
  },
  {
   "cell_type": "markdown",
   "id": "d7b80730-6b20-4c60-b97d-fc3d8ce88d8d",
   "metadata": {},
   "source": [
    "## QRAM DATA ENCODING \n",
    "#### Extract values for reference state $|a\\rangle$ and superposition of all others $|b\\rangle$"
   ]
  },
  {
   "cell_type": "code",
   "execution_count": null,
   "id": "05c48955-c1fe-46b6-be29-1ba35052b746",
   "metadata": {},
   "outputs": [],
   "source": [
    "from qiskit.quantum_info import Statevector\n",
    "def qram_encoding(inputs):\n",
    "    inputs = distc.pad_input(inputs)\n",
    "    N = len(inputs)\n",
    "    n_qubits = int(math.log2(N))\n",
    "    \n",
    "    # statevector 1\n",
    "    address = QuantumRegister(n_qubits, \"address\")\n",
    "    qc_1 = QuantumCircuit(address, name='address_circ')\n",
    "    qc_1.h(address)\n",
    "    state_vec_a = Statevector.from_instruction(qc_1)\n",
    "    print(state_vec_a.to_dict())\n",
    "    \n",
    "    # statevector 2\n",
    "    data_values = QuantumRegister(n_qubits, \"values\") # with Ampl. Encoding\n",
    "    data_values_ampl, _ = amplitude_encoding(inputs)\n",
    "    qc_2 = QuantumCircuit(data_values, name='inputs_circ')\n",
    "    qc_2.initialize(data_values_ampl, data_values)\n",
    "    state_vec_v = Statevector.from_instruction(qc_2)\n",
    "    print(state_vec_v.to_dict())\n",
    "\n",
    "    state_vec_comb = state_vec_a.tensor(state_vec_v)\n",
    "    print(state_vec_comb.to_dict())\n",
    "    data = state_vec_comb.data\n",
    "    new_data=[]\n",
    "    for i, d in enumerate(data):\n",
    "        if i == 0 or i % (2**n_qubits + 1)==0:\n",
    "            new_data.append(d)\n",
    "        else:\n",
    "            new_data.append(0 + 0j)\n",
    "    new_data = ut.normalize(new_data) # imaginary part is discarded - watchout for later\n",
    "\n",
    "    state_vec_init = Statevector(data=new_data, dims=state_vec_comb.dims())\n",
    "    print(state_vec_init.to_dict())\n",
    "    # combined circuit\n",
    "    #qr_1 = QuantumRegister(n_qubits, \"a\")\n",
    "    #qr_2 = QuantumRegister(n_qubits, \"v\")\n",
    "    qc_comb = QuantumCircuit(n_qubits*2, name='qram_encoding')\n",
    "    qc_comb.initialize(state_vec_init)\n",
    "\n",
    "    state_vec = Statevector.from_instruction(qc_comb)\n",
    "    plot_bloch_multivector(state_vec)\n",
    "    print(state_vec.to_dict()) # slight change in values from state_vec_init - maybe it matters check!\n",
    "    return qc_comb, state_vec, state_vec_init"
   ]
  },
  {
   "cell_type": "code",
   "execution_count": null,
   "id": "03cc9ec0-9a18-4888-8c11-43543ed7680f",
   "metadata": {},
   "outputs": [],
   "source": [
    "inputs = ut.normalize(inputs)\n",
    "np.round_(inputs, decimals=4)"
   ]
  },
  {
   "cell_type": "code",
   "execution_count": null,
   "id": "96fcd8d9-0498-4c1d-b10c-93954567881b",
   "metadata": {},
   "outputs": [],
   "source": [
    "inputs = np.array([1.3,2.2,5.3,0.4])\n",
    "k = len(inputs)\n",
    "n_qubits = int(math.log2(k))"
   ]
  },
  {
   "cell_type": "code",
   "execution_count": null,
   "id": "cad4b797-c528-4b39-9ab3-5eeb11a661c0",
   "metadata": {},
   "outputs": [],
   "source": [
    "n_qubits"
   ]
  },
  {
   "cell_type": "code",
   "execution_count": null,
   "id": "a835e822-c137-40d4-956f-0098256add84",
   "metadata": {},
   "outputs": [],
   "source": [
    "qc, _, state_vector_b = qram_encoding(inputs)"
   ]
  },
  {
   "cell_type": "code",
   "execution_count": null,
   "id": "19bdd73a-e189-42cd-9391-c9ecf571dc35",
   "metadata": {},
   "outputs": [],
   "source": [
    "plot_bloch_multivector(state_vector_b)"
   ]
  },
  {
   "cell_type": "code",
   "execution_count": null,
   "id": "2bdefe3c-62f3-4d8e-963b-57a0d072f5a1",
   "metadata": {},
   "outputs": [],
   "source": [
    "def get_per_qubit_params(statevector, n_qubits):\n",
    "    bloch_data = (_bloch_multivector_data(statevector))\n",
    "    print(bloch_data)\n",
    "    \n",
    "    phi=[]; theta=[]\n",
    "    x=[]; y=[]; z=[]\n",
    "    for n in range(n_qubits):\n",
    "        qubit_vec = bloch_data[n]\n",
    "        x.append((qubit_vec[0]))\n",
    "        y.append((qubit_vec[1]))\n",
    "        z.append((qubit_vec[2]))\n",
    "        if qubit_vec[0] == 0.0: phi.append(0.)\n",
    "        else: phi.append(math.atan(qubit_vec[1]/qubit_vec[0]))\n",
    "        theta.append(math.acos(qubit_vec[2]))\n",
    "    return x, y, z, phi, theta     # because you can use RVGate to rotate using x, y, z\n"
   ]
  },
  {
   "cell_type": "code",
   "execution_count": null,
   "id": "662050d7-3df1-4981-a0bb-f4ea84eec0bd",
   "metadata": {},
   "outputs": [],
   "source": [
    "# get statevector bit by bit for \\a>\n",
    "index_rand = np.random.choice(list(range(k))) # random index of reference state\n",
    "print(index_rand)\n",
    "#threshold = inputs[index_rand]\n",
    "\n",
    "thresh_bin = np.binary_repr(int(index_rand), width=int(n_qubits))\n",
    "reference_state_string = str(thresh_bin)*2\n",
    "reference_state_ampl = state_vector_b.to_dict()[reference_state_string]\n",
    "print(reference_state_string)\n",
    "\n",
    "amplitudes = np.zeros(2**(n_qubits*2))\n",
    "print(amplitudes)\n",
    "amplitudes[int(reference_state_string,2)] = reference_state_ampl\n",
    "print(amplitudes)\n",
    "#amplitudes = ut.normalize(amplitudes) # --- then your statevector is 100% in this state, needs to be\n",
    "\n",
    "state_vec_init_a = Statevector(data=amplitudes)\n",
    "print(state_vec_init_a.to_dict())\n",
    "\n",
    "#qc_a = QuantumCircuit(n_qubits*2)\n",
    "#qc_a.initialize(state_vec_init_a)\n",
    "\n",
    "x_a, y_a, z_a, phi_a, theta_a = get_per_qubit_params(state_vec_init_a, n_qubits*2)\n",
    "x_a, y_a, z_a, phi_a, theta_a"
   ]
  },
  {
   "cell_type": "code",
   "execution_count": null,
   "id": "fbf7dbec-d408-40e4-b2b9-7a8993156812",
   "metadata": {},
   "outputs": [],
   "source": [
    "plot_bloch_multivector(state_vec_init_a)"
   ]
  },
  {
   "cell_type": "code",
   "execution_count": null,
   "id": "19d1b538-3d5f-4b4a-b07b-b944bb15faaf",
   "metadata": {},
   "outputs": [],
   "source": [
    "# get statevector bit by bit for \\b>\n",
    "\n",
    "x_b, y_b, z_b, phi_b, theta_b = get_per_qubit_params(state_vector_b, n_qubits*2)\n",
    "x_b, y_b, z_b, phi_b, theta_b"
   ]
  },
  {
   "cell_type": "code",
   "execution_count": null,
   "id": "09372f4f-b945-4125-9c02-6ed3f140e3e0",
   "metadata": {},
   "outputs": [],
   "source": [
    "# for basis encoding\n",
    "\n",
    "# a\n",
    "#_,_,_, phi_a, theta_a = get_per_qubit_params(state_vec_a, n_qubits[0])\n",
    "\n",
    "# b\n",
    "_,_,_, phi_b, theta_b = get_per_qubit_params(state_vec_b, n_qubits[0])"
   ]
  },
  {
   "cell_type": "markdown",
   "id": "b090c18d-a94e-4eab-9521-23ec918e739d",
   "metadata": {},
   "source": [
    "## Define Quantum Bit Comparator Circuit (QBSC)"
   ]
  },
  {
   "cell_type": "code",
   "execution_count": null,
   "id": "e308d3e1-2aa1-42f3-8874-7119d99f1891",
   "metadata": {},
   "outputs": [],
   "source": [
    "from qiskit.circuit.library.generalized_gates.rv import RVGate"
   ]
  },
  {
   "cell_type": "code",
   "execution_count": null,
   "id": "cfe95a04-6275-437e-98fe-08317c91e07f",
   "metadata": {},
   "outputs": [],
   "source": [
    "n_qubits=2"
   ]
  },
  {
   "cell_type": "code",
   "execution_count": null,
   "id": "3932eaa6-ba10-40bc-825c-11d30bccdf34",
   "metadata": {},
   "outputs": [],
   "source": [
    "n_qubits_qbsc = n_qubits[0]*2 + (3*(n_qubits[0]-1) + 2)\n",
    "n_qubits_qbsc, n_qubits[0]"
   ]
  },
  {
   "cell_type": "code",
   "execution_count": null,
   "id": "1c1f4d04-982f-4510-ab73-a3855684fce6",
   "metadata": {},
   "outputs": [],
   "source": [
    "n_qubits_arr = n_qubits\n",
    "n_qubits = n_qubits_arr[0]"
   ]
  },
  {
   "cell_type": "code",
   "execution_count": null,
   "id": "7cf9693f-5c9e-4c31-9b6c-d24cdc06dc12",
   "metadata": {},
   "outputs": [],
   "source": [
    "n_qubits"
   ]
  },
  {
   "cell_type": "code",
   "execution_count": null,
   "id": "06ea4b46-7c58-4f6f-b7e8-7e2b499f6202",
   "metadata": {},
   "outputs": [],
   "source": [
    "bin_thresh = np.binary_repr(int(threshold), width=int(n_qubits))\n",
    "bin_thresh = list(bin_thresh)\n",
    "#bin_thresh = list(new_threshold) # from below\n",
    "bin_thresh"
   ]
  },
  {
   "cell_type": "code",
   "execution_count": null,
   "id": "2595da7c-6786-4559-a1ee-c35c0fecfcc2",
   "metadata": {},
   "outputs": [],
   "source": [
    "#cr_a=ClassicalRegister(2,name='a')\n",
    "#cr_b=ClassicalRegister(2, name='b')\n",
    "\n",
    "qc_qbsc = QuantumCircuit(n_qubits_qbsc+2, n_qubits, name='QBSC') # +1 = ancilla for grover |+> + ancilla for oracle\n",
    "i=0\n",
    "j_a=0; assign_a=False\n",
    "j_b=0; assign_b=True\n",
    "while i < n_qubits_qbsc:\n",
    "    if not assign_a:\n",
    "        print(i)\n",
    "        #qc_qbsc.rv(x_a[j_a],y_a[j_a], z_a[j_a], qubit=i)\n",
    "        if bin_thresh[j_a]=='1':\n",
    "            qc_qbsc.x(i)\n",
    "        #qc_qbsc.(theta_a[j_a],phi_a[j_a], qubit=i)\n",
    "        j_a+=1\n",
    "        assign_a = True\n",
    "        assign_b = False\n",
    "        i+=1\n",
    "        continue\n",
    "    if not assign_b:\n",
    "        print(i)\n",
    "        #qc_qbsc.rv(x_b[j_b], y_b[j_b], z_b[j_b], qubit=i)\n",
    "        qc_qbsc.r(theta_b[j_b], phi_b[j_b], qubit=i)\n",
    "        j_b+=1\n",
    "        assign_b = True\n",
    "        assign_a = False\n",
    "        i+=4\n",
    "        continue\n",
    "        "
   ]
  },
  {
   "cell_type": "code",
   "execution_count": null,
   "id": "f963fece-2543-49d1-8bdd-458e882de337",
   "metadata": {},
   "outputs": [],
   "source": [
    "qc_qbsc.draw()"
   ]
  },
  {
   "cell_type": "code",
   "execution_count": null,
   "id": "7b7c9d10-9ae5-41e4-bb65-637a9a5b2eeb",
   "metadata": {},
   "outputs": [],
   "source": [
    "# qc_qbsc.x(5)\n",
    "# qc_qbsc.h(1)\n",
    "# qc_qbsc.h(6)"
   ]
  },
  {
   "cell_type": "code",
   "execution_count": null,
   "id": "84705984-f889-4fa3-a411-20a1350d3e01",
   "metadata": {},
   "outputs": [],
   "source": [
    "qc_qbsc.x(n_qubits_qbsc)\n",
    "qc_qbsc.h(n_qubits_qbsc)"
   ]
  },
  {
   "cell_type": "code",
   "execution_count": null,
   "id": "e6bac97f-30d6-4b95-af28-7c567259e2bc",
   "metadata": {},
   "outputs": [],
   "source": [
    "# U3\n",
    "j_b=0\n",
    "for i in range(n_qubits_qbsc):\n",
    "    if i % (j_b*5+1)==0 and i != 0:\n",
    "        qc_qbsc.x(i)\n",
    "        j_b+=1\n",
    "#qc_qbsc.draw()"
   ]
  },
  {
   "cell_type": "code",
   "execution_count": null,
   "id": "7d872f5f-10dc-46cb-95fb-f818d8bcdf51",
   "metadata": {},
   "outputs": [],
   "source": [
    "# C1\n",
    "i=0\n",
    "while i < n_qubits_qbsc:\n",
    "    #if i+5 > n_qubits_qbsc: break\n",
    "    qc_qbsc.ccx(i, i+1, i+2)\n",
    "    i = i+5\n",
    "#qc_qbsc.draw()"
   ]
  },
  {
   "cell_type": "code",
   "execution_count": null,
   "id": "6a57176b-1e44-4827-a022-4943a3aa02fd",
   "metadata": {},
   "outputs": [],
   "source": [
    "i=0\n",
    "while i < n_qubits_qbsc:\n",
    "    #if i+5 > n_qubits_qbsc: break\n",
    "    qc_qbsc.x(i)\n",
    "    qc_qbsc.x(i+1)\n",
    "    i += 5\n",
    "#qc_qbsc.draw()"
   ]
  },
  {
   "cell_type": "code",
   "execution_count": null,
   "id": "3f83dd34-9f4a-449b-8320-3913bd772a10",
   "metadata": {},
   "outputs": [],
   "source": [
    "# C2\n",
    "i=0\n",
    "while i < n_qubits_qbsc:\n",
    "    #if i+5 > n_qubits_qbsc: break\n",
    "    qc_qbsc.ccx(i, i+1, i+3)\n",
    "    i = i+5\n",
    "#qc_qbsc.draw()"
   ]
  },
  {
   "cell_type": "code",
   "execution_count": null,
   "id": "cc217fd0-3a7d-4baa-9bd3-4acc7e1b30d3",
   "metadata": {},
   "outputs": [],
   "source": [
    "i=0\n",
    "while i < n_qubits_qbsc:\n",
    "    qc_qbsc.x(i)\n",
    "    i=i+5\n",
    "#qc_qbsc.draw()"
   ]
  },
  {
   "cell_type": "code",
   "execution_count": null,
   "id": "45a14eaa-23d4-4d64-bb9d-5eaf53ad26d4",
   "metadata": {},
   "outputs": [],
   "source": [
    "qc_qbsc.barrier()\n",
    "#qc_qbsc.draw()"
   ]
  },
  {
   "cell_type": "code",
   "execution_count": null,
   "id": "7046977d-eafa-4f86-91d7-c48d1e7eabc9",
   "metadata": {},
   "outputs": [],
   "source": [
    "# C3 - check for domination in 1st, 2nd, etc, bits and use next one in row if a_i = b_i\n",
    "i=2\n",
    "while i < n_qubits_qbsc:\n",
    "    qc_qbsc.x(i)\n",
    "    qc_qbsc.x(i+1)\n",
    "    i=i+4\n",
    "i=2\n",
    "while i < n_qubits_qbsc:\n",
    "    qc_qbsc.ccx(i, i+1, i+2)\n",
    "    i=i+4\n",
    "i=2\n",
    "while i < n_qubits_qbsc:\n",
    "    qc_qbsc.x(i)\n",
    "    qc_qbsc.x(i+1)\n",
    "    i=i+4"
   ]
  },
  {
   "cell_type": "code",
   "execution_count": null,
   "id": "5e16b42c-0ef8-41d4-8ab5-08a0d8b77303",
   "metadata": {},
   "outputs": [],
   "source": [
    "qc_qbsc.barrier()\n",
    "qc_qbsc.draw()"
   ]
  },
  {
   "cell_type": "code",
   "execution_count": null,
   "id": "4f63e6ce-8386-490f-b525-9898a21dcee2",
   "metadata": {},
   "outputs": [],
   "source": [
    "i = n_qubits_qbsc-1\n",
    "\n",
    "while i - 5 > 0:\n",
    "    print(\"here\")\n",
    "    qc_qbsc.ccx(i-1, i-4, i-6)\n",
    "    qc_qbsc.ccx(i, i-4, i-5)\n",
    "    qc_qbsc.barrier()\n",
    "    i-=5\n",
    "    print(i)"
   ]
  },
  {
   "cell_type": "code",
   "execution_count": null,
   "id": "12c3cdca-4108-45ec-93db-f9c5dd7b0b9e",
   "metadata": {},
   "outputs": [],
   "source": [
    "qc_qbsc.cx(3, n_qubits_qbsc+1) # measure O2\n",
    "qc_qbsc.x(2)\n",
    "qc_qbsc.x(3)\n",
    "qc_qbsc.ccx(2, 3, n_qubits_qbsc+1)\n",
    "qc_qbsc.x(2)\n",
    "qc_qbsc.x(3)\n",
    "qc_qbsc.barrier()\n",
    "qc_qbsc.cx(n_qubits_qbsc+1, n_qubits_qbsc)\n",
    "qc_qbsc.barrier()\n",
    "#qc_qbsc.measure(3, 2)\n",
    "# qc_qbsc.measure(1, 0)\n",
    "# qc_qbsc.measure(6, 1)\n",
    "\n",
    "#mirror\n",
    "qc_qbsc.x(2)\n",
    "qc_qbsc.x(3)\n",
    "qc_qbsc.ccx(2, 3, n_qubits_qbsc+1)\n",
    "qc_qbsc.x(2)\n",
    "qc_qbsc.x(3)\n",
    "qc_qbsc.cx(3, n_qubits_qbsc+1) # measure O2\n",
    "qc_qbsc.barrier()\n",
    "qc_qbsc.draw()"
   ]
  },
  {
   "cell_type": "code",
   "execution_count": null,
   "id": "68d9797d-d4f0-4b4a-b1ec-44405808f416",
   "metadata": {},
   "outputs": [],
   "source": []
  },
  {
   "cell_type": "code",
   "execution_count": null,
   "id": "0c21fc99-a96c-470d-8d1f-1cc801bf2c65",
   "metadata": {},
   "outputs": [],
   "source": [
    "# if you measure O2\n",
    "# simulator = Aer.get_backend('qasm_simulator')\n",
    "# circ = transpile(qc_qbsc, simulator)\n",
    "\n",
    "# # Run and get counts\n",
    "# result = simulator.run(qc_qbsc, shots=1024).result()\n",
    "# counts = result.get_counts(qc_qbsc)\n",
    "# plot_histogram(counts)"
   ]
  },
  {
   "cell_type": "code",
   "execution_count": null,
   "id": "af32fffc-7d16-42b4-8318-a8142ac0977b",
   "metadata": {},
   "outputs": [],
   "source": [
    "index_rand"
   ]
  },
  {
   "cell_type": "code",
   "execution_count": null,
   "id": "cab1aa18-ea9c-47c9-ab83-e8cbbc416c08",
   "metadata": {},
   "outputs": [],
   "source": [
    "## MIRROR back\n",
    "i = n_qubits_qbsc-1\n",
    "\n",
    "while i - 5> 0:\n",
    "    qc_qbsc.ccx(i, i-4, i-5)\n",
    "    qc_qbsc.ccx(i-1, i-4, i-6)\n",
    "    qc_qbsc.barrier()\n",
    "    i-=5"
   ]
  },
  {
   "cell_type": "code",
   "execution_count": null,
   "id": "04f0f4cd-667a-4d10-b40f-d737fed9ab49",
   "metadata": {},
   "outputs": [],
   "source": [
    "# C3 - check for domination in 1st, 2nd, etc, bits and use next one in row if a_i = b_i\n",
    "i=2\n",
    "while i < n_qubits_qbsc:\n",
    "    qc_qbsc.x(i)\n",
    "    qc_qbsc.x(i+1)\n",
    "    i=i+4\n",
    "i=2\n",
    "while i < n_qubits_qbsc:\n",
    "    qc_qbsc.ccx(i, i+1, i+2)\n",
    "    i=i+4\n",
    "i=2\n",
    "while i < n_qubits_qbsc:\n",
    "    qc_qbsc.x(i)\n",
    "    qc_qbsc.x(i+1)\n",
    "    i=i+4\n",
    "qc_qbsc.barrier()"
   ]
  },
  {
   "cell_type": "code",
   "execution_count": null,
   "id": "c6628c14-c7fb-46c8-8b9f-8ac6d9e146cd",
   "metadata": {},
   "outputs": [],
   "source": [
    "i=0\n",
    "while i < n_qubits_qbsc:\n",
    "    qc_qbsc.x(i)\n",
    "    i=i+5"
   ]
  },
  {
   "cell_type": "code",
   "execution_count": null,
   "id": "86f7cf80-a857-41b3-a965-f7695aadb3f0",
   "metadata": {},
   "outputs": [],
   "source": [
    "# C2\n",
    "i=0\n",
    "while i < n_qubits_qbsc:\n",
    "    #if i+5 > n_qubits_qbsc: break\n",
    "    qc_qbsc.ccx(i, i+1, i+3)\n",
    "    i = i+5"
   ]
  },
  {
   "cell_type": "code",
   "execution_count": null,
   "id": "882b8164-efed-41d3-9d6b-804ad1088197",
   "metadata": {},
   "outputs": [],
   "source": [
    "i=0\n",
    "while i < n_qubits_qbsc:\n",
    "    #if i+5 > n_qubits_qbsc: break\n",
    "    qc_qbsc.x(i)\n",
    "    qc_qbsc.x(i+1)\n",
    "    i += 5"
   ]
  },
  {
   "cell_type": "code",
   "execution_count": null,
   "id": "d40c0a12-8b89-4a62-acac-28980cf0f245",
   "metadata": {},
   "outputs": [],
   "source": [
    "# C1\n",
    "i=0\n",
    "while i < n_qubits_qbsc:\n",
    "    #if i+5 > n_qubits_qbsc: break\n",
    "    qc_qbsc.ccx(i, i+1, i+2)\n",
    "    i = i+5"
   ]
  },
  {
   "cell_type": "code",
   "execution_count": null,
   "id": "e11f9a47-1725-474c-8436-d36b80ef0fda",
   "metadata": {},
   "outputs": [],
   "source": [
    "# U3\n",
    "j_b=0\n",
    "for i in range(n_qubits_qbsc):\n",
    "    if i % (j_b*5+1)==0 and i != 0:\n",
    "        qc_qbsc.x(i)\n",
    "        j_b+=1"
   ]
  },
  {
   "cell_type": "code",
   "execution_count": null,
   "id": "bae4dccc-41d0-4e4c-ba73-644369cb77df",
   "metadata": {},
   "outputs": [],
   "source": [
    "qc_qbsc.barrier()"
   ]
  },
  {
   "cell_type": "code",
   "execution_count": null,
   "id": "1d70ef6c-c0e9-4bc4-a0e6-8c20f3af0e15",
   "metadata": {},
   "outputs": [],
   "source": [
    "# qc_qbsc.measure(1, 0)\n",
    "# qc_qbsc.measure(6, 1)"
   ]
  },
  {
   "cell_type": "code",
   "execution_count": null,
   "id": "ad464705-10dd-4bf6-9ba2-bc5e07453cc4",
   "metadata": {},
   "outputs": [],
   "source": [
    "simulator = Aer.get_backend('qasm_simulator')\n",
    "circ = transpile(qc_qbsc, simulator)\n",
    "\n",
    "# Run and get counts\n",
    "result = simulator.run(qc_qbsc, shots=1024).result()\n",
    "counts = result.get_counts(qc_qbsc)\n",
    "plot_histogram(counts)"
   ]
  },
  {
   "cell_type": "code",
   "execution_count": null,
   "id": "8090b95f-27e3-4ba1-9989-362d9c4a97f2",
   "metadata": {},
   "outputs": [],
   "source": [
    "index_rand"
   ]
  },
  {
   "cell_type": "code",
   "execution_count": null,
   "id": "fe2bc5cc-896a-42fe-99ba-3c78c6f6d26e",
   "metadata": {},
   "outputs": [],
   "source": [
    "## inversion around mean\n",
    "qubit=1\n",
    "controlled_qbits=[]\n",
    "while qubit < n_qubits_qbsc:\n",
    "    if qubit+5<n_qubits_qbsc:\n",
    "        controlled_qbits.append(qubit)\n",
    "    qc_qbsc.h(qubit) # apply H-gate\n",
    "    qc_qbsc.x(qubit) # apply X-gate\n",
    "    qubit+=5\n",
    "print(qubit)\n",
    "qc_qbsc.h(qubit-5)\n",
    "qc_qbsc.mct(controlled_qbits, qubit-5)\n",
    "qc_qbsc.h(qubit-5)\n",
    "\n",
    "qubit=1\n",
    "while qubit < n_qubits_qbsc:\n",
    "    qc_qbsc.x(qubit) # apply H-gate\n",
    "    qc_qbsc.h(qubit) # apply X-gate\n",
    "    qubit+=5"
   ]
  },
  {
   "cell_type": "code",
   "execution_count": null,
   "id": "d69354a8-7698-49e2-baef-ffccfa890f4f",
   "metadata": {},
   "outputs": [],
   "source": [
    "r_i = int(math.floor(np.pi/4*np.sqrt(n_qubits_qbsc)))\n",
    "r_i"
   ]
  },
  {
   "cell_type": "code",
   "execution_count": null,
   "id": "645db6ac-fe0a-48e6-98a4-dac7a4c681cc",
   "metadata": {},
   "outputs": [],
   "source": [
    "# Grover\n",
    "\n",
    "r_i = int(math.floor(np.pi/4*np.sqrt(2**n_qubits)))\n",
    "\n",
    "qc_qbsc.measure(list([1, 6, 11]), list(range(n_qubits)))\n",
    "qc_qbsc.draw()"
   ]
  },
  {
   "cell_type": "code",
   "execution_count": null,
   "id": "01198fb1-24c2-4143-b67d-7d81c3bf5995",
   "metadata": {},
   "outputs": [],
   "source": [
    "max_iters = int(math.ceil(np.sqrt(n_qubits_qbsc)))\n",
    "max_iters"
   ]
  },
  {
   "cell_type": "code",
   "execution_count": null,
   "id": "80c750de-85f9-40cb-8c61-a035357af2ca",
   "metadata": {},
   "outputs": [],
   "source": [
    "r_i = int(math.floor(np.pi/4*np.sqrt(2**(n_qubits*2))))\n",
    "r_i"
   ]
  },
  {
   "cell_type": "code",
   "execution_count": null,
   "id": "a901ee65-0f59-4c78-89cf-fe11d8da0115",
   "metadata": {},
   "outputs": [],
   "source": [
    "c=[]\n",
    "for _ in range(1):\n",
    "\n",
    "    # Transpile for simulator\n",
    "    simulator = Aer.get_backend('qasm_simulator')\n",
    "    circ = transpile(qc_qbsc, simulator)\n",
    "\n",
    "    # Run and get counts\n",
    "    result = simulator.run(qc_qbsc, shots=1024).result()\n",
    "    counts = result.get_counts(qc_qbsc)\n",
    "    c.append(counts)\n",
    "    # #measure highest probability\n",
    "    # probs = counts.items()\n",
    "    # sorted_probs = dict(sorted(probs, key=lambda item: item[1], reverse=True))\n",
    "    # sorted_probs_keys = list(sorted_probs.keys())\n",
    "    # new_ix = [int(sorted_probs_keys[i],2) for i, _ in enumerate(sorted_probs_keys) if int(sorted_probs_keys[i],2) < k]\n",
    "    # new_ix = new_ix[0]\n",
    "    # threshold = distances[new_ix]"
   ]
  },
  {
   "cell_type": "code",
   "execution_count": null,
   "id": "5c5e4422-aeb9-400f-bc07-5df3262a6ae9",
   "metadata": {},
   "outputs": [],
   "source": [
    "plot_histogram(c[0])"
   ]
  },
  {
   "cell_type": "code",
   "execution_count": null,
   "id": "0ffc7719-ed62-4dda-938d-8e2aab723180",
   "metadata": {},
   "outputs": [],
   "source": [
    "threshold"
   ]
  },
  {
   "cell_type": "markdown",
   "id": "825970ff-d290-4c78-b6e3-2eea1d35f74d",
   "metadata": {},
   "source": [
    "# YAAAAAAAAY!"
   ]
  },
  {
   "cell_type": "code",
   "execution_count": null,
   "id": "2cc68702-b26c-4ef4-a237-f3a296c3722f",
   "metadata": {},
   "outputs": [],
   "source": [
    "probs = counts.items()\n",
    "probs\n",
    "sorted_probs = dict(sorted(probs, key=lambda item: item[1], reverse=True))\n",
    "sorted_probs_keys = list(sorted_probs.keys())\n",
    "if sorted_probs_keys[0] == np.binary_repr(threshold, width=n_qubits):\n",
    "    best = sorted_probs_keys[1]\n",
    "else:\n",
    "    best = sorted_probs_keys[0]\n",
    "best\n",
    "# new_threshold = sorted_probs_keys[0]"
   ]
  },
  {
   "cell_type": "code",
   "execution_count": null,
   "id": "6350384b-f237-4905-9821-3460ab85c5b0",
   "metadata": {},
   "outputs": [],
   "source": [
    "sorted_probs_keys"
   ]
  },
  {
   "cell_type": "code",
   "execution_count": null,
   "id": "8077ae2b-6b9d-43b5-9dfb-4d9904765f12",
   "metadata": {},
   "outputs": [],
   "source": [
    "new_threshold"
   ]
  },
  {
   "cell_type": "code",
   "execution_count": null,
   "id": "3a1da5fa-a4e0-4d37-82fe-06d4ff2963fb",
   "metadata": {},
   "outputs": [],
   "source": [
    "plot_histogram(c[2])"
   ]
  },
  {
   "cell_type": "code",
   "execution_count": null,
   "id": "b351f323-2f9f-4bf6-8719-7590fddb3378",
   "metadata": {},
   "outputs": [],
   "source": [
    "plot_histogram(c[3])"
   ]
  },
  {
   "cell_type": "code",
   "execution_count": null,
   "id": "cd8d41dc-f605-402c-bd9e-be5787b9a1f9",
   "metadata": {},
   "outputs": [],
   "source": [
    "thresh_bin, inputs"
   ]
  },
  {
   "cell_type": "code",
   "execution_count": null,
   "id": "d8198f72-23c0-44d7-85b9-bd9e182fb8fc",
   "metadata": {},
   "outputs": [],
   "source": [
    "index_rand"
   ]
  },
  {
   "cell_type": "code",
   "execution_count": null,
   "id": "3a0e4183-409f-4dee-aa4b-6056909cc276",
   "metadata": {},
   "outputs": [],
   "source": [
    "distances[:20]"
   ]
  },
  {
   "cell_type": "code",
   "execution_count": null,
   "id": "8af2d8fd-b23d-4ddc-b029-8293e4e792ef",
   "metadata": {},
   "outputs": [],
   "source": [
    "distances = [[10,3,5,1], [4,2,6,9]]"
   ]
  },
  {
   "cell_type": "markdown",
   "id": "262058c4-a35c-4a26-bafd-0cac7df56441",
   "metadata": {},
   "source": [
    "## Test script for Grover"
   ]
  },
  {
   "cell_type": "code",
   "execution_count": null,
   "id": "193d7bc2-5292-4817-987f-179b18eea3d6",
   "metadata": {},
   "outputs": [],
   "source": [
    "# import scripts.QBSC_grover as qbscg\n",
    "import importlib\n",
    "importlib.reload(qbscg)\n",
    "\n",
    "for d in distances[:10]:\n",
    "    print(d)\n",
    "    minimum, qc, qc_inv_mean, qc_total, counts = qbscg.grover_algo(d, int(latent_dim))\n",
    "    #qc_total, counts = qbscg.grover_algo(d, int(latent_dim))\n",
    "    #qc.draw()"
   ]
  },
  {
   "cell_type": "code",
   "execution_count": null,
   "id": "ac15e066-b357-427a-80ea-4c94bcfe57b6",
   "metadata": {},
   "outputs": [],
   "source": [
    "qc_total.draw()"
   ]
  },
  {
   "cell_type": "code",
   "execution_count": null,
   "id": "cac1cf47-479b-4a16-9f4a-33214f158eed",
   "metadata": {},
   "outputs": [],
   "source": [
    "plot_histogram(counts)"
   ]
  },
  {
   "cell_type": "code",
   "execution_count": null,
   "id": "f2c3c2ff-1966-4c77-a48c-5e87244f280d",
   "metadata": {},
   "outputs": [],
   "source": [
    "qc.draw()"
   ]
  },
  {
   "cell_type": "code",
   "execution_count": null,
   "id": "d3e08e50-4469-4042-b01b-7b70e19fc7d2",
   "metadata": {},
   "outputs": [],
   "source": [
    "qc_inv_mean.draw()"
   ]
  },
  {
   "cell_type": "code",
   "execution_count": null,
   "id": "f38986b4-5b23-4957-9a76-ad2e317250d6",
   "metadata": {},
   "outputs": [],
   "source": [
    "qc_total.draw()"
   ]
  },
  {
   "cell_type": "code",
   "execution_count": null,
   "id": "47b0fef3-01bf-46c8-aa8c-be8a38ee246b",
   "metadata": {},
   "outputs": [],
   "source": []
  }
 ],
 "metadata": {
  "kernelspec": {
   "display_name": "Python 3 (ipykernel)",
   "language": "python",
   "name": "python3"
  },
  "language_info": {
   "codemirror_mode": {
    "name": "ipython",
    "version": 3
   },
   "file_extension": ".py",
   "mimetype": "text/x-python",
   "name": "python",
   "nbconvert_exporter": "python",
   "pygments_lexer": "ipython3",
   "version": "3.8.12"
  }
 },
 "nbformat": 4,
 "nbformat_minor": 5
}
