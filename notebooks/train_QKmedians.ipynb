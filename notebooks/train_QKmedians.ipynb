{
 "cells": [
  {
   "cell_type": "code",
   "execution_count": 1,
   "id": "0c63b3f7-5729-41e3-9ffd-28a4f9ee0e93",
   "metadata": {},
   "outputs": [
    {
     "name": "stderr",
     "output_type": "stream",
     "text": [
      "[Qibo 0.1.6|INFO|2022-08-19 14:15:01]: Using qibojit backend on /GPU:0\n",
      "[Qibo 0.1.6|INFO|2022-08-19 14:15:08]: Using tensorflow backend on /device:GPU:0\n"
     ]
    }
   ],
   "source": [
    "import sys\n",
    "sys.path.append('../../../../../')\n",
    "import setGPU\n",
    "import numpy as np\n",
    "import matplotlib.pyplot as plt\n",
    "import matplotlib\n",
    "%matplotlib inline\n",
    "import math\n",
    "import h5py\n",
    "import qibo\n",
    "qibo.set_backend(\"tensorflow\")\n",
    "sys.path.append('../')\n",
    "sys.path.append('../../')\n",
    "sys.path.append('/eos/home-e/epuljak/private/epuljak/Autoencoders')\n",
    "import scripts.qkmeans as qkm\n",
    "import scripts.minimization as m \n",
    "import scripts.qkmedians as qkmed\n",
    "import scripts.oracle as o\n",
    "import scripts.kmedians as kmed\n",
    "import utils as u\n",
    "import plots as p"
   ]
  },
  {
   "cell_type": "code",
   "execution_count": 2,
   "id": "a7e94c20-fd66-46fd-9c0b-aaa30bdea09a",
   "metadata": {},
   "outputs": [],
   "source": [
    "qibo.set_device(\"/GPU:0\")"
   ]
  },
  {
   "cell_type": "code",
   "execution_count": 3,
   "id": "183a1d23-29b7-403e-8d95-61f5b4550960",
   "metadata": {},
   "outputs": [],
   "source": [
    "root_dir='/eos/user/e/epuljak/private/epuljak'"
   ]
  },
  {
   "cell_type": "code",
   "execution_count": null,
   "id": "761e6863-5268-4d59-bc05-de3c08b45c47",
   "metadata": {},
   "outputs": [],
   "source": [
    "#p.plot_latent_representations(data_s, cluster_label_s, f'{root_dir}/PhD/TN/QIBO/search_algorithms/plots/latent_dim8', f'latent_feature_pairs_jets_qkmedians_{run}_Durr_DI_AE_SIGNALdata' )"
   ]
  },
  {
   "cell_type": "code",
   "execution_count": null,
   "id": "efd83009-1eea-49d2-ad20-476f46027847",
   "metadata": {},
   "outputs": [],
   "source": [
    "# data = [q_distances, q_distances_s, c_distances, c_distances_s]\n",
    "# p.plot_sum_distance_compare(data, name_signal='GtWWna35', normalize=False, id_fig=f'300', save_dir=f'{root_dir}/PhD/TN/QIBO/search_algorithms/plots/latent_dim25')"
   ]
  },
  {
   "cell_type": "markdown",
   "id": "05c5a32b-ca47-420b-923e-387908fe7e32",
   "metadata": {},
   "source": [
    "#### Compare ROCs"
   ]
  },
  {
   "cell_type": "code",
   "execution_count": null,
   "id": "1c03f3c6-79f3-4369-8cf0-c68ba8ac1e7d",
   "metadata": {},
   "outputs": [],
   "source": [
    "# change classical back to cluster assignments"
   ]
  },
  {
   "cell_type": "code",
   "execution_count": null,
   "id": "dec23168-62b1-4d6b-996a-9e6731f8b963",
   "metadata": {},
   "outputs": [],
   "source": [
    "run0='29032022_1' #4\n",
    "run1='28032022_1' #5\n",
    "run2='24032022_1' #6\n",
    "run3='10022022_1' #8\n",
    "#run01='25032022_1' #8 second\n",
    "run4='22022022_1' #16\n",
    "run5='01032022_1' #24\n",
    "#run6='04032022_1' #25\n",
    "#run4='03032022_1' #26\n",
    "run6='01032022_2' #32\n",
    "run7='14032022_1' #40"
   ]
  },
  {
   "cell_type": "code",
   "execution_count": null,
   "id": "ba89f2e1-2ec9-4f38-81ed-7ff0a66e7184",
   "metadata": {},
   "outputs": [],
   "source": [
    "runs=[run0, run1, run2, run3, run4, run5, run6, run7]\n",
    "#runs=[run5]*9\n",
    "#runs=[run5]*2"
   ]
  },
  {
   "cell_type": "code",
   "execution_count": 12,
   "id": "1c9c9e56-cc49-4894-b47d-20bf24250a87",
   "metadata": {},
   "outputs": [],
   "source": [
    "n_samples_train=[10, 6000]\n",
    "#n_samples_train=[5, 10, 30, 50, 100, 300, 500, 1000, 10000]\n",
    "#n_samples_train=[600]*5"
   ]
  },
  {
   "cell_type": "code",
   "execution_count": 13,
   "id": "95101daf-f2b5-4db0-9fa9-fe179e347bb1",
   "metadata": {},
   "outputs": [],
   "source": [
    "#identifiers=['4', '8', '16', '24', '32']\n",
    "identifiers=['8', '8']\n",
    "#identifiers=['4 (argmin)', '5 (argmin)', '6 (argmin)', '8 (argmin)', '16 (argmin)', '24 (argmin)', '32 (argmin)', '40 (argmin)']\n",
    "#identifiers=['5', '10', '30', '50', '100', '300', '500', '1000', '10000']\n",
    "#identifiers=['24', '24 - Grover']"
   ]
  },
  {
   "cell_type": "code",
   "execution_count": null,
   "id": "69f25a28-ae84-4716-a83a-e30b7daf52d6",
   "metadata": {},
   "outputs": [],
   "source": [
    "clusters=['2', '5', '10', '15']"
   ]
  },
  {
   "cell_type": "code",
   "execution_count": 14,
   "id": "715133c7-a518-4e9b-8518-bd765b02020e",
   "metadata": {},
   "outputs": [],
   "source": [
    "signal_name='RSGraviton_WW'\n",
    "#signal_name='AtoHZ_to_ZZZ'"
   ]
  },
  {
   "cell_type": "code",
   "execution_count": 15,
   "id": "fc11f1f6-940d-4092-8d0b-4551cc996972",
   "metadata": {},
   "outputs": [
    {
     "name": "stdout",
     "output_type": "stream",
     "text": [
      "(2000, 8)\n",
      "(2000, 8)\n",
      "(2000, 8)\n",
      "(2000, 8)\n",
      "(2000, 8)\n",
      "(2000, 8)\n",
      "(2000, 8)\n",
      "(2000, 8)\n",
      "(2000, 8)\n",
      "(2000, 8)\n",
      "(2000, 8)\n",
      "(2000, 8)\n",
      "(2000, 8)\n",
      "(2000, 8)\n",
      "(2000, 8)\n",
      "(2000, 8)\n",
      "(2000, 8)\n",
      "(2000, 8)\n",
      "(2000, 8)\n",
      "(2000, 8)\n",
      "Find Cluster Labels ---> 10.91989278793335 seconds ---\n",
      "Find Cluster Labels ---> 10.853245973587036 seconds ---\n",
      "Find Cluster Labels ---> 10.847728967666626 seconds ---\n",
      "Find Cluster Labels ---> 10.795499563217163 seconds ---\n",
      "Find Cluster Labels ---> 10.77996277809143 seconds ---\n",
      "Find Cluster Labels ---> 10.900406837463379 seconds ---\n",
      "Find Cluster Labels ---> 10.65216064453125 seconds ---\n",
      "Find Cluster Labels ---> 10.876890182495117 seconds ---\n",
      "Find Cluster Labels ---> 10.758670568466187 seconds ---\n",
      "Find Cluster Labels ---> 10.812758445739746 seconds ---\n",
      "Find Cluster Labels ---> 10.684707403182983 seconds ---\n",
      "Find Cluster Labels ---> 10.670864820480347 seconds ---\n",
      "Find Cluster Labels ---> 10.711763858795166 seconds ---\n",
      "Find Cluster Labels ---> 10.666523694992065 seconds ---\n",
      "Find Cluster Labels ---> 10.630534172058105 seconds ---\n",
      "Find Cluster Labels ---> 10.775837421417236 seconds ---\n",
      "Find Cluster Labels ---> 10.607386112213135 seconds ---\n",
      "Find Cluster Labels ---> 10.64883828163147 seconds ---\n",
      "Find Cluster Labels ---> 10.839131832122803 seconds ---\n",
      "Find Cluster Labels ---> 10.905752897262573 seconds ---\n",
      "Save n_folds=10 for id=8 for: time = 216.535058259964\n",
      "(2000, 8)\n",
      "(2000, 8)\n",
      "(2000, 8)\n",
      "(2000, 8)\n",
      "(2000, 8)\n",
      "(2000, 8)\n",
      "(2000, 8)\n",
      "(2000, 8)\n",
      "(2000, 8)\n",
      "(2000, 8)\n",
      "(2000, 8)\n",
      "(2000, 8)\n",
      "(2000, 8)\n",
      "(2000, 8)\n",
      "(2000, 8)\n",
      "(2000, 8)\n",
      "(2000, 8)\n",
      "(2000, 8)\n",
      "(2000, 8)\n",
      "(2000, 8)\n",
      "Find Cluster Labels ---> 10.608499526977539 seconds ---\n",
      "Find Cluster Labels ---> 10.799365282058716 seconds ---\n",
      "Find Cluster Labels ---> 10.579574584960938 seconds ---\n",
      "Find Cluster Labels ---> 10.665080070495605 seconds ---\n",
      "Find Cluster Labels ---> 10.808887958526611 seconds ---\n",
      "Find Cluster Labels ---> 10.65835165977478 seconds ---\n",
      "Find Cluster Labels ---> 10.980764627456665 seconds ---\n",
      "Find Cluster Labels ---> 10.36315131187439 seconds ---\n",
      "Find Cluster Labels ---> 10.454831600189209 seconds ---\n",
      "Find Cluster Labels ---> 10.886560916900635 seconds ---\n",
      "Find Cluster Labels ---> 10.724278211593628 seconds ---\n",
      "Find Cluster Labels ---> 10.979858875274658 seconds ---\n",
      "Find Cluster Labels ---> 10.480466604232788 seconds ---\n",
      "Find Cluster Labels ---> 10.869385719299316 seconds ---\n",
      "Find Cluster Labels ---> 10.726235389709473 seconds ---\n",
      "Find Cluster Labels ---> 10.672072887420654 seconds ---\n",
      "Find Cluster Labels ---> 10.731683492660522 seconds ---\n",
      "Find Cluster Labels ---> 10.634907960891724 seconds ---\n",
      "Find Cluster Labels ---> 10.5932137966156 seconds ---\n",
      "Find Cluster Labels ---> 10.381173610687256 seconds ---\n",
      "Save n_folds=10 for id=8 for: time = 214.29315376281738\n"
     ]
    }
   ],
   "source": [
    "quantum, classic = p.calc_AD_scores(identifiers, n_samples_train, k=2, test_size=10000, signal_name=signal_name, mass='35', br_na='NA', read_test_dir='/eos/user/e/epuljak/private/epuljak/public/AE_data/latent', split=True, n_folds=10)\n"
   ]
  },
  {
   "cell_type": "code",
   "execution_count": null,
   "id": "6ad51fff-ea94-45cb-97d8-656d5f6cc390",
   "metadata": {},
   "outputs": [],
   "source": [
    "quantum, classic = p.calc_AD_scores_nclusters(identifiers, n_samples_train, clusters, k=2, test_size=10000, signal_name=signal_name, mass='35', br_na='NA', read_test_dir='/eos/user/e/epuljak/private/epuljak/public/AE_data/latent')\n"
   ]
  },
  {
   "cell_type": "code",
   "execution_count": null,
   "id": "cfef869a-08fb-4050-9f7c-18871423ea2f",
   "metadata": {},
   "outputs": [],
   "source": [
    "import importlib\n",
    "importlib.reload(p)"
   ]
  },
  {
   "cell_type": "code",
   "execution_count": null,
   "id": "def7244c-a631-4b85-8b95-d5ac96ee2e56",
   "metadata": {},
   "outputs": [],
   "source": [
    "q = quantum # old"
   ]
  },
  {
   "cell_type": "code",
   "execution_count": null,
   "id": "29273f57-0f3c-4d69-9455-05b9065fc6c7",
   "metadata": {},
   "outputs": [],
   "source": [
    "p.plot_correlation_pT_AD_score('/eos/user/e/epuljak/private/epuljak/PhD/TN/QIBO/search_algorithms/notebooks/ad_scores/final',\\\n",
    "                              ids=identifiers, n_samples_train=n_samples_train,\\\n",
    "                              signal_name=signal_name, mass='35',br_na='NA',\\\n",
    "                              save_dir=f'{root_dir}/PhD/TN/QIBO/search_algorithms/plots/diJet/train600/GtoWW35NA/final')"
   ]
  },
  {
   "cell_type": "code",
   "execution_count": null,
   "id": "b5a2e019-1454-45e1-90b5-ec2c98604be7",
   "metadata": {},
   "outputs": [],
   "source": [
    "p.plot_ROCs_compare(q, quantum, ids=identifiers,\\\n",
    "                    colors=np.array(['C'+str(j+1)for j in range(5)]),\\\n",
    "                    title=r'$N_{qcd}=10k, N_{sig}=10k$',\\\n",
    "                    save_dir = f'{root_dir}/PhD/TN/QIBO/search_algorithms/plots/diJet/train600/GtoWW35NA/final')"
   ]
  },
  {
   "cell_type": "code",
   "execution_count": null,
   "id": "917d2aaa-bec9-4659-b572-77671e57df5e",
   "metadata": {},
   "outputs": [],
   "source": [
    "# AUC Q/C ratios\n",
    "n_folds=10\n",
    "read_dir='/eos/user/e/epuljak/private/epuljak/PhD/TN/QIBO/search_algorithms/notebooks/ad_scores/final'\n",
    "mass='35'\n",
    "br_na='NA'\n",
    "\n",
    "q_loss_qcd=[]; q_loss_sig=[]; c_loss_qcd=[]; c_loss_sig=[]\n",
    "for i in range(len(identifiers)):\n",
    "    if br_na: \n",
    "        with h5py.File(f'{read_dir}/{identifiers[i]}/Latent_{identifiers[i]}_trainsize_{n_samples_train[i]}_{signal_name}{mass}{br_na}_nfolds{n_folds}.h5', 'r') as file:\n",
    "            q_loss_qcd.append(file['quantum_loss_qcd'][:])\n",
    "            q_loss_sig.append(file['quantum_loss_sig'][:])\n",
    "            c_loss_qcd.append(file['classic_loss_qcd'][:])\n",
    "            c_loss_sig.append(file['classic_loss_sig'][:])"
   ]
  },
  {
   "cell_type": "code",
   "execution_count": null,
   "id": "bdff9536-ba80-446a-988a-702b19577a14",
   "metadata": {},
   "outputs": [],
   "source": [
    "import plotting as pl"
   ]
  },
  {
   "cell_type": "code",
   "execution_count": null,
   "id": "244e46e1-c814-4609-82c2-b97ae4df18c6",
   "metadata": {},
   "outputs": [],
   "source": [
    "import importlib\n",
    "importlib.reload(pl)"
   ]
  },
  {
   "cell_type": "code",
   "execution_count": null,
   "id": "7e58d837-df0e-4061-9cfa-43f347452351",
   "metadata": {},
   "outputs": [],
   "source": [
    "pl.create_table_for_fixed_TPR(q_loss_qcd, q_loss_sig, c_loss_qcd, c_loss_sig, identifiers, 10)"
   ]
  },
  {
   "cell_type": "code",
   "execution_count": null,
   "id": "c38e9538-eb65-4b35-97df-16c6acfceaa0",
   "metadata": {},
   "outputs": [],
   "source": [
    "pl.plot_ROC_kfold_mean(q_loss_qcd, q_loss_sig, c_loss_qcd, c_loss_sig, identifiers, 10,\\\n",
    "                colors=np.array(['C'+str(j+1)for j in range(6)]),\\\n",
    "                title=r'$N_{qcd}=10k, N_{sig}=10k$')"
   ]
  },
  {
   "cell_type": "code",
   "execution_count": null,
   "id": "a44f61fc-a690-4f2d-abd4-f3abd9e863f4",
   "metadata": {},
   "outputs": [],
   "source": [
    "p.plot_ratio_QC_auc_kfold(q_loss_qcd, q_loss_sig, c_loss_qcd, c_loss_sig, identifiers, n_folds, xlabel='Latent dimensions', title=None, legend_loc='best', save_dir=f'{root_dir}/PhD/TN/QIBO/search_algorithms/plots/diJet/train600/AtoHZtoZZZ35/final')"
   ]
  },
  {
   "cell_type": "code",
   "execution_count": null,
   "id": "63c6b39b-aa60-412a-8b7c-8646d2844613",
   "metadata": {},
   "outputs": [],
   "source": [
    "p.plot_ROC_kfold(q_loss_qcd, q_loss_sig, c_loss_qcd, c_loss_sig, identifiers, 10, pic_id='errs_nfolds10_quantum_fprtpr_noprop',\\\n",
    "                colors=np.array(['C'+str(j+1)for j in range(6)]),\\\n",
    "                title=r'$N_{qcd}=2k, N_{sig}=2k$', save_dir = f'{root_dir}/PhD/TN/QIBO/search_algorithms/plots/diJet/train600/GtoWW35NA/final')"
   ]
  },
  {
   "cell_type": "code",
   "execution_count": null,
   "id": "8fbb3311-1a93-4182-91d9-464090ffd4f6",
   "metadata": {},
   "outputs": [],
   "source": [
    "#background, signal = p.calculate_ROCs(runs, n_samples_train, identifiers, qcd_test_size=500, n_samples_signal=500, br_na='NA', signal_name=signal_name, mass='3.5')\n",
    "background, signal = p.calculate_ROCs(runs, n_samples_train, identifiers, qcd_test_size=500, n_samples_signal=500, signal_name=signal_name, mass='3.5', br_na='NA')"
   ]
  },
  {
   "cell_type": "code",
   "execution_count": null,
   "id": "0a6357b5-82ec-451f-8db7-d490370d1f15",
   "metadata": {},
   "outputs": [],
   "source": [
    "#load_filename=f'{root_dir}/PhD/TN/QIBO/search_algorithms/notebooks/results_qmedians/corrected_cuts/centroids/centroids_{runs[0]}_Durr_DI_AE_{str(n_samples_train[0])}_correctedcuts.npy'\n",
    "background, signal = p.calculate_ROCs(runs, n_samples_train, identifiers, qcd_test_size=500, n_samples_signal=500, br_na='BR', signal_name=signal_name, mass='1.5', around_peak='around15')\n",
    "#background, signal = p.calculate_ROCs(runs, n_samples_train, identifiers, qcd_test_size=500, n_samples_signal=500, signal_name=signal_name, mass='3.5')\n"
   ]
  },
  {
   "cell_type": "code",
   "execution_count": null,
   "id": "e76607ca-a939-4d6e-b4c6-1337d45d9a2c",
   "metadata": {},
   "outputs": [],
   "source": [
    "background, signal = p.calculate_ROCs_kfold(runs, n_samples_train, identifiers, signal_name=signal_name, mass='3.5')"
   ]
  },
  {
   "cell_type": "code",
   "execution_count": null,
   "id": "ed6fdca4-d8e7-4717-bc90-e1cc0c72cdac",
   "metadata": {},
   "outputs": [],
   "source": [
    "background_Q, signal_Q, background_C, signal_C = p.calculate_ROCs_randomVStrained(runs,\\\n",
    "                                                                                  n_samples_train,\\\n",
    "                                                                                  identifiers,\\\n",
    "                                                                                  qcd_test_size=500, n_samples_signal=500,\\\n",
    "                                                                                  br_na='NA',\\\n",
    "                                                                                  signal_name=signal_name,\\\n",
    "                                                                                  mass='3.5')\n"
   ]
  },
  {
   "cell_type": "code",
   "execution_count": null,
   "id": "69e6dba6-1eeb-4b7e-8917-0ef1e11e88c5",
   "metadata": {},
   "outputs": [],
   "source": [
    "p.plot_rocs_QKmedians_compare(background, signal,\\\n",
    "                              legend_loc='upper left',\\\n",
    "                              ix='final_around15_log',\\\n",
    "                              n=len(runs),\\\n",
    "                              colors=np.array(['C'+str(j+1)for j in range(len(runs))]),\\\n",
    "                              ids=identifiers,\\\n",
    "                              title=r'$N_{qcd}=0.5k, N_{sig}=0.5k$',\\\n",
    "                              save_dir=f'{root_dir}/PhD/TN/QIBO/search_algorithms/plots/train500/corrected_cuts/GtoWW1.5BR')"
   ]
  },
  {
   "cell_type": "code",
   "execution_count": null,
   "id": "f25fad20-95fe-4ea6-bd5b-3ed765bb7cbc",
   "metadata": {},
   "outputs": [],
   "source": [
    "data = [background[0], signal[0], background[1], signal[1]]\n",
    "p.plot_sum_distance_compare(data, name_signal='GtWWna3.5', normalize=False, id_fig=f'300', save_dir='/eos/user/e/epuljak/private/epuljak/PhD/TN/QIBO/search_algorithms/plots/latent_dim40/corrected_cuts/')"
   ]
  },
  {
   "cell_type": "code",
   "execution_count": null,
   "id": "ef9bdb9c-d30b-41a1-9b6a-8099bdce23ce",
   "metadata": {},
   "outputs": [],
   "source": [
    "p.plot_rocs_QKmedians_compare(background_Q, signal_Q,\\\n",
    "                              legend_loc='upper left',\\\n",
    "                              ix='RvsTrained10k_Q',\\\n",
    "                              n=len(runs),\\\n",
    "                              colors=np.array(['C'+str(j+1)for j in range(len(runs))]),\\\n",
    "                              ids=identifiers,\\\n",
    "                              title=r'$Q-medians$',\\\n",
    "                              save_dir=f'{root_dir}/PhD/TN/QIBO/search_algorithms/plots/latent_dim24/corrected_cuts/GtoWW3.5NA')"
   ]
  },
  {
   "cell_type": "code",
   "execution_count": null,
   "id": "6f4c2172-9211-408a-a36a-76a45d8df34e",
   "metadata": {},
   "outputs": [],
   "source": [
    "p.plot_rocs_QKmedians_compare(background_C, signal_C,\\\n",
    "                              legend_loc='upper left',\\\n",
    "                              ix='RvsTrained10k_C',\\\n",
    "                              n=len(runs),\\\n",
    "                              colors=np.array(['C'+str(j+1)for j in range(len(runs))]),\\\n",
    "                              ids=identifiers,\\\n",
    "                              title=r'$C-kmedians$',\\\n",
    "                              save_dir=f'{root_dir}/PhD/TN/QIBO/search_algorithms/plots/latent_dim24/corrected_cuts/GtoWW3.5NA')"
   ]
  },
  {
   "cell_type": "code",
   "execution_count": null,
   "id": "11572f38-f606-4cc1-af3b-6386b2bcc0d8",
   "metadata": {},
   "outputs": [],
   "source": [
    "p.plot_auc_fpr(quantum, classic,\\\n",
    "               ids=identifiers,\\\n",
    "               tpr_window=[0.4, 0.5],\\\n",
    "               xlabel='Latent Dimensions',\\\n",
    "               n=len(identifiers),\\\n",
    "               ix='diJet',\\\n",
    "               save_dir=f'{root_dir}/PhD/TN/QIBO/search_algorithms/plots/diJet/train600/GtoWW35NA/around35')"
   ]
  },
  {
   "cell_type": "code",
   "execution_count": null,
   "id": "b3ae5054-223e-4dae-be82-d5e2cdc34bd4",
   "metadata": {},
   "outputs": [],
   "source": [
    "p.plot_auc_kfold(background, signal, ids=identifiers, n=len(runs), n_folds=4, xlabel='Latent dimensions', legend_loc='best',\\\n",
    "              save_dir=f'{root_dir}/PhD/TN/QIBO/search_algorithms/plots/train500/corrected_cuts/AtoHZtoZZZ3.5')"
   ]
  },
  {
   "cell_type": "markdown",
   "id": "c3e7f2d8-4a86-4790-a575-c2c78ebae75d",
   "metadata": {},
   "source": [
    "## Plot LOSS vs EPOCHS"
   ]
  },
  {
   "cell_type": "markdown",
   "id": "60f1c1d9-a9a2-43e2-9b46-d893bba8fe47",
   "metadata": {},
   "source": [
    "### Quantum"
   ]
  },
  {
   "cell_type": "code",
   "execution_count": null,
   "id": "c8406946-24bb-41c9-abcd-e57fbb3efcbf",
   "metadata": {},
   "outputs": [],
   "source": [
    "run = '01032022_1'\n",
    "n_samples_train=5"
   ]
  },
  {
   "cell_type": "code",
   "execution_count": null,
   "id": "b8a8ef96-e669-41a6-986e-e8ab6912cf10",
   "metadata": {},
   "outputs": [],
   "source": [
    "loss_q = np.load(f'{root_dir}/PhD/TN/QIBO/search_algorithms/notebooks/results_qmedians/corrected_cuts/LOSS_{run}_argmin_DI_AE_{str(n_samples_train)}_correctedcuts.npy')"
   ]
  },
  {
   "cell_type": "code",
   "execution_count": null,
   "id": "79cac6ba-93fd-4d2c-97dd-961965182d12",
   "metadata": {},
   "outputs": [],
   "source": [
    "epochs = np.array((range(loss_q.shape[0])))+1"
   ]
  },
  {
   "cell_type": "code",
   "execution_count": null,
   "id": "9860be90-a031-42e0-9798-df4fa65b15e1",
   "metadata": {},
   "outputs": [],
   "source": [
    "save_dir = f'{root_dir}/PhD/TN/QIBO/search_algorithms/plots/diJet/train600/GtoWW35NA/final'\n",
    "ix = 'minClassic_2_clusterassign'"
   ]
  },
  {
   "cell_type": "code",
   "execution_count": null,
   "id": "69f4737d-9d6a-43d5-a4bf-2fc4ef8b0de5",
   "metadata": {},
   "outputs": [],
   "source": [
    "loss_q = np.load(f'/eos/user/e/epuljak/private/epuljak/PhD/TN/QIBO/search_algorithms/notebooks/results_qmedians/corrected_cuts/diJet/loss/LOSS_lat32_600.npy')"
   ]
  },
  {
   "cell_type": "code",
   "execution_count": null,
   "id": "25950a5a-ba37-414e-8372-e75ae17e55fa",
   "metadata": {},
   "outputs": [],
   "source": [
    "q_loss_qcd = np.array(q_loss_qcd)"
   ]
  },
  {
   "cell_type": "code",
   "execution_count": null,
   "id": "217c0d58-7b3f-4a7c-90d9-0415babcefbf",
   "metadata": {},
   "outputs": [],
   "source": [
    "fig = plt.figure(figsize=(10,10))\n",
    "fig.subplots_adjust(hspace=0.4, wspace=0.4)\n",
    "#for i, ids in enumerate(identifiers):\n",
    "for i in range(5):\n",
    "    #loss_q = np.load(f'{root_dir}/PhD/TN/QIBO/search_algorithms/notebooks/results_qmedians/corrected_cuts/diJet/loss/final/LOSS_lat{identifiers[i]}_{n_samples_train[i]}.npy')\n",
    "    loss_q = q_loss_qcd[i,:]\n",
    "    #epochs = np.array((range(loss_q.shape[0])))+1\n",
    "    # ax = fig.add_subplot(2,3, i+1)\n",
    "    # ax.plot(epochs[:], loss_q[:])\n",
    "    # ax.title.set_text(f'Run: lat{ids}; #samples:{str(n_samples_train[i])}')\n",
    "    # ax.title.set_size(10)\n",
    "plt.xlabel('Epochs')\n",
    "plt.ylabel('Loss')\n",
    "#plt.savefig(f'{save_dir}/Quantum_training_loss_latdim_final.pdf', bbox_inches='tight')\n",
    "plt.show()"
   ]
  },
  {
   "cell_type": "code",
   "execution_count": null,
   "id": "a456d1fc-e021-495a-b41a-9cdafcd0b9a2",
   "metadata": {},
   "outputs": [],
   "source": [
    "fig = plt.figure(figsize=(8,8))\n",
    "plt.hist(q_loss_qcd[0][0], bins=50, density=True, histtype = 'step', label='qcd')\n",
    "plt.hist(q_loss_sig[0][0], bins=50, density=True, histtype = 'step', label='bsm')\n",
    "\n",
    "plt.legend()\n",
    "#plt.yscale('log')\n",
    "plt.show()"
   ]
  },
  {
   "cell_type": "code",
   "execution_count": null,
   "id": "501f6cdc-e7c6-48e3-af1f-1ab3470406a6",
   "metadata": {},
   "outputs": [],
   "source": [
    "q_loss_qcd.shape"
   ]
  },
  {
   "cell_type": "code",
   "execution_count": null,
   "id": "63765f7d-e74d-446d-ad1b-4fa4048d079f",
   "metadata": {},
   "outputs": [],
   "source": [
    "fig = plt.figure()\n",
    "epochs = np.array((range(loss_q.shape[0])))+1\n",
    "plt.plot(epochs[5:], loss_q[5:])\n",
    "plt.xlabel('Epochs')\n",
    "plt.ylabel('Loss')\n",
    "#plt.savefig(f'{save_dir}/Quantum_training_loss_trainsize.pdf', bbox_inches='tight')\n",
    "plt.show()"
   ]
  },
  {
   "cell_type": "markdown",
   "id": "6a9ffa7b-28d9-43b6-9f94-c33f794301b4",
   "metadata": {},
   "source": [
    "### Classic"
   ]
  },
  {
   "cell_type": "code",
   "execution_count": null,
   "id": "5d23ce2a-3f55-406f-adbe-00fb2713e66c",
   "metadata": {},
   "outputs": [],
   "source": [
    "run = '24032022_1'\n",
    "n_samples_train=500\n",
    "signal_name='RSGraviton_WW_NA'\n",
    "mass='3.5'\n",
    "br_na='NA'"
   ]
  },
  {
   "cell_type": "code",
   "execution_count": null,
   "id": "35936e57-1469-436d-9a6c-bcbb16516395",
   "metadata": {},
   "outputs": [],
   "source": [
    "#_,_,centroids_c,loss_c = u.load_data_and_centroids_c(run, n_samples_train=n_samples_train, qcd_test_size=500, n_samples_test=500, signal_name=signal_name, mass=mass, br_na=br_na)\n",
    "loss_c = np.load(f'{root_dir}/PhD/TN/QIBO/search_algorithms/notebooks/results_qmedians/corrected_cuts/LOSS_{run}_{str(n_samples_train)}_classic.npy')"
   ]
  },
  {
   "cell_type": "code",
   "execution_count": null,
   "id": "b08602a0-f4a3-4d16-91a5-109abe879705",
   "metadata": {},
   "outputs": [],
   "source": [
    "save_dir = f'{root_dir}/PhD/TN/QIBO/search_algorithms/notebooks/results_qmedians/corrected_cuts'\n",
    "#np.save(f'{save_dir}/LOSS_{run}_Durr_DI_AE_{str(n_samples_train)}_Ckmeans_sameRandomStart.npy', loss_c)\n",
    "#np.save(f'{save_dir}/centroids/centroids_{run}_Durr_DI_AE_{str(n_samples_train)}_classicKmeans_sameRandomStart.npy', centroids_c)"
   ]
  },
  {
   "cell_type": "code",
   "execution_count": null,
   "id": "eb526a0a-facb-406c-9d1a-35ac8d7d1bc2",
   "metadata": {},
   "outputs": [],
   "source": [
    "epochs = np.array((range(len(loss_c))))+1"
   ]
  },
  {
   "cell_type": "code",
   "execution_count": null,
   "id": "52ff9ceb-abfa-4bb7-8cc9-f9089d59e40a",
   "metadata": {},
   "outputs": [],
   "source": [
    "fig = plt.figure()\n",
    "fig.subplots_adjust(hspace=0.4, wspace=0.4)\n",
    "for i in range(1, 10):\n",
    "    loss_q = np.load(f'{root_dir}/PhD/TN/QIBO/search_algorithms/notebooks/results_qmedians/corrected_cuts/LOSS_{runs[i-1]}_{str(n_samples_train[i-1])}_classic_centroids_conv.npy')\n",
    "    epochs = np.array((range(loss_q.shape[0])))+1\n",
    "    ax = fig.add_subplot(3, 3, i)\n",
    "    ax.plot(epochs[:], loss_q[:])\n",
    "    ax.title.set_text(f'Run:{runs[i-1]}; #samples:{str(n_samples_train[i-1])}')\n",
    "    ax.title.set_size(10)\n",
    "plt.xlabel('Epochs')\n",
    "plt.ylabel('Loss')\n",
    "plt.savefig(f'{save_dir}/Classic_training_loss_trainsize.pdf', bbox_inches='tight')\n",
    "plt.show()"
   ]
  },
  {
   "cell_type": "markdown",
   "id": "c9f43415-ae25-4ad1-8fdb-41477720760c",
   "metadata": {},
   "source": [
    "### Compare centroids"
   ]
  },
  {
   "cell_type": "code",
   "execution_count": null,
   "id": "64e95524-a746-4a01-97c3-0b343178ebca",
   "metadata": {},
   "outputs": [],
   "source": [
    "centroids_q = np.load(f'{root_dir}/PhD/TN/QIBO/search_algorithms/notebooks/results_qmedians/corrected_cuts/centroids/centroids_{run}_Durr_DI_AE_{str(n_samples_train)}_correctedcuts.npy')\n",
    "centroids_c = np.load(f'{root_dir}/PhD/TN/QIBO/search_algorithms/notebooks/results_qmedians/corrected_cuts/centroids/centroids_{run}_{str(n_samples_train)}_classic.npy')"
   ]
  },
  {
   "cell_type": "code",
   "execution_count": null,
   "id": "4e93208e-90c0-4e65-ab66-c15e88659c9d",
   "metadata": {},
   "outputs": [],
   "source": [
    "p.plot_centroids_compare(centroids_q[:,:10], centroids_c[:,:10], fig_dir=f'{root_dir}/PhD/TN/QIBO/search_algorithms/plots/latent_dim40/corrected_cuts', sample_id='lat40')"
   ]
  },
  {
   "cell_type": "code",
   "execution_count": null,
   "id": "06678ac4-2e67-4d02-92cf-89998d60f2c8",
   "metadata": {},
   "outputs": [],
   "source": [
    "#fig = plt.figure()\n",
    "#fig.subplots_adjust(hspace=0.4, wspace=0.4)\n",
    "for i in range(0,20):\n",
    "    centroids = np.load(f'{root_dir}/PhD/TN/QIBO/search_algorithms/notebooks/results_qmedians/corrected_cuts/diJet/centroids/final/check_loss/centroids_lat8_6000_i{i+1}.npy')\n",
    "    p.plot_centroids(centroids, f'{root_dir}/PhD/TN/QIBO/search_algorithms/notebooks/results_qmedians/corrected_cuts/diJet/centroids/final/check_loss', sample_id=f'lat8_6000_i{i+1}')"
   ]
  },
  {
   "cell_type": "code",
   "execution_count": null,
   "id": "29d7c489-3ef1-47f0-9930-d21ea9a60ad6",
   "metadata": {},
   "outputs": [],
   "source": [
    "centroids = np.load(f'{root_dir}/PhD/TN/QIBO/search_algorithms/notebooks/results_qmedians/corrected_cuts/diJet/centroids/final/centroids_lat8_600_k3.npy')\n",
    "print(centroids.shape)\n",
    "p.plot_centroids(centroids, f'{root_dir}/PhD/TN/QIBO/search_algorithms/notebooks/results_qmedians/corrected_cuts/diJet/centroids/final', sample_id='k3', clusters=3)"
   ]
  },
  {
   "cell_type": "code",
   "execution_count": null,
   "id": "2fd04005-461d-4a32-a53f-fd226d73a03c",
   "metadata": {},
   "outputs": [],
   "source": [
    "class_labels = np.load(f'{root_dir}/PhD/TN/QIBO/search_algorithms/notebooks/results_qmedians/corrected_cuts/diJet/cluster_labels/final/cluster_label_lat8_600_k3.npy')\n"
   ]
  },
  {
   "cell_type": "markdown",
   "id": "e1f680d7-3deb-4081-8f58-9faee5b99dd1",
   "metadata": {},
   "source": [
    "## Check code"
   ]
  },
  {
   "cell_type": "code",
   "execution_count": null,
   "id": "ff3c04eb-58c7-4315-9c66-a4cda556ede5",
   "metadata": {},
   "outputs": [],
   "source": [
    "import importlib\n",
    "importlib.reload(qkmed)"
   ]
  },
  {
   "cell_type": "code",
   "execution_count": null,
   "id": "a2b9a65e-a8c5-4507-94c2-94a3a38be668",
   "metadata": {},
   "outputs": [],
   "source": [
    "def train_qkmedians(latent_dim, train_size, read_file, seed=None, k=2, tolerance=1.e-3, save_dir=None):\n",
    "\n",
    "    # read train data\n",
    "    with h5py.File(read_file, 'r') as file:\n",
    "        data = file['latent_space']\n",
    "        l1 = data[:,0,:]\n",
    "        l2 = data[:,1,:]\n",
    "\n",
    "        data_train = np.vstack([l1[:train_size], l2[:train_size]])\n",
    "        if seed: np.random.seed(seed) # matter for small data sizes\n",
    "        np.random.shuffle(data_train)\n",
    "\n",
    "    # train qkmedians\n",
    "    centroids = qkmed.initialize_centroids(data_train, k)   # Intialize centroids\n",
    "\n",
    "    i = 0\n",
    "    while True:\n",
    "        cluster_label, _ = qkmed.find_nearest_neighbour_DI(data_train,centroids)       # find nearest centroids\n",
    "        print(f'Found cluster assignments for iteration: {i+1}')\n",
    "        new_centroids = qkmed.find_centroids_GM(data_train, cluster_label, clusters=k) # find centroids\n",
    "\n",
    "        loss_epoch = np.linalg.norm(centroids - new_centroids)\n",
    "\n",
    "        if loss_epoch < tolerance:\n",
    "            centroids = new_centroids\n",
    "            print(f\"Converged after {i+1} iterations.\")\n",
    "            break\n",
    "        i += 1     \n",
    "        centroids = new_centroids\n",
    "\n",
    "    np.save(f'{save_dir}/cluster_label_lat{latent_dim}_{str(train_size)}.npy', cluster_label)\n",
    "    np.save(f'{save_dir}/centroids_lat{latent_dim}_{str(train_size)}.npy', centroids)\n",
    "    print('Centroids and labels saved!')"
   ]
  },
  {
   "cell_type": "code",
   "execution_count": null,
   "id": "70ac1200-1541-4fc9-8d3c-29095ceb57b8",
   "metadata": {},
   "outputs": [],
   "source": [
    "train_qkmedians(8, 100, f'/eos/user/e/epuljak/private/epuljak/public/AE_data/latent/lat8/latentrep_QCD_sig.h5', seed=1234, save_dir='/eos/user/e/epuljak/private/epuljak/PhD/TN/QIBO/search_algorithms/notebooks')"
   ]
  },
  {
   "cell_type": "code",
   "execution_count": null,
   "id": "7ba54098-946b-4659-8f0e-585e3e695f5f",
   "metadata": {},
   "outputs": [],
   "source": []
  }
 ],
 "metadata": {
  "kernelspec": {
   "display_name": "Python 3 (ipykernel)",
   "language": "python",
   "name": "python3"
  },
  "language_info": {
   "codemirror_mode": {
    "name": "ipython",
    "version": 3
   },
   "file_extension": ".py",
   "mimetype": "text/x-python",
   "name": "python",
   "nbconvert_exporter": "python",
   "pygments_lexer": "ipython3",
   "version": "3.8.12"
  }
 },
 "nbformat": 4,
 "nbformat_minor": 5
}
