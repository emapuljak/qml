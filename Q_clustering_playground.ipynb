{
 "cells": [
  {
   "cell_type": "code",
   "execution_count": null,
   "id": "6c834380-34d7-47b6-9891-42eed8dde373",
   "metadata": {},
   "outputs": [],
   "source": [
    "import numpy as np\n",
    "import matplotlib.pyplot as plt\n",
    "import matplotlib\n",
    "%matplotlib inline\n",
    "import math\n",
    "import h5py\n",
    "\n",
    "import qibo\n",
    "qibo.set_backend(\"tensorflow\")\n",
    "import sys\n",
    "sys.path.append('../')\n",
    "sys.path.append('../../')\n",
    "import scripts.qkmeans as qkm\n",
    "import scripts.minimization as m\n",
    "import scripts.oracle as o\n",
    "import scripts.grover as g\n",
    "import scripts.qkmedians as qkmed\n",
    "import scripts.distance_calc as distc\n",
    "import utils as u\n",
    "import plots as p"
   ]
  },
  {
   "cell_type": "markdown",
   "id": "71c751d7-5b6d-4923-8de7-78991185f671",
   "metadata": {},
   "source": [
    "## Playground"
   ]
  },
  {
   "cell_type": "markdown",
   "id": "4e6207f6-1486-4400-a1df-6c368a5c72fb",
   "metadata": {},
   "source": [
    "### 1. Check Oracles"
   ]
  },
  {
   "cell_type": "code",
   "execution_count": null,
   "id": "416b4b45-f93a-4341-a572-23375feba049",
   "metadata": {},
   "outputs": [],
   "source": [
    "distances = np.array([2, 7, 22, 0.5, 3.5, 15, 7])\n",
    "k = len(distances)\n",
    "n = int(math.floor(math.log2(k)) + 1)"
   ]
  },
  {
   "cell_type": "code",
   "execution_count": null,
   "id": "a5f079ae-807b-4456-9617-8fca83143898",
   "metadata": {},
   "outputs": [],
   "source": [
    "threshold = np.random.choice(distances)"
   ]
  },
  {
   "cell_type": "code",
   "execution_count": null,
   "id": "40a274cd-839c-40a7-918e-eaec9d94ce49",
   "metadata": {},
   "outputs": [],
   "source": [
    "import importlib\n",
    "importlib.reload(o)"
   ]
  },
  {
   "cell_type": "code",
   "execution_count": null,
   "id": "02db2597-c913-4b23-9ca4-75121a299f8a",
   "metadata": {},
   "outputs": [],
   "source": [
    "# threshold_oracles = o.create_oracle_threshold_set(n, distances)\n",
    "# threshold_oracles"
   ]
  },
  {
   "cell_type": "code",
   "execution_count": null,
   "id": "84b2de82-b405-486f-9992-1e7aafb86b7a",
   "metadata": {},
   "outputs": [],
   "source": [
    "#oracle_qc = o.create_lin_comb_of_oracles(n, distances, threshold, threshold_oracles)"
   ]
  },
  {
   "cell_type": "code",
   "execution_count": null,
   "id": "7972dba9-e3f4-4c62-977c-98308f0e537e",
   "metadata": {},
   "outputs": [],
   "source": [
    "oracle_qc, indiced_to_flip_n = o.create_oracle_circ_QISKIT(distances, threshold, n)"
   ]
  },
  {
   "cell_type": "code",
   "execution_count": null,
   "id": "e91a5092-c66b-486f-9ace-2cd1337e6a5e",
   "metadata": {},
   "outputs": [],
   "source": [
    "oracle_qc.to_qasm()"
   ]
  },
  {
   "cell_type": "code",
   "execution_count": null,
   "id": "13a0a654-f506-4957-ad05-0dc41cfbb7a9",
   "metadata": {},
   "outputs": [],
   "source": [
    "import scripts.grover as g\n",
    "qc = qibo.models.Circuit(n)\n",
    "for i in range(n):\n",
    "    qc.add(qibo.gates.H(i))\n",
    "\n",
    "\n",
    "grover_qc = g.grover_qc(qc, n, oracle_qc, indiced_to_flip_n)\n",
    "#counts = grover_qc.execute(nshots=10000).frequencies(binary=True)\n",
    "        \n",
    "# measure highest probability\n",
    "#dictionary = counts.items()"
   ]
  },
  {
   "cell_type": "code",
   "execution_count": null,
   "id": "c12a6817-19b7-42b1-940d-0f178302de9c",
   "metadata": {},
   "outputs": [],
   "source": [
    "string = grover_qc.to_qasm()"
   ]
  },
  {
   "cell_type": "code",
   "execution_count": null,
   "id": "0e333af8-9bc2-4117-8865-fdff4a929b3c",
   "metadata": {},
   "outputs": [],
   "source": [
    "string"
   ]
  },
  {
   "cell_type": "code",
   "execution_count": null,
   "id": "e28c0339-4669-4f1d-bbf9-8375e9799e03",
   "metadata": {},
   "outputs": [],
   "source": [
    "string = 'qreg q[3];\\ncreg register0[3];\\nh q[0];\\nh q[1];\\nh q[2];\\nmeasure q[0] -> register0[0];\\nmeasure q[1] -> register0[1];\\nmeasure q[2] -> register0[2];'"
   ]
  },
  {
   "cell_type": "code",
   "execution_count": null,
   "id": "068dac8c-0fa9-4073-b30f-e20074e8d233",
   "metadata": {},
   "outputs": [],
   "source": [
    "import quimb as q\n",
    "import quimb.tensor as qtn"
   ]
  },
  {
   "cell_type": "code",
   "execution_count": null,
   "id": "766243f5-0504-4152-9969-51f0c6d97a9f",
   "metadata": {},
   "outputs": [],
   "source": [
    "circ = qtn.Circuit(n).from_qasm(string)"
   ]
  },
  {
   "cell_type": "markdown",
   "id": "5077cb64-cd84-42f7-9b36-ba4b52ada013",
   "metadata": {},
   "source": [
    "## Check Dist Calc"
   ]
  },
  {
   "cell_type": "code",
   "execution_count": null,
   "id": "0c3c794f-672d-4688-b589-5c3ad487d12f",
   "metadata": {},
   "outputs": [],
   "source": [
    "from qiskit.visualization import plot_histogram\n",
    "from qiskit import QuantumCircuit, execute, Aer\n",
    "from qiskit.tools.jupyter import *\n",
    "from qiskit.quantum_info import Statevector\n",
    "from qiskit import QuantumCircuit, ClassicalRegister, QuantumRegister\n",
    "from qiskit_textbook.tools import vector2latex\n",
    "from qiskit.extensions import Initialize\n",
    "from qiskit.circuit import ControlledGate"
   ]
  },
  {
   "cell_type": "code",
   "execution_count": null,
   "id": "7835bf96-7962-4292-b991-4d1bf964606d",
   "metadata": {},
   "outputs": [],
   "source": [
    "import importlib\n",
    "importlib.reload(distc)"
   ]
  },
  {
   "cell_type": "code",
   "execution_count": null,
   "id": "8714f021-d9f6-4105-8a07-78692fe590e3",
   "metadata": {},
   "outputs": [],
   "source": [
    "I = np.identity(2)\n",
    "H = [[1,1], [1, -1]]\n",
    "f = np.kron(H, I)\n",
    "f1 = np.kron(I, I)\n",
    "m = np.matrix(np.kron(f, f1))\n"
   ]
  },
  {
   "cell_type": "code",
   "execution_count": null,
   "id": "1351e1f9-a5dd-4d31-a881-5dccd49f52f1",
   "metadata": {},
   "outputs": [],
   "source": [
    "fig, ax = plt.subplots(figsize=(10,10))\n",
    "\n",
    "min_val, max_val = -1, 1\n",
    "\n",
    "ax.matshow(m, cmap=plt.cm.Blues)\n",
    "\n",
    "for i in range(16):\n",
    "    for j in range(16):\n",
    "        c = m[j,i]\n",
    "        ax.text(i, j, str(c), va='center', ha='center')"
   ]
  },
  {
   "cell_type": "code",
   "execution_count": null,
   "id": "46fcad3e-2a19-4a2f-b8d8-96029873e357",
   "metadata": {},
   "outputs": [],
   "source": [
    "a = np.array([1,5,6,1,7,4,6,9], dtype=np.float32)\n",
    "b = np.array([2,3,7,4,1,2,2,2], dtype=np.float32)\n",
    "num_features = 8"
   ]
  },
  {
   "cell_type": "code",
   "execution_count": null,
   "id": "1a0ca53f-b4d6-4c5a-82b8-d0a1740bd63f",
   "metadata": {},
   "outputs": [],
   "source": [
    "# check dist_Calc with destructive interference\n",
    "distance_TI, qc = distc.DistCalc_DI(a, b)"
   ]
  },
  {
   "cell_type": "code",
   "execution_count": null,
   "id": "cca284d5-9593-4a53-a3f6-15f22fca1106",
   "metadata": {},
   "outputs": [],
   "source": [
    "n = int(np.log2(len(np.concatenate((a,b)))))"
   ]
  },
  {
   "cell_type": "code",
   "execution_count": null,
   "id": "6bd3b72e-0266-4728-a5c6-f56240f964ea",
   "metadata": {},
   "outputs": [],
   "source": [
    "n"
   ]
  },
  {
   "cell_type": "code",
   "execution_count": null,
   "id": "6ad2c0de-bd9c-4e8a-9df9-1909a278851d",
   "metadata": {},
   "outputs": [],
   "source": [
    "psi0 = qtn.MPS_computational_state(\"0\"*n)"
   ]
  },
  {
   "cell_type": "code",
   "execution_count": null,
   "id": "a7cd4d8d-841f-48bb-b7b1-3e64c813ef97",
   "metadata": {},
   "outputs": [],
   "source": [
    "circ = qtn.Circuit(n, psi0=\"0\"*n, tags=\"PSI0\")"
   ]
  },
  {
   "cell_type": "code",
   "execution_count": null,
   "id": "2cb38f82-ceb1-4abd-8396-9517ba068229",
   "metadata": {},
   "outputs": [],
   "source": [
    "circ.apply_gate('H', 0)"
   ]
  },
  {
   "cell_type": "code",
   "execution_count": null,
   "id": "cfd645a6-6826-4135-a754-a6eddb488eea",
   "metadata": {},
   "outputs": [],
   "source": [
    "circ.psi"
   ]
  },
  {
   "cell_type": "code",
   "execution_count": null,
   "id": "1476b7ce-7fe7-4d06-8f35-968c9f8fb02c",
   "metadata": {},
   "outputs": [],
   "source": [
    "circ.psi.graph(show_tags=True, show_inds=False, initial_layout=\"planar\", iterations=100, color=[\"PSI0\", \"H\"])"
   ]
  },
  {
   "cell_type": "code",
   "execution_count": null,
   "id": "fa766185-328d-48ab-ac2e-7b2d79b266df",
   "metadata": {},
   "outputs": [],
   "source": [
    "distance = distc.DistCalc(a, b)"
   ]
  },
  {
   "cell_type": "code",
   "execution_count": null,
   "id": "71bbbe35-6599-4bbb-a6f1-16091bb944fa",
   "metadata": {},
   "outputs": [],
   "source": [
    "distance"
   ]
  },
  {
   "cell_type": "code",
   "execution_count": null,
   "id": "eb6d503d-443d-42b6-9890-6b3de7206aa4",
   "metadata": {},
   "outputs": [],
   "source": [
    "n_qubits = int(math.floor(np.log2(a.shape[0]))) if float(np.log2(a.shape[0])).is_integer() \\\n",
    "else int(math.floor(np.log2(a.shape[0]))) + 1\n",
    "n_qubits"
   ]
  },
  {
   "cell_type": "code",
   "execution_count": null,
   "id": "f71f86a5-23e1-4cfe-aced-454f95d34aad",
   "metadata": {},
   "outputs": [],
   "source": [
    "import sys\n",
    "sys.path.append('../')\n",
    "sys.path.append('../../')\n",
    "import scripts.util as ut\n",
    "a_norm = ut.prepare_input(a, n_qubits, a.shape[0])\n",
    "b_norm = ut.prepare_input(b, n_qubits, b.shape[0])"
   ]
  },
  {
   "cell_type": "code",
   "execution_count": null,
   "id": "ea50ebd1-52a0-4f84-bfab-837411493454",
   "metadata": {},
   "outputs": [],
   "source": [
    "a_norm, b_norm"
   ]
  },
  {
   "cell_type": "code",
   "execution_count": null,
   "id": "72644332-8208-4262-a726-596a2f6645f1",
   "metadata": {},
   "outputs": [],
   "source": [
    "init_state = Initialize(a_norm)\n",
    "init_state"
   ]
  },
  {
   "cell_type": "code",
   "execution_count": null,
   "id": "d65abd8a-8560-4268-9d81-e3484a9897a1",
   "metadata": {},
   "outputs": [],
   "source": [
    "# initialize the state\n",
    "init_state = Initialize(a_norm)\n",
    "print(init_state.params)\n",
    "print(init_state.num_qubits)\n",
    "# call to generate the circuit that takes the desired vector to zero\n",
    "dgc = init_state.gates_to_uncompute()"
   ]
  },
  {
   "cell_type": "code",
   "execution_count": null,
   "id": "ca6e626e-a256-4fb8-8c13-ec441b69c6fc",
   "metadata": {},
   "outputs": [],
   "source": [
    "#gates_to_decompose=['multiplex1_reverse_reverse', 'multiplex1_reverse']\n",
    "\n",
    "from qiskit.converters import circuit_to_dag\n",
    "from qiskit.visualization import dag_drawer\n",
    "%matplotlib inline\n",
    "circ = dgc.decompose()\n",
    "circ2 = circ.decompose()\n",
    "print(circ2.draw())\n",
    "dag = circuit_to_dag(circ2)\n",
    "dag_drawer(dag)"
   ]
  },
  {
   "cell_type": "code",
   "execution_count": null,
   "id": "9f84d834-0e3d-480b-a8b2-fdbffdf5b96a",
   "metadata": {},
   "outputs": [],
   "source": [
    "circ3 = circ2.decompose()\n",
    "circ4 = circ3.decompose()\n",
    "circ5 = circ4.decompose()\n",
    "circ5.draw()"
   ]
  },
  {
   "cell_type": "markdown",
   "id": "d09d18e1-342c-41fc-93ae-69c1e38eb15a",
   "metadata": {},
   "source": [
    "#### What happens in gate_to_uncompute()"
   ]
  },
  {
   "cell_type": "code",
   "execution_count": null,
   "id": "37b05a40-7f5a-4e81-abbd-5a98a48fd8bc",
   "metadata": {},
   "outputs": [],
   "source": [
    "from qiskit.visualization import plot_bloch_vector\n",
    "from qiskit.circuit.library.standard_gates.x import CXGate, XGate\n",
    "from qiskit.circuit.library.standard_gates.h import HGate\n",
    "from qiskit.circuit.library.standard_gates.s import SGate, SdgGate\n",
    "from qiskit.circuit.library.standard_gates.ry import RYGate\n",
    "from qiskit.circuit.library.standard_gates.rz import RZGate"
   ]
  },
  {
   "cell_type": "code",
   "execution_count": null,
   "id": "52f7da0b-7896-47a6-a790-758d778f3e1a",
   "metadata": {},
   "outputs": [],
   "source": [
    "def multiplex(target_gate, list_of_angles, last_cnot=True):\n",
    "        \"\"\"\n",
    "        Return a recursive implementation of a multiplexor circuit,\n",
    "        where each instruction itself has a decomposition based on\n",
    "        smaller multiplexors.\n",
    "\n",
    "        The LSB is the multiplexor \"data\" and the other bits are multiplexor \"select\".\n",
    "\n",
    "        Args:\n",
    "            target_gate (Gate): Ry or Rz gate to apply to target qubit, multiplexed\n",
    "                over all other \"select\" qubits\n",
    "            list_of_angles (list[float]): list of rotation angles to apply Ry and Rz\n",
    "            last_cnot (bool): add the last cnot if last_cnot = True\n",
    "\n",
    "        Returns:\n",
    "            DAGCircuit: the circuit implementing the multiplexor's action\n",
    "        \"\"\"\n",
    "        list_len = len(list_of_angles)\n",
    "        local_num_qubits = int(math.log2(list_len)) + 1\n",
    "\n",
    "        q = QuantumRegister(local_num_qubits)\n",
    "        circuit = QuantumCircuit(q, name=\"multiplex\" + local_num_qubits.__str__())\n",
    "\n",
    "        lsb = q[0]\n",
    "        msb = q[local_num_qubits - 1]\n",
    "\n",
    "        # case of no multiplexing: base case for recursion\n",
    "        if local_num_qubits == 1:\n",
    "            circuit.append(target_gate(list_of_angles[0]), [q[0]])\n",
    "            return circuit\n",
    "\n",
    "        # calc angle weights, assuming recursion (that is the lower-level\n",
    "        # requested angles have been correctly implemented by recursion\n",
    "        angle_weight = np.kron([[0.5, 0.5], [0.5, -0.5]], np.identity(2 ** (local_num_qubits - 2)))\n",
    "        print(f'AW: {angle_weight}')\n",
    "        # calc the combo angles\n",
    "        list_of_angles = angle_weight.dot(np.array(list_of_angles)).tolist()\n",
    "        print(f'list_of_angles: {list_of_angles}')\n",
    "        # recursive step on half the angles fulfilling the above assumption\n",
    "        multiplex_1 = multiplex(target_gate, list_of_angles[0 : (list_len // 2)], False)\n",
    "        circuit.append(multiplex_1.to_instruction(), q[0:-1])\n",
    "\n",
    "        # attach CNOT as follows, thereby flipping the LSB qubit\n",
    "        circuit.append(CXGate(), [msb, lsb])\n",
    "\n",
    "        # implement extra efficiency from the paper of cancelling adjacent\n",
    "        # CNOTs (by leaving out last CNOT and reversing (NOT inverting) the\n",
    "        # second lower-level multiplex)\n",
    "        multiplex_2 = multiplex(target_gate, list_of_angles[(list_len // 2) :], False)\n",
    "        if list_len > 1:\n",
    "            circuit.append(multiplex_2.to_instruction().reverse_ops(), q[0:-1])\n",
    "        else:\n",
    "            circuit.append(multiplex_2.to_instruction(), q[0:-1])\n",
    "\n",
    "        # attach a final CNOT\n",
    "        if last_cnot:\n",
    "            circuit.append(CXGate(), [msb, lsb])\n",
    "\n",
    "        return circuit"
   ]
  },
  {
   "cell_type": "code",
   "execution_count": null,
   "id": "c5e01e52-0e4d-4722-a8dc-7a17e224c22f",
   "metadata": {},
   "outputs": [],
   "source": [
    "def bloch_angles(pair_of_complex):\n",
    "        \"\"\"\n",
    "        Static internal method to work out rotation to create the passed-in\n",
    "        qubit from the zero vector.\n",
    "        \"\"\"\n",
    "        [a_complex, b_complex] = pair_of_complex\n",
    "        # Force a and b to be complex, as otherwise numpy.angle might fail.\n",
    "        a_complex = complex(a_complex)\n",
    "        b_complex = complex(b_complex)\n",
    "        mag_a = np.absolute(a_complex)\n",
    "        final_r = float(np.sqrt(mag_a ** 2 + np.absolute(b_complex) ** 2))\n",
    "        if final_r < 1e-6:\n",
    "            theta = 0\n",
    "            phi = 0\n",
    "            final_r = 0\n",
    "            final_t = 0\n",
    "        else:\n",
    "            theta = float(2 * np.arccos(mag_a / final_r))\n",
    "            a_arg = np.angle(a_complex)\n",
    "            print(f'Angle of first pair: {a_arg}')\n",
    "            b_arg = np.angle(b_complex)\n",
    "            print(f'Angle of second pair: {b_arg}')\n",
    "            final_t = a_arg + b_arg\n",
    "            phi = b_arg - a_arg\n",
    "\n",
    "        return final_r * np.exp(1.0j * final_t / 2), theta, phi"
   ]
  },
  {
   "cell_type": "code",
   "execution_count": null,
   "id": "49207974-c623-4bf3-8095-a94e9c92db46",
   "metadata": {},
   "outputs": [],
   "source": [
    "from qiskit.visualization import plot_bloch_vector\n",
    "\n",
    "def rotations_to_disentangle(local_param):\n",
    "    \"\"\"\n",
    "    Static internal method to work out Ry and Rz rotation angles used\n",
    "    to disentangle the LSB qubit.\n",
    "    These rotations make up the block diagonal matrix U (i.e. multiplexor)\n",
    "    that disentangles the LSB.\n",
    "\n",
    "    [[Ry(theta_1).Rz(phi_1)  0   .   .   0],\n",
    "     [0         Ry(theta_2).Rz(phi_2) .  0],\n",
    "                                .\n",
    "                                    .\n",
    "      0         0           Ry(theta_2^n).Rz(phi_2^n)]]\n",
    "    \"\"\"\n",
    "    remaining_vector = []\n",
    "    thetas = []\n",
    "    phis = []\n",
    "\n",
    "    param_len = len(local_param)\n",
    "\n",
    "    for i in range(param_len // 2):\n",
    "        # Ry and Rz rotations to move bloch vector from 0 to \"imaginary\"\n",
    "        # qubit\n",
    "        # (imagine a qubit state signified by the amplitudes at index 2*i\n",
    "        # and 2*(i+1), corresponding to the select qubits of the\n",
    "        # multiplexor being in state |i>)\n",
    "        print('=======================================')\n",
    "        print(f'Using these inputs: {local_param[2 * i : 2 * (i + 1)]}')\n",
    "        (remains, add_theta, add_phi) = bloch_angles(\n",
    "            local_param[2 * i : 2 * (i + 1)]\n",
    "        )\n",
    "        print(f'Set bloch angles for inputs: {remains}, theta={-add_theta}, phi={-add_phi}')\n",
    "        remaining_vector.append(remains)\n",
    "\n",
    "        # rotations for all imaginary qubits of the full vector\n",
    "        # to move from where it is to zero, hence the negative sign\n",
    "        thetas.append(-add_theta)\n",
    "        phis.append(-add_phi)\n",
    "    #plot_bloch_vector(remaining_vector)\n",
    "    return remaining_vector, thetas, phis"
   ]
  },
  {
   "cell_type": "code",
   "execution_count": null,
   "id": "0f91de6d-82b4-4be9-b57d-ebcc044bf56f",
   "metadata": {},
   "outputs": [],
   "source": [
    "q = QuantumRegister(n_qubits)\n",
    "circuit = QuantumCircuit(q, name=\"disentangler\")\n",
    "\n",
    "# kick start the peeling loop, and disentangle one-by-one from LSB to MSB\n",
    "remaining_param = init_state.params\n",
    "\n",
    "for i in range(n_qubits):\n",
    "    print(f'------------FOR QUBIT NUM. {i} ----------')\n",
    "    # work out which rotations must be done to disentangle the LSB\n",
    "    # qubit (we peel away one qubit at a time)\n",
    "    (remaining_param, thetas, phis) = rotations_to_disentangle(remaining_param)\n",
    "    print(remaining_param)\n",
    "    print(thetas)\n",
    "    print(phis)\n",
    "    # perform the required rotations to decouple the LSB qubit (so that\n",
    "    # it can be \"factored\" out, leaving a shorter amplitude vector to peel away)\n",
    "    add_last_cnot = True\n",
    "    if np.linalg.norm(phis) != 0 and np.linalg.norm(thetas) != 0:\n",
    "        add_last_cnot = False\n",
    "\n",
    "    if np.linalg.norm(phis) != 0:\n",
    "        rz_mult = multiplex(RZGate, phis, last_cnot=add_last_cnot)\n",
    "        print(f'Apply RZ gate')\n",
    "        print(rz_mult.decompose())\n",
    "        circuit.append(rz_mult.to_instruction(), q[i : n_qubits])\n",
    "\n",
    "    if np.linalg.norm(thetas) != 0:\n",
    "        ry_mult = multiplex(RYGate, thetas, last_cnot=add_last_cnot)\n",
    "        print(f'Apply RY gate')\n",
    "        print(ry_mult.decompose())\n",
    "        circuit.append(ry_mult.to_instruction().reverse_ops(), q[i : n_qubits])\n",
    "circuit.global_phase -= np.angle(sum(remaining_param))\n",
    "print('TOTAL CIRCUIT')\n",
    "print(circuit.decompose().decompose().decompose().decompose().decompose().draw())"
   ]
  },
  {
   "cell_type": "code",
   "execution_count": null,
   "id": "e9484e5e-25f2-45d2-8a64-ac5c18e9f3f5",
   "metadata": {},
   "outputs": [],
   "source": [
    "initialize_instr = circ2.to_instruction().inverse()\n",
    "initialize_instr"
   ]
  },
  {
   "cell_type": "code",
   "execution_count": null,
   "id": "9b919bc0-3a09-4495-9731-68b5cd47481f",
   "metadata": {},
   "outputs": [],
   "source": [
    "from qiskit.quantum_info import Statevector\n",
    "# q = QuantumRegister(n_qubits, \"q\")\n",
    "# initialize_circuit = QuantumCircuit(q)\n",
    "# initialize_circuit.initialize(a_norm, q[:])\n",
    "# initialize_inst = initialize_circuit.to_instruction()\n",
    "\n",
    "#initialize_circuit.draw(output='mpl', style={'backgroundcolor': '#EEEEEE'})\n",
    "q1 = QuantumRegister(n_qubits, \"q\")\n",
    "circuit_to_gate = QuantumCircuit(q1, name=\"x_init\")\n",
    "circuit_to_gate.append(initialize_instr, q1[:])\n",
    "state_vec = Statevector.from_instruction(circuit_to_gate).data\n",
    "print(state_vec)\n",
    "gate = circuit_to_gate.to_gate()\n",
    "print(circuit_to_gate.decompose().decompose().decompose().decompose())"
   ]
  },
  {
   "cell_type": "code",
   "execution_count": null,
   "id": "02c16a13-5bb7-4d6d-8e63-fc8fe10be3f8",
   "metadata": {},
   "outputs": [],
   "source": [
    "from qiskit.visualization import plot_state_qsphere\n",
    "%matplotlib inline\n",
    "plot_state_qsphere(state_vec)"
   ]
  },
  {
   "cell_type": "code",
   "execution_count": null,
   "id": "509e5706-daf9-43fe-b162-c5e13d69f191",
   "metadata": {},
   "outputs": [],
   "source": [
    "x = np.zeros((8,))\n",
    "y = np.zeros((8,))\n",
    "\n",
    "r = x*y\n",
    "r.shape"
   ]
  },
  {
   "cell_type": "code",
   "execution_count": null,
   "id": "a1567167-9408-49bd-aaf6-9efa689fde2e",
   "metadata": {},
   "outputs": [],
   "source": [
    "from scripts.util import create_gate\n",
    "a_con = create_gate(a_norm, n_qubits)\n",
    "b_con = create_gate(b_norm, n_qubits)"
   ]
  },
  {
   "cell_type": "code",
   "execution_count": null,
   "id": "b20d00ef-5998-48cb-b639-5095e480279d",
   "metadata": {},
   "outputs": [],
   "source": [
    "# psi circuit\n",
    "ampl_psi = np.concatenate((a_norm/np.linalg.norm(a_norm), b_norm/np.linalg.norm(b_norm)))*(1/np.sqrt(2)) # inputs are normalized\n",
    "ampl_psi"
   ]
  },
  {
   "cell_type": "code",
   "execution_count": null,
   "id": "aeda722e-0f57-4ec0-86f1-8235aaf84856",
   "metadata": {},
   "outputs": [],
   "source": [
    "# psi circuit\n",
    "#ampl_a = (a_norm/np.linalg.norm(a_norm))\n",
    "#ampl_b = (b_norm/np.linalg.norm(b_norm))\n",
    "n_qubits_psi = int(math.ceil(np.log2(len(ampl_psi))))\n",
    "print(n_qubits_psi)\n",
    "psi_anc = QuantumRegister(1, name=\"psi_anc\")\n",
    "psi_state = QuantumRegister(n_qubits_psi, name=\"psi_state\")\n",
    "qc_psi = QuantumCircuit(psi_anc, psi_state)\n",
    "qc_psi.h(psi_anc)\n",
    "qc_psi.append(ampl_psi, psi_state)\n"
   ]
  },
  {
   "cell_type": "code",
   "execution_count": null,
   "id": "3a864a49-be14-4c7a-87f6-8ea367b2c765",
   "metadata": {},
   "outputs": [],
   "source": [
    "# defining psi\n",
    "psi_con = QuantumRegister(1, name=\"psi_con\")\n",
    "psi_state = QuantumRegister(n_qubits, name=\"psi_state\")\n",
    "psi = QuantumCircuit(psi_con, psi_state, name=\"psi\")\n",
    "psi.h(psi_con)\n",
    "psi.append(a_con, psi.qubits)\n",
    "psi.x(psi_con)\n",
    "psi.append(b_con, psi.qubits)"
   ]
  },
  {
   "cell_type": "code",
   "execution_count": null,
   "id": "590dc8dc-0d9f-40f8-bb10-ef0ef002000d",
   "metadata": {},
   "outputs": [],
   "source": [
    "# defining phi\n",
    "phi = QuantumCircuit(n_qubits + 1, name=\"phi\")\n",
    "phi.h(0)"
   ]
  },
  {
   "cell_type": "code",
   "execution_count": null,
   "id": "2ab491cb-a546-462a-9b0c-1d45888777b4",
   "metadata": {},
   "outputs": [],
   "source": [
    "state_vec = Statevector.from_instruction(qc_psi).data\n",
    "print(f'State Vector of: {state_vec}')\n",
    "print(f'State Vector of: {Statevector.from_instruction(qc_psi).to_dict()}')\n",
    "vector2latex(state_vec, pretext=\"|%s\\\\rangle =\"%'PSI')"
   ]
  },
  {
   "cell_type": "code",
   "execution_count": null,
   "id": "654ed783-9c44-42ac-ada2-1bd906016ae0",
   "metadata": {},
   "outputs": [],
   "source": [
    "# phi circuit\n",
    "ampl_phi = np.array([np.linalg.norm(a_norm), -np.linalg.norm(b_norm)])/np.sqrt(Z)\n",
    "n_qubits_phi = 1\n",
    "qc_phi = QuantumCircuit(n_qubits+ n_qubits_phi) # always 1\n",
    "qc_phi.initialize(ampl_phi, [0])\n",
    "#state_phi = print_state_vector(qc_phi, 'phi')"
   ]
  },
  {
   "cell_type": "code",
   "execution_count": null,
   "id": "348dbeaf-2b41-429f-85da-047f30995196",
   "metadata": {},
   "outputs": [],
   "source": [
    "state_vec = Statevector.from_instruction(qc_phi).data\n",
    "print(f'State Vector of: {state_vec}')\n",
    "print(f'State Vector of: {Statevector.from_instruction(qc_phi).to_dict()}')\n",
    "vector2latex(state_vec, pretext=\"|%s\\\\rangle =\"%'PSI')"
   ]
  },
  {
   "cell_type": "code",
   "execution_count": null,
   "id": "0e87205f-1d75-41ac-b537-7008dae6966d",
   "metadata": {},
   "outputs": [],
   "source": [
    "anc = QuantumRegister(1, \"ancilla\")\n",
    "qr_psi = QuantumRegister(n_qubits+1, \"psi\")\n",
    "qr_phi = QuantumRegister(n_qubits+1, \"phi\") # size always 1\n",
    "#cr = ClassicalRegister(1, \"cr\")\n",
    "\n",
    "# Creating Quantum Circuit called \"qc\" involving your Quantum Register \"qr\"\n",
    "# and your Classical Register \"cr\"\n",
    "qc = QuantumCircuit(anc, qr_psi, qr_phi, name=\"k_means\")\n",
    "\n",
    "qc.append(psi, qr_psi)\n",
    "qc.append(phi, qr_phi)\n",
    "print(qc.reverse_bits().draw())\n",
    "state_vec = Statevector.from_instruction(qc.reverse_bits()).data"
   ]
  },
  {
   "cell_type": "code",
   "execution_count": null,
   "id": "d2518491-fc06-45a2-9246-7305fe058f00",
   "metadata": {},
   "outputs": [],
   "source": [
    "state_vec.shape"
   ]
  },
  {
   "cell_type": "code",
   "execution_count": null,
   "id": "47212bb2-e3e9-4cf2-952c-6ad8a756c559",
   "metadata": {},
   "outputs": [],
   "source": [
    "vector2latex(state_vec, pretext=\"|%s\\\\rangle =\"%'AncPsiPhi')"
   ]
  },
  {
   "cell_type": "code",
   "execution_count": null,
   "id": "fb50f20b-05b0-4a6b-b943-f97c8627cd57",
   "metadata": {},
   "outputs": [],
   "source": [
    "qc.draw(output='mpl', style={'backgroundcolor': '#EEEEEE'})"
   ]
  },
  {
   "cell_type": "code",
   "execution_count": null,
   "id": "e8a74a3c-91dd-4b2b-994c-3ae938035ff3",
   "metadata": {},
   "outputs": [],
   "source": [
    "#QIBO\n",
    "from qibo import *\n",
    "from qibo.models import Circuit\n",
    "from qibo import gates"
   ]
  },
  {
   "cell_type": "code",
   "execution_count": null,
   "id": "eedf04f7-8e34-4f91-a433-96e5fd602975",
   "metadata": {},
   "outputs": [],
   "source": [
    "list_psi_qubits = list(range(1,n_qubits+1+1))\n",
    "list_phi_qubits = list(range(n_qubits+1+1, n_qubits+1+n_qubits+1+1))"
   ]
  },
  {
   "cell_type": "code",
   "execution_count": null,
   "id": "40db60da-4011-4c01-bbae-392c418c75a6",
   "metadata": {},
   "outputs": [],
   "source": [
    "list_psi_qubits, list_phi_qubits"
   ]
  },
  {
   "cell_type": "code",
   "execution_count": null,
   "id": "6b656352-31fb-4912-b524-3f837193f14d",
   "metadata": {},
   "outputs": [],
   "source": [
    "#psi circuit\n",
    "qc_psi = Circuit(n_qubits+1)\n",
    "    \n",
    "# phi circuit\n",
    "qc_phi = Circuit(n_qubits+1)\n",
    "\n",
    "# create QKmeans circuit\n",
    "qc = Circuit(2*n_qubits+2+1) # 1 = ancilla psi, 1 = ancilla\n",
    "\n",
    "qc.add(qc_psi.on_qubits(*(list_psi_qubits)))\n",
    "qc.add(qc_phi.on_qubits(*(list_phi_qubits)))"
   ]
  },
  {
   "cell_type": "code",
   "execution_count": null,
   "id": "8c162207-d2cf-48db-a6a7-af93087765d5",
   "metadata": {},
   "outputs": [],
   "source": [
    "qc.add(gates.H(0))"
   ]
  },
  {
   "cell_type": "code",
   "execution_count": null,
   "id": "abe40e75-f0c8-4360-bae4-29f9a68abf78",
   "metadata": {},
   "outputs": [],
   "source": [
    "for i, q in enumerate(list_psi_qubits):\n",
    "    print(q)\n",
    "    print(list_phi_qubits[i])\n",
    "    qc.add(gates.SWAP(\n",
    "        q,\n",
    "        list_phi_qubits[i]\n",
    "    ).controlled_by(0))"
   ]
  },
  {
   "cell_type": "code",
   "execution_count": null,
   "id": "24edb39b-3818-431f-b259-a52c2964dbdc",
   "metadata": {},
   "outputs": [],
   "source": [
    "qc.add(gates.H(0))\n",
    "    \n",
    "qc.add(gates.M(0)) # returing back one number!"
   ]
  },
  {
   "cell_type": "code",
   "execution_count": null,
   "id": "63aa8b48-4f34-4318-8304-0f6aca06c079",
   "metadata": {},
   "outputs": [],
   "source": [
    "result = qc.execute(initial_state=state_vec, nshots=1000)\n",
    "counts = result.frequencies(binary=True)"
   ]
  },
  {
   "cell_type": "code",
   "execution_count": null,
   "id": "a0d109d0-c4a2-486f-99a3-acd992ae36a2",
   "metadata": {},
   "outputs": [],
   "source": [
    "counts"
   ]
  },
  {
   "cell_type": "code",
   "execution_count": null,
   "id": "2865bf45-2eb2-477d-a4ee-2a0d92b513ae",
   "metadata": {},
   "outputs": [],
   "source": [
    "Z=2.0\n",
    "distance = 2*(counts['0']/1000 - 0.5)*2*Z"
   ]
  },
  {
   "cell_type": "code",
   "execution_count": null,
   "id": "fa108846-9ed2-4769-b124-5edb4d5c586d",
   "metadata": {},
   "outputs": [],
   "source": [
    "distance = distc.DistCalc(a, b)"
   ]
  },
  {
   "cell_type": "code",
   "execution_count": null,
   "id": "9b3aed4f-6b41-49de-a8ad-e5c38cb1e189",
   "metadata": {},
   "outputs": [],
   "source": [
    "distance"
   ]
  },
  {
   "cell_type": "code",
   "execution_count": null,
   "id": "58bf59d1-89ea-4135-abdf-88e368ea7b76",
   "metadata": {},
   "outputs": [],
   "source": [
    "# Euclidian distance\n",
    "dist = np.linalg.norm(a_norm-b_norm)\n",
    "dist"
   ]
  },
  {
   "cell_type": "markdown",
   "id": "852af077-b696-4d47-9287-0ca9b3247967",
   "metadata": {},
   "source": [
    "### Plot DistCalc cirucit"
   ]
  },
  {
   "cell_type": "code",
   "execution_count": null,
   "id": "d36db3d3-71ac-4b1e-913b-187e9fa3e46f",
   "metadata": {},
   "outputs": [],
   "source": [
    "Z = calc_Z(a_norm, b_norm)\n",
    "    \n",
    "psi = create_psi(a_norm, b_norm)\n",
    "phi = create_phi(a_norm, b_norm)\n",
    "\n",
    "anc = QuantumRegister(1, \"ancilla\")\n",
    "qr_psi = QuantumRegister(psi.width(), \"psi\")\n",
    "qr_phi = QuantumRegister(1, \"phi\") # size always 1\n",
    "#cr = ClassicalRegister(1, \"cr\")\n",
    "\n",
    "# Creating Quantum Circuit called \"qc\" involving your Quantum Register \"qr\"\n",
    "# and your Classical Register \"cr\"\n",
    "qc = QuantumCircuit(anc, qr_psi, qr_phi, name=\"k_means\")\n",
    "\n",
    "qc.append(psi, qr_psi)\n",
    "qc.append(phi, qr_phi)\n",
    "state_vec = Statevector.from_instruction(qc.reverse_bits()).data\n",
    "return np.asarray(state_vec), psi.width()"
   ]
  },
  {
   "cell_type": "markdown",
   "id": "c26ec8fc-c633-4eed-a9b7-f16fa1fa184d",
   "metadata": {},
   "source": [
    "### 2. Check Durr&Hoyer algo"
   ]
  },
  {
   "cell_type": "code",
   "execution_count": null,
   "id": "ce45af0d-28fe-4056-be4e-7fc6129f2d67",
   "metadata": {},
   "outputs": [],
   "source": [
    "a = np.array([1,2], dtype=np.float64)\n",
    "b = np.array([2,3], dtype=np.float64)\n",
    "num_features = 2"
   ]
  },
  {
   "cell_type": "code",
   "execution_count": null,
   "id": "eb6c056e-d71c-48a9-ace4-fc9f0bf68a89",
   "metadata": {},
   "outputs": [],
   "source": [
    "a = qkm.prepare_input(a)\n",
    "b = qkm.prepare_input(b)"
   ]
  },
  {
   "cell_type": "code",
   "execution_count": null,
   "id": "017bd752-3689-440e-a266-21e87fa9febd",
   "metadata": {},
   "outputs": [],
   "source": [
    "n_qubits_psi = len(np.concatenate((a,b)))"
   ]
  },
  {
   "cell_type": "code",
   "execution_count": null,
   "id": "03195887-f8df-4440-83c0-10963ff13ee5",
   "metadata": {},
   "outputs": [],
   "source": [
    "amplitudes = qkm.get_amplitudes_from_qiskit(a, b, num_features)"
   ]
  },
  {
   "cell_type": "code",
   "execution_count": null,
   "id": "e5fe7b37-1a4d-494c-a4bd-a63eeda1ea7c",
   "metadata": {},
   "outputs": [],
   "source": [
    "amplitudes"
   ]
  },
  {
   "cell_type": "code",
   "execution_count": null,
   "id": "71877e60-a89e-4d27-8fe7-c338d0b41abc",
   "metadata": {},
   "outputs": [],
   "source": [
    "# state_vector_check = qkm.DistCalc_test(a, b, num_features, ampls)\n",
    "# print(state_vector_check)"
   ]
  },
  {
   "cell_type": "code",
   "execution_count": null,
   "id": "ebc0e5c5-b35e-459e-be14-f529d5efb6e0",
   "metadata": {},
   "outputs": [],
   "source": [
    "distance, qc = qkm.DistCalc(a, b, num_features)"
   ]
  },
  {
   "cell_type": "code",
   "execution_count": null,
   "id": "e88113f7-78ef-4a34-b8f1-f09683aa5640",
   "metadata": {},
   "outputs": [],
   "source": [
    "print(distance)"
   ]
  },
  {
   "cell_type": "code",
   "execution_count": null,
   "id": "c6e6f037-24c0-4069-9683-6838fe2a8eeb",
   "metadata": {},
   "outputs": [],
   "source": [
    "# Euclidian distance\n",
    "dist = np.linalg.norm(a-b)\n",
    "dist"
   ]
  },
  {
   "cell_type": "code",
   "execution_count": null,
   "id": "80162af7-adfd-4424-a8fa-438dd128034b",
   "metadata": {},
   "outputs": [],
   "source": [
    "dist = np.sqrt(np.sum(np.square(a - b)))\n",
    "dist"
   ]
  },
  {
   "cell_type": "code",
   "execution_count": null,
   "id": "fe25a560-dab9-40e0-b42f-627be8305263",
   "metadata": {},
   "outputs": [],
   "source": [
    "# 10 features\n",
    "distances = np.array([13.2,3.6,4.5,1,8,53,2,19], dtype=np.float32)"
   ]
  },
  {
   "cell_type": "code",
   "execution_count": null,
   "id": "16c29ec2-915a-420f-b727-4108dada2cfb",
   "metadata": {},
   "outputs": [],
   "source": [
    "index = m.duerr_hoyer_algo(distances)"
   ]
  },
  {
   "cell_type": "code",
   "execution_count": null,
   "id": "7d0517e5-8c7d-4ab3-acac-9af4a55a6f18",
   "metadata": {},
   "outputs": [],
   "source": [
    "index"
   ]
  },
  {
   "cell_type": "markdown",
   "id": "ce96eaa5-b978-48eb-af01-4bb911519c40",
   "metadata": {},
   "source": [
    "### 3. Check QKmeans algo"
   ]
  },
  {
   "cell_type": "code",
   "execution_count": null,
   "id": "ff6d1bf1-2008-4939-a0f5-444a98db831e",
   "metadata": {},
   "outputs": [],
   "source": [
    "samples_n = int(250)\n",
    "data_bg = np.random.multivariate_normal(mean=(1,1), cov=np.eye(2)*0.2, size=samples_n)\n",
    "data_sig = np.random.multivariate_normal(mean=(2,2), cov=np.eye(2)*0.5, size=samples_n)"
   ]
  },
  {
   "cell_type": "code",
   "execution_count": null,
   "id": "10f452bf-2d19-42e5-8d2f-d5a6b73f914a",
   "metadata": {},
   "outputs": [],
   "source": [
    "import importlib\n",
    "importlib.reload(o)"
   ]
  },
  {
   "cell_type": "code",
   "execution_count": null,
   "id": "9118c78d-d03d-4880-bd17-70a86124d3dd",
   "metadata": {},
   "outputs": [],
   "source": [
    "p.plot_clusters(np.vstack([data_bg, data_sig]), np.vstack([np.zeros((samples_n,1)), np.ones((samples_n,1))]))"
   ]
  },
  {
   "cell_type": "code",
   "execution_count": null,
   "id": "2258038c-7e06-4c87-a75b-2207ade01d73",
   "metadata": {},
   "outputs": [],
   "source": [
    "data = np.concatenate((data_bg, data_sig))\n",
    "np.random.shuffle(data)"
   ]
  },
  {
   "cell_type": "code",
   "execution_count": null,
   "id": "0849b1ef-91af-418f-9e20-8d21d3894cc1",
   "metadata": {},
   "outputs": [],
   "source": [
    "data.shape"
   ]
  },
  {
   "cell_type": "code",
   "execution_count": null,
   "id": "728817d8-d63b-427b-95e5-19ff4029076c",
   "metadata": {},
   "outputs": [],
   "source": [
    "centroids = qkmed.initialize_centroids(data, k=2)   # Intialize centroids"
   ]
  },
  {
   "cell_type": "code",
   "execution_count": null,
   "id": "5e5e4271-aa24-4b74-9840-675523a7bf2f",
   "metadata": {},
   "outputs": [],
   "source": [
    "centroids = centroids.astype('float64')\n",
    "data = data.astype('float64')"
   ]
  },
  {
   "cell_type": "code",
   "execution_count": null,
   "id": "a2a2491b-ef1a-4508-9f5c-b941a2f23df8",
   "metadata": {},
   "outputs": [],
   "source": [
    "plt.figure()\n",
    "plt.scatter(data[:, 0], data[:, 1], s=40)\n",
    "plt.scatter(centroids[0,0], centroids[0,1], s=40, c='y', marker='o')\n",
    "plt.scatter(centroids[1,0], centroids[1,1], s=40, c='r', marker='o')\n",
    "plt.show()"
   ]
  },
  {
   "cell_type": "code",
   "execution_count": null,
   "id": "8df31dea-5783-4965-bbd2-c42bb3bb247c",
   "metadata": {},
   "outputs": [],
   "source": [
    "# run k-means algorithm\n",
    "i = 0\n",
    "while True:\n",
    "    cluster_label, _ = qkmed.find_nearest_neighbour(data[:2],centroids)       # find nearest centers\n",
    "    new_centroids = qkmed.find_centroids_GM(data[:2],cluster_label, clusters=2)               # find centroids\n",
    "    #print('[clustering_quantum:train_qmeans] >>> iter {}: new centers {}'.format(i,new_centroids))\n",
    "    if np.allclose(new_centroids, centroids, rtol=1E-2):\n",
    "        break\n",
    "    print(f'Iteration: {i}')    \n",
    "    centroids = new_centroids\n",
    "    i += 1\n",
    "    #qkm.draw_plot_w_centroids(data, centroids, cluster_label)"
   ]
  },
  {
   "cell_type": "code",
   "execution_count": null,
   "id": "7d1bbfb5-8526-4543-9dca-821254d172ca",
   "metadata": {},
   "outputs": [],
   "source": [
    "new_centroids = qkmed.find_centroids(data,cluster_label, clusters=2)"
   ]
  },
  {
   "cell_type": "code",
   "execution_count": null,
   "id": "75364b21-f891-43f9-8592-ce35b2e47a34",
   "metadata": {},
   "outputs": [],
   "source": [
    "y = np.mean(data[:10], 0)\n",
    "y.shape"
   ]
  },
  {
   "cell_type": "code",
   "execution_count": null,
   "id": "5d779f0f-a36e-41c1-92fd-ab3695c4d43d",
   "metadata": {},
   "outputs": [],
   "source": [
    "[y]"
   ]
  },
  {
   "cell_type": "code",
   "execution_count": null,
   "id": "85af86be-6055-4d7b-8dce-f7a472929ed3",
   "metadata": {},
   "outputs": [],
   "source": [
    "from scipy.spatial.distance import cdist, euclidean\n",
    "\n",
    "D = cdist(data[:10], [y])\n",
    "D.shape"
   ]
  },
  {
   "cell_type": "code",
   "execution_count": null,
   "id": "cf7f92a9-584a-4925-8b84-5d91b2e31146",
   "metadata": {},
   "outputs": [],
   "source": [
    "def find_distance_matrix_quantum(XA, XB):\n",
    "    XA = np.asarray(XA)\n",
    "    XB = np.asarray(XB)\n",
    "\n",
    "    sA = XA.shape\n",
    "    sB = XB.shape\n",
    "\n",
    "    if len(sA) != 2:\n",
    "        raise ValueError('XA must be a 2-dimensional array.')\n",
    "    if len(sB) != 2:\n",
    "        raise ValueError('XB must be a 2-dimensional array.')\n",
    "    if sA[1] != sB[1]:\n",
    "        raise ValueError('XA and XB must have the same number of columns '\n",
    "                         '(i.e. feature dimension.)')\n",
    "\n",
    "    mA = sA[0]; mB = sB[0]; n = sA[1]\n",
    "    \n",
    "    dist_matrix = np.zeros((mA, mB))\n",
    "    for i in range(mA):\n",
    "        dist_matrix[i,:], _ = distc.DistCalc(XA[i,:], XB[0,:], n)\n",
    "    return dist_matrix\n",
    "    "
   ]
  },
  {
   "cell_type": "code",
   "execution_count": null,
   "id": "6946f65f-c4be-40ed-bf57-f9554b28177d",
   "metadata": {},
   "outputs": [],
   "source": [
    "X=data[:10]"
   ]
  },
  {
   "cell_type": "code",
   "execution_count": null,
   "id": "a2cabf46-63cb-4f8a-9bb4-01db0c195e0c",
   "metadata": {},
   "outputs": [],
   "source": [
    "y = np.mean(X, 0)\n",
    "\n",
    "while True:\n",
    "    D = find_distance_matrix_quantum(X, [y])\n",
    "    print(D)\n",
    "    nonzeros = (D != 0)[:, 0]\n",
    "\n",
    "    Dinv = 1 / D[nonzeros]\n",
    "    Dinvs = np.sum(Dinv)\n",
    "    W = Dinv / Dinvs\n",
    "    T = np.sum(W * X[nonzeros], 0)\n",
    "\n",
    "    num_zeros = len(X) - np.sum(nonzeros)\n",
    "    if num_zeros == 0:\n",
    "        y1 = T\n",
    "    elif num_zeros == len(X):\n",
    "        end = y\n",
    "        break\n",
    "    else:\n",
    "        R = (T - y) * Dinvs\n",
    "        r = np.linalg.norm(R)\n",
    "        rinv = 0 if r == 0 else num_zeros/r\n",
    "        y1 = max(0, 1-rinv)*T + min(1, rinv)*y\n",
    "    \n",
    "    d_y_y1,_ = distc.DistCalc(y, y1, y.shape[0])\n",
    "    if d_y_y1 < 1e-2:\n",
    "        end = y1\n",
    "        break\n",
    "\n",
    "    y = y1"
   ]
  },
  {
   "cell_type": "code",
   "execution_count": null,
   "id": "3a70e30e-a9ef-4853-875b-f4bc89603570",
   "metadata": {},
   "outputs": [],
   "source": [
    "end"
   ]
  },
  {
   "cell_type": "code",
   "execution_count": null,
   "id": "6415d30f-cc21-4031-8ac0-5b09e40d7add",
   "metadata": {},
   "outputs": [],
   "source": [
    "y"
   ]
  },
  {
   "cell_type": "code",
   "execution_count": null,
   "id": "1c47e1b2-f3dc-45b5-8548-77b2ffff6d0f",
   "metadata": {},
   "outputs": [],
   "source": [
    "cluster_label"
   ]
  },
  {
   "cell_type": "code",
   "execution_count": null,
   "id": "40a1b3bd-b123-4f8d-8a01-f355a308a636",
   "metadata": {},
   "outputs": [],
   "source": [
    "qkm.draw_plot_w_centroids(data, centroids, cluster_label) #only 2 feature data"
   ]
  },
  {
   "cell_type": "code",
   "execution_count": null,
   "id": "819f415b-4bd7-4a32-adc9-c8edbf131fb0",
   "metadata": {},
   "outputs": [],
   "source": [
    "p.plot_latent_representations(data, cluster_label, '/eos/user/e/epuljak/private/epuljak/PhD/TN/QIBO/search_algorithms/plots', 'test_clusters_qkmedians_DURRmin' )"
   ]
  },
  {
   "cell_type": "code",
   "execution_count": null,
   "id": "d9e0dacc-25f1-45ce-af4f-ea6b895e2b20",
   "metadata": {},
   "outputs": [],
   "source": [
    "# Check classical Kmeans\n",
    "from sklearn.cluster import KMeans\n",
    "\n",
    "kmean = KMeans(n_clusters=2).fit(data)\n",
    "    \n",
    "centroids = kmean.cluster_centers_\n",
    "pred_kmean = kmean.predict(data)\n",
    "\n",
    "p.plot_latent_representations(data, pred_kmean, '/eos/user/e/epuljak/private/epuljak/PhD/TN/QIBO/search_algorithms/plots', 'test_clusters_kmeans' )"
   ]
  },
  {
   "cell_type": "markdown",
   "id": "a4c83ccc-abcb-4609-b689-417af9e92256",
   "metadata": {},
   "source": [
    "### 4. Check QKmeans on Dijet dataset"
   ]
  },
  {
   "cell_type": "code",
   "execution_count": null,
   "id": "d9c4740b-0661-4b08-ac7b-4e1169d48984",
   "metadata": {},
   "outputs": [],
   "source": [
    "import h5py\n",
    "from sklearn.model_selection import train_test_split"
   ]
  },
  {
   "cell_type": "code",
   "execution_count": null,
   "id": "2e625f6a-282f-4280-a3c0-1741766fa556",
   "metadata": {},
   "outputs": [],
   "source": [
    "save_dir='baseline_results/models/AE/test_26012022'\n",
    "output_file = f'/eos/user/e/epuljak/private/epuljak/PhD/Kinga/{save_dir}/latentsamples_QCD_signal.h5'"
   ]
  },
  {
   "cell_type": "code",
   "execution_count": null,
   "id": "748c88b6-ad63-4d66-a873-97e7e92c2a9e",
   "metadata": {},
   "outputs": [],
   "source": [
    "with h5py.File(output_file,'r') as file:\n",
    "    #file['predicted_QCD'][:]\n",
    "    latent_space = file['encoded_QCD'][:]"
   ]
  },
  {
   "cell_type": "code",
   "execution_count": null,
   "id": "56efdeb6-4d49-41a0-b8e9-85d966b6c0bf",
   "metadata": {},
   "outputs": [],
   "source": [
    "latent_space.shape"
   ]
  },
  {
   "cell_type": "code",
   "execution_count": null,
   "id": "14d9415e-5dcb-499d-86d3-18ff6430a21a",
   "metadata": {},
   "outputs": [],
   "source": [
    "num_samples = 100000"
   ]
  },
  {
   "cell_type": "code",
   "execution_count": null,
   "id": "fc8de08f-7510-413b-9445-02a73b4cb0cf",
   "metadata": {},
   "outputs": [],
   "source": [
    "X_train, X_test = train_test_split(latent_space[:num_samples], test_size=0.2, shuffle=False)"
   ]
  },
  {
   "cell_type": "code",
   "execution_count": null,
   "id": "4e045c0f-6b9b-4bd4-9b4a-1979046e9427",
   "metadata": {},
   "outputs": [],
   "source": [
    "k = 2 # number of clusters\n",
    "centroids = qkm.initialize_centroids(X_train, k=k)   # Intialize centroids"
   ]
  },
  {
   "cell_type": "code",
   "execution_count": null,
   "id": "840abe84-c79d-43a2-bc10-0b1ea1f32130",
   "metadata": {},
   "outputs": [],
   "source": [
    "centroids = centroids.astype('float64')\n",
    "X_train = X_train.astype('float64')"
   ]
  },
  {
   "cell_type": "code",
   "execution_count": null,
   "id": "d7cbfc7c-0683-469f-9169-ee454c4ce913",
   "metadata": {},
   "outputs": [],
   "source": [
    "X_train.shape"
   ]
  },
  {
   "cell_type": "code",
   "execution_count": null,
   "id": "0295823f-f58b-48a0-bb37-b9dfa0a12d87",
   "metadata": {},
   "outputs": [],
   "source": [
    "# run qk-means algorithm\n",
    "i = 0\n",
    "while True:\n",
    "    cluster_label, _ = qkm.find_nearest_neighbour(X_train,centroids)       # find nearest centers\n",
    "    new_centroids = qkm.find_centroids(X_train,cluster_label, clusters=2)               # find centroids\n",
    "    if np.allclose(new_centroids, centroids, rtol=1.e-2):\n",
    "            break\n",
    "            \n",
    "    centroids = new_centroids\n",
    "    i += 1\n",
    "    break\n",
    "    #qkm.draw_plot_w_centroids(X_train, centroids, cluster_label)\n",
    "print('Finished')\n",
    "#qkm.draw_plot_w_centroids(X_train, centroids, cluster_label)"
   ]
  },
  {
   "cell_type": "code",
   "execution_count": null,
   "id": "006736a4-1d6c-404e-a5a6-db4402926c96",
   "metadata": {},
   "outputs": [],
   "source": [
    "new_centroids = qkm.find_centroids(X_train,cluster_label, clusters=2)"
   ]
  },
  {
   "cell_type": "code",
   "execution_count": null,
   "id": "5c4dd221-09ae-4265-b9c0-7387e9666601",
   "metadata": {},
   "outputs": [],
   "source": [
    "p.plot_latent_representations(X_train, cluster_label, '/eos/user/e/epuljak/private/epuljak/PhD/TN/QIBO/search_algorithms/plots', 'jets_test_qkmeans' )"
   ]
  },
  {
   "cell_type": "code",
   "execution_count": null,
   "id": "23387758-a63e-438f-8c67-c6482d2cb9e0",
   "metadata": {},
   "outputs": [],
   "source": [
    "cluster_label.shape"
   ]
  },
  {
   "cell_type": "code",
   "execution_count": null,
   "id": "ee37a233-2a94-4b20-8633-c5b8d9b3fdb5",
   "metadata": {},
   "outputs": [],
   "source": [
    "from sklearn.cluster import KMeans\n",
    "\n",
    "kmean = KMeans(n_clusters=2, n_init=1, max_iter=1).fit(X_train)\n",
    "    \n",
    "centroids = kmean.cluster_centers_\n",
    "pred_kmean = kmean.predict(X_train)\n",
    "\n",
    "p.plot_latent_representations(X_train, pred_kmean, '/eos/user/e/epuljak/private/epuljak/PhD/TN/QIBO/search_algorithms/plots', 'jets_test_kmeans' )"
   ]
  },
  {
   "cell_type": "markdown",
   "id": "4f8d3dc2-e9d3-4f3a-ae8a-a8f101be7083",
   "metadata": {},
   "source": [
    "## 5. Check KMeans on Dijet dataset"
   ]
  },
  {
   "cell_type": "code",
   "execution_count": null,
   "id": "d160f825-fcd3-4a29-a3da-7997ed819234",
   "metadata": {},
   "outputs": [],
   "source": [
    "save_dir='inference_ntb/results/01022022_1'\n",
    "output_file = f'/eos/user/e/epuljak/private/epuljak/PhD/Autoencoders/{save_dir}/latentrep_QCD_sig.h5'"
   ]
  },
  {
   "cell_type": "code",
   "execution_count": null,
   "id": "a05e55a7-a5ed-4450-926b-56db0d8d433e",
   "metadata": {},
   "outputs": [],
   "source": [
    "with h5py.File(output_file,'r') as file:\n",
    "    latent_space = file['latent_space'][:]"
   ]
  },
  {
   "cell_type": "code",
   "execution_count": null,
   "id": "96679596-e7d7-43bd-bea7-c8097276305d",
   "metadata": {},
   "outputs": [],
   "source": [
    "latent_space.shape"
   ]
  },
  {
   "cell_type": "code",
   "execution_count": null,
   "id": "db05ce97-25c6-47ea-8c92-449d6d503749",
   "metadata": {},
   "outputs": [],
   "source": [
    "# Check classical Kmeans\n",
    "from sklearn.cluster import KMeans\n",
    "\n",
    "kmean = KMeans(n_clusters=2).fit(latent_space[:10000])\n",
    "    \n",
    "centroids = kmean.cluster_centers_\n",
    "pred_kmean = kmean.predict(latent_space[10000:20000])\n",
    "\n",
    "p.plot_latent_representations(latent_space[10000:20000], pred_kmean, '/eos/user/e/epuljak/private/epuljak/PhD/TN/QIBO/search_algorithms/plots', 'test_clusters_kmeans_DAE' )"
   ]
  },
  {
   "cell_type": "code",
   "execution_count": null,
   "id": "28b0c891-fc4e-4739-a3cc-e35564357bcf",
   "metadata": {},
   "outputs": [],
   "source": [
    "import importlib\n",
    "importlib.reload(KM)"
   ]
  },
  {
   "cell_type": "code",
   "execution_count": null,
   "id": "fc0d9237-4feb-4737-87ee-fc79d865dbf3",
   "metadata": {},
   "outputs": [],
   "source": [
    "# Check implementation from GITHUB\n",
    "import scripts.kmeans as KM\n",
    "\n",
    "kmeans_gh = KM.Kmeans(k=2)\n",
    "kmeans_gh.fit(latent_space[:50000])\n",
    "    \n",
    "#centroids = kmean_gh.cluster_centers_\n",
    "pred_kmean = kmeans_gh.predict(latent_space[50000:100000])\n",
    "\n",
    "p.plot_latent_representations(latent_space[50000:100000], pred_kmean, '/eos/user/e/epuljak/private/epuljak/PhD/TN/QIBO/search_algorithms/plots', 'test_clusters_kmeansGH_DAE' )"
   ]
  },
  {
   "cell_type": "markdown",
   "id": "cd6b247f-9e65-4fc1-be08-1132618e5c43",
   "metadata": {},
   "source": [
    "## 6. Check KMedians and QKMedians for Dijet data"
   ]
  },
  {
   "cell_type": "code",
   "execution_count": null,
   "id": "55d94581-eece-4df8-becc-bf7122beb59f",
   "metadata": {},
   "outputs": [],
   "source": [
    "run='01022022_1'"
   ]
  },
  {
   "cell_type": "code",
   "execution_count": null,
   "id": "34c50816-cb75-42ed-bd19-6f2b9842ad7a",
   "metadata": {},
   "outputs": [],
   "source": [
    "save_dir='inference_ntb/results/01022022_1'\n",
    "output_file = f'/eos/user/e/epuljak/private/epuljak/PhD/Autoencoders/{save_dir}/latentrep_QCD_sig.h5'"
   ]
  },
  {
   "cell_type": "code",
   "execution_count": null,
   "id": "67f0e465-caf7-49b1-a92a-a023356ed5e9",
   "metadata": {},
   "outputs": [],
   "source": [
    "with h5py.File(output_file,'r') as file:\n",
    "    latent_space = file['latent_space'][:]"
   ]
  },
  {
   "cell_type": "code",
   "execution_count": null,
   "id": "62200038-bed8-46d3-bd09-2dc398aa1dfd",
   "metadata": {},
   "outputs": [],
   "source": [
    "num_samples = 100"
   ]
  },
  {
   "cell_type": "code",
   "execution_count": null,
   "id": "ab46e3f3-a458-4171-a36a-efd543fbc15c",
   "metadata": {},
   "outputs": [],
   "source": [
    "data = latent_space[:num_samples]"
   ]
  },
  {
   "cell_type": "code",
   "execution_count": null,
   "id": "1a310861-ecc7-43c8-b091-87b633104009",
   "metadata": {},
   "outputs": [],
   "source": [
    "# Check implementation from GITHUB\n",
    "import scripts.kmedians as KMed\n",
    "\n",
    "kmedians = KMed.Kmedians(k=2)\n",
    "kmedians.fit(data)\n",
    "    \n",
    "#centroids = kmean_gh.cluster_centers_\n",
    "pred_kmedians = kmedians.predict(data)\n",
    "\n",
    "p.plot_latent_representations(data, pred_kmedians, '/eos/user/e/epuljak/private/epuljak/PhD/TN/QIBO/search_algorithms/plots', f'jets_kmedians_{run}_10000' )"
   ]
  },
  {
   "cell_type": "code",
   "execution_count": null,
   "id": "e0240a98-49e3-46ab-8847-eee7ea262cb9",
   "metadata": {},
   "outputs": [],
   "source": [
    "k = 2 # number of clusters\n",
    "tolerance = 1e-2\n",
    "centroids = qkmed.initialize_centroids(latent_space[:num_samples], k=k)   # Intialize centroids"
   ]
  },
  {
   "cell_type": "code",
   "execution_count": null,
   "id": "3ccefe98-bf07-4741-a6b5-c321500e3a72",
   "metadata": {},
   "outputs": [],
   "source": [
    "centroids = centroids.astype('float64')\n",
    "latent_space = latent_space.astype('float64')"
   ]
  },
  {
   "cell_type": "code",
   "execution_count": null,
   "id": "0302ce0c-152b-434d-b7cd-35aa7ca505d5",
   "metadata": {},
   "outputs": [],
   "source": [
    "import importlib\n",
    "importlib.reload(qkmed)"
   ]
  },
  {
   "cell_type": "code",
   "execution_count": null,
   "id": "bec02cd0-521a-4011-b338-36de404fb9a8",
   "metadata": {},
   "outputs": [],
   "source": [
    "# run qk-medians algorithm\n",
    "i = 0\n",
    "while True:\n",
    "    cluster_label, _ = qkmed.find_nearest_neighbour(latent_space[:num_samples],centroids)       # find nearest centers\n",
    "    new_centroids = qkmed.find_centroids_GM(latent_space[:num_samples],cluster_label, clusters=2)               # find centroids\n",
    "    \n",
    "    if np.linalg.norm(centroids - new_centroids) < tolerance:\n",
    "        centroids = new_centroids\n",
    "        print(f\"Converged after {i} iterations.\")\n",
    "        break\n",
    "    i+=1       \n",
    "    centroids = new_centroids\n",
    "    \n",
    "print('Finished')\n"
   ]
  },
  {
   "cell_type": "code",
   "execution_count": null,
   "id": "0e4be6ba-b3a2-4a78-9a5e-2c7717a96eef",
   "metadata": {},
   "outputs": [],
   "source": [
    "cluster_label_test, _ = qkm.find_nearest_neighbour(latent_space[num_samples:num_samples+1000],centroids)       # find nearest centers"
   ]
  },
  {
   "cell_type": "code",
   "execution_count": null,
   "id": "a4497ebb-29e3-4f86-b2ba-6b2eb5ca9336",
   "metadata": {},
   "outputs": [],
   "source": [
    "p.plot_latent_representations(latent_space[:num_samples], cluster_label, '/eos/user/e/epuljak/private/epuljak/PhD/TN/QIBO/search_algorithms/plots', 'test_clusters_qkmedians' )"
   ]
  },
  {
   "cell_type": "code",
   "execution_count": null,
   "id": "6928f6b5-14df-4568-8abd-daf9a24cb867",
   "metadata": {},
   "outputs": [],
   "source": [
    "from datetime import datetime\n",
    "\n",
    "now = datetime.now()\n",
    "\n",
    "current_time = now.strftime(\"%H:%M:%S\")\n",
    "print(\"Current Time =\", current_time)"
   ]
  },
  {
   "cell_type": "markdown",
   "id": "6b5e39ab-58a2-4c20-900b-af5c40e870be",
   "metadata": {},
   "source": [
    "## Check geometric median function"
   ]
  },
  {
   "cell_type": "code",
   "execution_count": null,
   "id": "e7d07d96-00c6-4f00-b076-7d5fd0641c5e",
   "metadata": {},
   "outputs": [],
   "source": [
    "distances = np.array([[1,2,3,4,5,6,7,8],[2,4,6,8,10,12,14,16],[1,3,5,7,9,11,13,15]], dtype=np.float32)"
   ]
  },
  {
   "cell_type": "code",
   "execution_count": null,
   "id": "6ca01dd4-7908-4738-bbd3-ae58f50721de",
   "metadata": {},
   "outputs": [],
   "source": [
    "median_np = np.median(distances,axis=0)\n",
    "median_np"
   ]
  },
  {
   "cell_type": "code",
   "execution_count": null,
   "id": "f8eee975-c8a1-400b-bf82-3c21189cbb0b",
   "metadata": {},
   "outputs": [],
   "source": [
    "def check_similarity(y, X, tol=1e-2):\n",
    "    for i in range(X.shape[0]):\n",
    "        if np.isclose(y, X[i,:], rtol=tol).all():\n",
    "            continue\n",
    "        else:\n",
    "            print(\"Not close!\")\n",
    "            return False\n",
    "    return True"
   ]
  },
  {
   "cell_type": "code",
   "execution_count": null,
   "id": "79a6dd4e-e0fd-4e94-a7f9-a805dcbee892",
   "metadata": {},
   "outputs": [],
   "source": [
    "def geometric_median(X, eps=1e-6):\n",
    "    if X.size==0: \n",
    "        print(\"For this class there is no points assigned!\")\n",
    "        return\n",
    "    y = np.mean(X, 0)\n",
    "    print(f'First median is: {y}')\n",
    "    z=0\n",
    "    while True:\n",
    "        #print(z)\n",
    "        D = qkmed.find_distance_matrix_quantum(X, [y])\n",
    "        #print(D)\n",
    "        nonzeros = (D != 0)[:, 0] #which points are not equal to y\n",
    "        Dinv = 1 / D[nonzeros]\n",
    "        Dinv_sum = np.sum(Dinv)\n",
    "        W = Dinv / Dinv_sum\n",
    "        T1 = np.sum(W * X[nonzeros], 0) #scaled sum of all points\n",
    "        \n",
    "        num_zeros = len(X) - np.sum(nonzeros) # number of points = y\n",
    "        #print(f'Size of inputs: {X.shape}, and there is 0: {num_zeros}')\n",
    "        if num_zeros == 0: #then next median is scaled sum of all points\n",
    "            y1 = T1\n",
    "        elif num_zeros == len(X): # if all points are same as median\n",
    "            return y\n",
    "        else:\n",
    "            R = (T1 - y) * Dinv_sum\n",
    "            r = np.linalg.norm(R)\n",
    "            gamma = 0 if r == 0 else num_zeros/r\n",
    "            gamma = min(1, gamma)\n",
    "            y1 = (1-gamma)*T1 + gamma*y\n",
    "        \n",
    "        # converge condition    \n",
    "        dist_y_y1,_ = distc.DistCalc_AmplE(y, y1)\n",
    "        print(f'Distance between 2 medians: {dist_y_y1}')\n",
    "        if dist_y_y1 < eps:\n",
    "            if check_similarity(y1, X):\n",
    "                return y1\n",
    "        #print(f'Next median is: {y1}')\n",
    "        y = y1 # next median is\n",
    "        z+=1"
   ]
  },
  {
   "cell_type": "code",
   "execution_count": null,
   "id": "13b4461f-cfb4-4824-aa27-b09f445b8629",
   "metadata": {},
   "outputs": [],
   "source": [
    "median = geometric_median(distances)"
   ]
  },
  {
   "cell_type": "code",
   "execution_count": null,
   "id": "7796f1d9-252f-45a2-bce7-371ba2286296",
   "metadata": {},
   "outputs": [],
   "source": [
    "median"
   ]
  },
  {
   "cell_type": "code",
   "execution_count": null,
   "id": "01a10e74-8580-4fdb-8891-97e6ec7fa931",
   "metadata": {},
   "outputs": [],
   "source": []
  }
 ],
 "metadata": {
  "kernelspec": {
   "display_name": "Python 3 (ipykernel)",
   "language": "python",
   "name": "python3"
  },
  "language_info": {
   "codemirror_mode": {
    "name": "ipython",
    "version": 3
   },
   "file_extension": ".py",
   "mimetype": "text/x-python",
   "name": "python",
   "nbconvert_exporter": "python",
   "pygments_lexer": "ipython3",
   "version": "3.8.12"
  }
 },
 "nbformat": 4,
 "nbformat_minor": 5
}
