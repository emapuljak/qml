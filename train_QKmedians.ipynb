{
 "cells": [
  {
   "cell_type": "code",
   "execution_count": null,
   "id": "0c63b3f7-5729-41e3-9ffd-28a4f9ee0e93",
   "metadata": {},
   "outputs": [],
   "source": [
    "import numpy as np\n",
    "import matplotlib.pyplot as plt\n",
    "import matplotlib\n",
    "%matplotlib inline\n",
    "import math\n",
    "import h5py\n",
    "\n",
    "import qibo\n",
    "qibo.set_backend(\"tensorflow\")\n",
    "import sys\n",
    "sys.path.append('../')\n",
    "sys.path.append('../../')\n",
    "sys.path.append('/eos/home-e/epuljak/private/epuljak/Autoencoders')\n",
    "import scripts.qkmeans as qkm\n",
    "import scripts.minimization as m\n",
    "import scripts.qkmedians as qkmed\n",
    "import scripts.oracle as o\n",
    "import utils as u\n",
    "import plots as p"
   ]
  },
  {
   "cell_type": "code",
   "execution_count": null,
   "id": "a7e94c20-fd66-46fd-9c0b-aaa30bdea09a",
   "metadata": {},
   "outputs": [],
   "source": [
    "qibo.set_device(\"/GPU:0\")"
   ]
  },
  {
   "cell_type": "code",
   "execution_count": null,
   "id": "1bfe75df-f730-4fb9-a8b3-01b6dc5538fd",
   "metadata": {},
   "outputs": [],
   "source": [
    "run='04032022_1'"
   ]
  },
  {
   "cell_type": "code",
   "execution_count": null,
   "id": "80e6434f-156e-45dd-b567-730fde6db7c6",
   "metadata": {},
   "outputs": [],
   "source": [
    "# read QCD predicted data (test - SIDE)\n",
    "read_dir =f'/eos/user/e/epuljak/private/epuljak/PhD/Autoencoders/inference_ntb/results/{run}/'\n",
    "file_name = 'latentrep_QCD_sig.h5'\n",
    "with h5py.File(read_dir+file_name, 'r') as data:\n",
    "    latent_rep = data['latent_space'][:]"
   ]
  },
  {
   "cell_type": "code",
   "execution_count": null,
   "id": "5546869b-8c73-4efa-a315-c75db6396a09",
   "metadata": {},
   "outputs": [],
   "source": [
    "# read SIGNAL predicted data\n",
    "read_dir =f'/eos/user/e/epuljak/private/epuljak/PhD/Autoencoders/inference_ntb/results/{run}/'\n",
    "file_name = 'latentrep_RSGraviton_WW_NA.h5'\n",
    "with h5py.File(read_dir+file_name, 'r') as data:\n",
    "    latent_rep_sig = data['latent_space_NA_RSGraviton_WW_NA_3.5'][:]"
   ]
  },
  {
   "cell_type": "code",
   "execution_count": null,
   "id": "5e78a042-5308-4088-8ad1-98aa1fb2b242",
   "metadata": {},
   "outputs": [],
   "source": [
    "data_s = latent_rep_sig[:400]"
   ]
  },
  {
   "cell_type": "code",
   "execution_count": null,
   "id": "a02e7c98-09a0-4dbb-b963-8c0eb9b3d7f6",
   "metadata": {},
   "outputs": [],
   "source": [
    "data = latent_rep[:500]"
   ]
  },
  {
   "cell_type": "code",
   "execution_count": null,
   "id": "43be1b33-8bb4-4c9f-999f-1d3e092def2d",
   "metadata": {},
   "outputs": [],
   "source": [
    "k = 2 # number of clusters\n",
    "centroids = qkmed.initialize_centroids(data, k)   # Intialize centroids"
   ]
  },
  {
   "cell_type": "code",
   "execution_count": null,
   "id": "0427a53f-b3ba-46f8-9c8d-ef4054ba4698",
   "metadata": {},
   "outputs": [],
   "source": [
    "# centroids = centroids.astype('float64')\n",
    "# data = data.astype('float64')\n",
    "# data_s = data_s.astype('float64')"
   ]
  },
  {
   "cell_type": "code",
   "execution_count": null,
   "id": "632328dd-9911-4d3d-b348-7404d651438f",
   "metadata": {},
   "outputs": [],
   "source": [
    "tolerance=1e-3"
   ]
  },
  {
   "cell_type": "code",
   "execution_count": null,
   "id": "d4a95894-3848-4860-b282-e471a4f3d417",
   "metadata": {},
   "outputs": [],
   "source": [
    "# run k-means algorithm\n",
    "i = 0\n",
    "while True:\n",
    "    cluster_label, _ = qkmed.find_nearest_neighbour_DI(data,centroids)       # find nearest centers\n",
    "    print(f'Found cluster assignments for iteration: {i+1}')\n",
    "    new_centroids = qkmed.find_centroids_GM(data,cluster_label, clusters=k)               # find centroids\n",
    "\n",
    "    if np.linalg.norm(centroids - new_centroids) < tolerance:\n",
    "        centroids = new_centroids\n",
    "        print(f\"Converged after {i+1} iterations.\")\n",
    "        break\n",
    "    print(f'Iteration: {i+1}')\n",
    "    i += 1     \n",
    "    centroids = new_centroids\n",
    "    if i == 150: break\n",
    "print('QKmedians converged!')"
   ]
  },
  {
   "cell_type": "code",
   "execution_count": null,
   "id": "f1479382-71a8-4bf0-a30d-a98e5271c57e",
   "metadata": {},
   "outputs": [],
   "source": [
    "np.save(f'cluster_label_{run}_Durr_DI_AE_3000.npy', cluster_label)\n",
    "np.save(f'centroids_{run}_Durr_DI_AE_3000.npy', centroids)"
   ]
  },
  {
   "cell_type": "code",
   "execution_count": null,
   "id": "5fb63a39-38d2-447f-a6d6-f0df767aa79e",
   "metadata": {},
   "outputs": [],
   "source": [
    "# load centroids\n",
    "import numpy as np\n",
    "#cluster_labels = np.load(f'cluster_label_{run}_Durr_DI_AE_100.npy')\n",
    "#centroids = np.load(f'centroids_{run}_Durr_DI_AE_100.npy')\n",
    "\n",
    "cluster_label = np.load(f'cluster_label_{run}_Durr_DI_AE_4000.npy')\n",
    "centroids = np.load(f'centroids_{run}_Durr_DI_AE_4000.npy')"
   ]
  },
  {
   "cell_type": "code",
   "execution_count": null,
   "id": "f0f7ccc6-3199-4b3f-b5e2-b3ea6eb7c829",
   "metadata": {},
   "outputs": [],
   "source": [
    "# cluster_label_q, q_distances = qkmed.find_nearest_neighbour_DI(data, centroids)\n",
    "cluster_label_q, q_distances = qkmed.find_nearest_neighbour_DI(data, centroids)"
   ]
  },
  {
   "cell_type": "code",
   "execution_count": null,
   "id": "f743f94e-28f3-4509-90a3-d16c2f06b97a",
   "metadata": {},
   "outputs": [],
   "source": [
    "p.plot_centroids(centroids, '/eos/user/e/epuljak/private/epuljak/PhD/TN/QIBO/search_algorithms/plots', f'jets_qkmedians_{run}_Durr_DI_AE_100')"
   ]
  },
  {
   "cell_type": "code",
   "execution_count": null,
   "id": "33b6a01e-c5f4-453a-8735-3c7018793f14",
   "metadata": {},
   "outputs": [],
   "source": [
    "p.plot_latent_representations(data, cluster_label, '/eos/user/e/epuljak/private/epuljak/PhD/TN/QIBO/search_algorithms/plots', f'jets_qkmedians_{run}' )"
   ]
  },
  {
   "cell_type": "code",
   "execution_count": null,
   "id": "1cdf5df4-6002-4b37-91d6-0059b7a2487c",
   "metadata": {},
   "outputs": [],
   "source": [
    "import scripts.kmedians as KMed\n",
    "#import importlib\n",
    "#importlib.reload(KMed)\n",
    "import time\n",
    "start_time = time.time()\n",
    "\n",
    "kmedians = KMed.Kmedians(k=2)\n",
    "kmedians.fit(data)\n",
    "\n",
    "print(\"Finish classical training ---> %s seconds ---\" % (time.time() - start_time))\n",
    "\n",
    "#centroids = kmean_gh.cluster_centers_\n",
    "#pred_kmedians, dist_c_kmed = kmedians.predict(data)\n",
    "centroids_c = kmedians.medians\n",
    "\n",
    "# centroids also switched!\n",
    "#pred_kmedians[pred_kmedians == 0] = 2\n",
    "#pred_kmedians[pred_kmedians == 1] = 0\n",
    "#pred_kmedians[pred_kmedians == 2] = 1\n",
    "\n",
    "#p.plot_latent_representations(data, pred_kmedians, '/eos/user/e/epuljak/private/epuljak/PhD/TN/QIBO/search_algorithms/plots/', f'jets_kmedians_{run}' )"
   ]
  },
  {
   "cell_type": "code",
   "execution_count": null,
   "id": "659de269-6a17-46ac-9de6-78646aa05a8f",
   "metadata": {},
   "outputs": [],
   "source": [
    "p.plot_centroids(centroids, '/eos/user/e/epuljak/private/epuljak/PhD/TN/QIBO/search_algorithms/plots', f'jets_qkmedians_{run}_500_durr_GM_AE')"
   ]
  },
  {
   "cell_type": "code",
   "execution_count": null,
   "id": "d2b9d296-f10e-4683-80bf-fecba9a1520e",
   "metadata": {},
   "outputs": [],
   "source": [
    "p.plot_centroids_compare(centroids, centroids_c, '/eos/user/e/epuljak/private/epuljak/PhD/TN/QIBO/search_algorithms/plots/latent_dim32', f'jets_qkmedians_{run}_500_durr_DI_AE_QCD')"
   ]
  },
  {
   "cell_type": "code",
   "execution_count": null,
   "id": "6b19b31e-8dcd-4d75-a34c-d2a246cb84a2",
   "metadata": {},
   "outputs": [],
   "source": [
    "cluster_label_s, q_distances_s = qkmed.find_nearest_neighbour_DI(data_s,centroids)       # find nearest centers"
   ]
  },
  {
   "cell_type": "code",
   "execution_count": null,
   "id": "761e6863-5268-4d59-bc05-de3c08b45c47",
   "metadata": {},
   "outputs": [],
   "source": [
    "p.plot_latent_representations(data_s, cluster_label_s, '/eos/user/e/epuljak/private/epuljak/PhD/TN/QIBO/search_algorithms/plots/latent_dim8', f'latent_feature_pairs_jets_qkmedians_{run}_Durr_DI_AE_SIGNALdata' )"
   ]
  },
  {
   "cell_type": "code",
   "execution_count": null,
   "id": "7a388ac7-4e94-4eb9-9d26-695d62802bdf",
   "metadata": {},
   "outputs": [],
   "source": [
    "pred_kmedians_s, dist_c_kmed = kmedians.predict(data_s)\n",
    "\n",
    "pred_kmedians_s[pred_kmedians_s == 0] = 2\n",
    "pred_kmedians_s[pred_kmedians_s == 1] = 0\n",
    "pred_kmedians_s[pred_kmedians_s == 2] = 1\n",
    "\n",
    "p.plot_latent_representations(data_s, pred_kmedians_s, '/eos/user/e/epuljak/private/epuljak/PhD/TN/QIBO/search_algorithms/plots/latent_dim8', f'latent_feature_pairs_jets_kmedians_{run}_400_DI' )"
   ]
  },
  {
   "cell_type": "code",
   "execution_count": null,
   "id": "de7fc9b2-a65f-4049-a10b-c0b30b025135",
   "metadata": {},
   "outputs": [],
   "source": [
    "import scripts.classic_functions as cf\n",
    "cluster_label_cs, c_distances_s = cf.find_nearest_neighbour_classic(data_s,centroids_c)\n",
    "cluster_label_c, c_distances = cf.find_nearest_neighbour_classic(data,centroids_c)"
   ]
  },
  {
   "cell_type": "code",
   "execution_count": null,
   "id": "6f103b31-9dcb-41f5-a7cf-4fee7707ed46",
   "metadata": {},
   "outputs": [],
   "source": [
    "import importlib\n",
    "importlib.reload(p)"
   ]
  },
  {
   "cell_type": "code",
   "execution_count": null,
   "id": "2d0b6b69-169c-40c4-a9e3-659a4c495cd8",
   "metadata": {},
   "outputs": [],
   "source": [
    "data = [q_distances, q_distances_s, cluster_label_q, cluster_label_s]\n",
    "p.plot_distance_to_centroids_quantum(data, name_signal='GtWWna35', normalize=False, id_fig=f'{run}_durr_GM_AE', save_dir='/eos/user/e/epuljak/private/epuljak/PhD/TN/QIBO/search_algorithms/plots/latent_dim8')"
   ]
  },
  {
   "cell_type": "code",
   "execution_count": null,
   "id": "8dd4fbad-902b-4a5c-aeaf-296767d037c8",
   "metadata": {},
   "outputs": [],
   "source": [
    "data = [c_distances, c_distances_s, cluster_label_c, cluster_label_cs]\n",
    "p.plot_distance_to_centroids_classic(data, name_signal='GtWWna35', normalize=False, id_fig=f'{run}_durr_DI_AE', save_dir='/eos/user/e/epuljak/private/epuljak/PhD/TN/QIBO/search_algorithms/plots/latent_dim8')"
   ]
  },
  {
   "cell_type": "code",
   "execution_count": null,
   "id": "efd83009-1eea-49d2-ad20-476f46027847",
   "metadata": {},
   "outputs": [],
   "source": [
    "data = [q_distances, q_distances_s, c_distances, c_distances_s]\n",
    "p.plot_sum_distance_compare(data, name_signal='GtWWna35', normalize=False, id_fig=f'300', save_dir='/eos/user/e/epuljak/private/epuljak/PhD/TN/QIBO/search_algorithms/plots/latent_dim25')"
   ]
  },
  {
   "cell_type": "code",
   "execution_count": null,
   "id": "2e7a4c14-8c92-482b-ad1b-28639a6277d4",
   "metadata": {},
   "outputs": [],
   "source": [
    "background = [q_distances, c_distances]\n",
    "signal = [q_distances_s, c_distances_s]\n",
    "p.plot_rocs_QKmedians(background, signal, 'ROC', save_dir='/eos/user/e/epuljak/private/epuljak/PhD/TN/QIBO/search_algorithms/plots/latent_dim25')"
   ]
  },
  {
   "cell_type": "markdown",
   "id": "05c5a32b-ca47-420b-923e-387908fe7e32",
   "metadata": {},
   "source": [
    "#### Compare ROCs"
   ]
  },
  {
   "cell_type": "code",
   "execution_count": null,
   "id": "9a955a83-085d-4bf3-8c5c-4340541dec50",
   "metadata": {},
   "outputs": [],
   "source": [
    "import importlib\n",
    "importlib.reload(p)"
   ]
  },
  {
   "cell_type": "code",
   "execution_count": null,
   "id": "dec23168-62b1-4d6b-996a-9e6731f8b963",
   "metadata": {},
   "outputs": [],
   "source": [
    "run5='24032022_1' #6\n",
    "run0='10022022_1' #8\n",
    "run1='22022022_1' #16\n",
    "#run2='01032022_1' #24\n",
    "run2='04032022_1' #25\n",
    "#run4='03032022_1' #26\n",
    "run3='01032022_2' #32\n",
    "run4='14032022_1' #40"
   ]
  },
  {
   "cell_type": "code",
   "execution_count": null,
   "id": "ba89f2e1-2ec9-4f38-81ed-7ff0a66e7184",
   "metadata": {},
   "outputs": [],
   "source": [
    "runs=[run5, run0, run1, run2, run3, run4]\n",
    "#runs=[run3]*7"
   ]
  },
  {
   "cell_type": "code",
   "execution_count": null,
   "id": "1c9c9e56-cc49-4894-b47d-20bf24250a87",
   "metadata": {},
   "outputs": [],
   "source": [
    "n_samples_train=[500]*6\n",
    "#n_samples_train=[30, 50, 100, 300, 500, 1000, 2000]"
   ]
  },
  {
   "cell_type": "code",
   "execution_count": null,
   "id": "95101daf-f2b5-4db0-9fa9-fe179e347bb1",
   "metadata": {},
   "outputs": [],
   "source": [
    "identifiers=['6', '8', '16','25', '32', '40']\n",
    "#identifiers=['30', '50', '100', '300' '500', '1000','2000']"
   ]
  },
  {
   "cell_type": "code",
   "execution_count": null,
   "id": "8fbb3311-1a93-4182-91d9-464090ffd4f6",
   "metadata": {},
   "outputs": [],
   "source": [
    "p.compare_multi_ROCs(runs, n_samples_train, identifiers, qcd_test_size=500, n_samples_signal=500, id_fig='1', title=r'$N_{qcd}=0.5k, N_{sig}=0.5k$', save_fig_dir='/eos/user/e/epuljak/private/epuljak/PhD/TN/QIBO/search_algorithms/plots')"
   ]
  },
  {
   "cell_type": "markdown",
   "id": "d55de9e2-4a03-4389-a7a5-11c237b5f9f6",
   "metadata": {},
   "source": [
    "## Input distances into QKmedians"
   ]
  }
 ],
 "metadata": {
  "kernelspec": {
   "display_name": "Python 3 (ipykernel)",
   "language": "python",
   "name": "python3"
  },
  "language_info": {
   "codemirror_mode": {
    "name": "ipython",
    "version": 3
   },
   "file_extension": ".py",
   "mimetype": "text/x-python",
   "name": "python",
   "nbconvert_exporter": "python",
   "pygments_lexer": "ipython3",
   "version": "3.8.12"
  }
 },
 "nbformat": 4,
 "nbformat_minor": 5
}
