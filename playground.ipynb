{
 "cells": [
  {
   "cell_type": "code",
   "execution_count": null,
   "id": "332cd6f8-6ed1-4475-81d4-965f36eee595",
   "metadata": {},
   "outputs": [],
   "source": [
    "import sys\n",
    "sys.path.append('../')\n",
    "sys.path.append('../../')"
   ]
  },
  {
   "cell_type": "code",
   "execution_count": null,
   "id": "559edc2e-37b5-463c-aa57-d15a7fe0b44a",
   "metadata": {},
   "outputs": [],
   "source": [
    "import numpy as np\n",
    "from utils import symbolicMatrixState\n",
    "from qibo.models import Circuit\n",
    "from qibo import gates\n",
    "import qibo\n",
    "from qibo.models import QFT\n",
    "qibo.set_backend(\"tensorflow\")"
   ]
  },
  {
   "cell_type": "code",
   "execution_count": null,
   "id": "71934d79-411c-44da-9e66-467851b59b09",
   "metadata": {},
   "outputs": [],
   "source": [
    "import tensorflow as tf"
   ]
  },
  {
   "cell_type": "markdown",
   "id": "59a62f26-79d0-46b9-9977-d821615b835f",
   "metadata": {},
   "source": [
    "## Random circuit - check GPU connection"
   ]
  },
  {
   "cell_type": "code",
   "execution_count": null,
   "id": "835e68d0-9bec-46c5-8c5c-85277435abd6",
   "metadata": {},
   "outputs": [],
   "source": [
    "circ = QFT(20)\n",
    "with tf.device(\"/GPU:0\"):\n",
    "    result = circ.execute(nshots=100)\n",
    "#print(result.frequencies(binary=True))"
   ]
  },
  {
   "cell_type": "markdown",
   "id": "414b057a-f3f7-4b27-9cc0-5f0e5ee88e05",
   "metadata": {},
   "source": [
    "## Grover's algorithm"
   ]
  },
  {
   "cell_type": "code",
   "execution_count": null,
   "id": "0bc77158-2349-48ce-9355-b5ba941b3ef2",
   "metadata": {},
   "outputs": [],
   "source": [
    "import scripts.grover as g\n",
    "import scripts.oracle as o"
   ]
  },
  {
   "cell_type": "code",
   "execution_count": null,
   "id": "4ee200b2-043d-4c25-90d3-21315c898aae",
   "metadata": {},
   "outputs": [],
   "source": [
    "def f(x, threshold):\n",
    "    return x < threshold"
   ]
  },
  {
   "cell_type": "code",
   "execution_count": null,
   "id": "c07454b2-49f1-49ef-b50b-c74f2504167a",
   "metadata": {},
   "outputs": [],
   "source": [
    "np.binary_repr(2, width=3)"
   ]
  },
  {
   "cell_type": "code",
   "execution_count": null,
   "id": "353fb0e7-c339-43c7-b871-8345eff26e6b",
   "metadata": {},
   "outputs": [],
   "source": [
    "ket_i0 = np.zeros((2**3, 1))\n",
    "print(ket_i0.shape)\n",
    "ket_i0[5] = 1\n",
    "bra_i0 = np.conj(ket_i0).T"
   ]
  },
  {
   "cell_type": "code",
   "execution_count": null,
   "id": "e0f13d98-2da2-4f49-b8b7-12ddc4bd7d3f",
   "metadata": {},
   "outputs": [],
   "source": [
    "matrix1 = np.dot(ket_i0, bra_i0)"
   ]
  },
  {
   "cell_type": "code",
   "execution_count": null,
   "id": "715493a2-8f1a-4131-ae4c-72c4c4810c43",
   "metadata": {},
   "outputs": [],
   "source": [
    "matrix2 = np.dot(ket_i0, bra_i0)"
   ]
  },
  {
   "cell_type": "code",
   "execution_count": null,
   "id": "2c4e5d71-f703-48cb-b02d-aa626696703e",
   "metadata": {},
   "outputs": [],
   "source": [
    "matrix=[67.25294171474508, 341.0046370708946, 361.6244550704071, 54.89410458703692, 37.312050326283725, 286.25991681291254, 44.04787911150442, 106.02284523771786, 35.10230157618279, 80.45737155608685, 71.5131811053048, 103.87453633490934, 43.9400597694365, 57.21587206857912, 218.71116424004526, 32.864633001639476, 89.83296715677876, 43.27725816604674, 32.98375224637114, 36.218838698027085, 311.4535607957833, 66.91939314200651, 41.891298334134014, 288.4773673408346, 56.34191146574942, 58.69523078602758, 70.3560052109315, 35.698261301471845, 164.25841686236774, 41.29339465190191, 292.03426700663215, 35.56992753300877, 110.24105624151994, 51.209652512347446, 34.061933313734365, 39.31883374106132, 137.85947622964898, 40.89703874128519, 285.63854413020715, 246.19816774606602, 113.66295883227889, 197.94149908288352, 53.22957254643204, 56.88739239394056, 263.68492319704444, 42.75375675571238, 145.93154089602046, 279.6278336145787, 177.34298468676246, 50.446407497638376]"
   ]
  },
  {
   "cell_type": "code",
   "execution_count": null,
   "id": "fc298e11-605f-4332-a9a4-c3a19ef3375f",
   "metadata": {},
   "outputs": [],
   "source": [
    "import numpy as np\n",
    "np.argmin(matrix)"
   ]
  },
  {
   "cell_type": "code",
   "execution_count": null,
   "id": "26b17c5f-e4bb-4830-9595-8cd880715718",
   "metadata": {},
   "outputs": [],
   "source": [
    "matrix = np.identity(8)\n",
    "matrix[0,0] = -1\n",
    "#matrix[0,1] = -2\n",
    "#matrix[1,0] = -2\n",
    "#matrix[1,1,]= -1"
   ]
  },
  {
   "cell_type": "code",
   "execution_count": null,
   "id": "7f3fe652-c750-4589-91b7-e9cdf7298a9f",
   "metadata": {},
   "outputs": [],
   "source": [
    "o.is_unitary(imaginary_I)"
   ]
  },
  {
   "cell_type": "code",
   "execution_count": null,
   "id": "d13b724d-5700-4e78-aa2c-b93a112f29cb",
   "metadata": {},
   "outputs": [],
   "source": [
    "imaginary_I = np.matrix(np.identity(2**8, dtype=complex))"
   ]
  },
  {
   "cell_type": "code",
   "execution_count": null,
   "id": "735820fa-2b09-488e-8d9b-e42d583ad7c7",
   "metadata": {},
   "outputs": [],
   "source": [
    "for ix in range(imaginary_I.shape[0]):\n",
    "    imaginary_I[ix, ix] = 1j\n",
    "imaginary_I"
   ]
  },
  {
   "cell_type": "code",
   "execution_count": null,
   "id": "374b2ff7-05e6-44f3-9607-5b44eca2cf14",
   "metadata": {},
   "outputs": [],
   "source": [
    "nqubits = 7 #checked from 2 to 7"
   ]
  },
  {
   "cell_type": "code",
   "execution_count": null,
   "id": "a0cbbfdd-0daa-4cde-8c92-339f4978947a",
   "metadata": {},
   "outputs": [],
   "source": [
    "oracle_circ = o.simple_oracle(nqubits, '101110')"
   ]
  },
  {
   "cell_type": "code",
   "execution_count": null,
   "id": "2cd766ca-4dfc-431a-9397-cf2fced89447",
   "metadata": {},
   "outputs": [],
   "source": [
    "grover_circ = g.grover_qc(nqubits, oracle_circ)"
   ]
  },
  {
   "cell_type": "code",
   "execution_count": null,
   "id": "bd59ff12-17d4-49b5-85d8-b53e9ba1b8e3",
   "metadata": {},
   "outputs": [],
   "source": [
    "counts = grover_circ.execute(nshots=100000).frequencies(binary=True)"
   ]
  },
  {
   "cell_type": "code",
   "execution_count": null,
   "id": "066a8fc0-e701-49fe-a5a7-0ec5efc8a553",
   "metadata": {},
   "outputs": [],
   "source": [
    "counts"
   ]
  },
  {
   "cell_type": "code",
   "execution_count": null,
   "id": "2e44c678-1975-4929-9528-2c16d3ba54e3",
   "metadata": {},
   "outputs": [],
   "source": [
    "from qiskit.visualization import plot_histogram\n",
    "plot_histogram(counts)"
   ]
  },
  {
   "cell_type": "code",
   "execution_count": null,
   "id": "cbcfd2c7-804e-454f-8d03-b991cfcdca05",
   "metadata": {},
   "outputs": [],
   "source": [
    "# create oracle\n",
    "n=3\n",
    "oracle_matrix = np.matrix(np.identity(2**n))\n",
    "# add phase shift to winner index\n",
    "i0_idx = int('101', 2)\n",
    "oracle_matrix[i0_idx, i0_idx] = -1"
   ]
  },
  {
   "cell_type": "code",
   "execution_count": null,
   "id": "f975b9a0-18e5-4e16-9e4a-7408b02deda3",
   "metadata": {},
   "outputs": [],
   "source": [
    "m = oracle_matrix\n",
    "np.allclose(np.identity(m.shape[0]), m.H * m) # check for unitary"
   ]
  },
  {
   "cell_type": "code",
   "execution_count": null,
   "id": "8db75b85-e047-42ab-b9b5-a2fba7ffcd88",
   "metadata": {},
   "outputs": [],
   "source": [
    "oracle_matrix.shape"
   ]
  },
  {
   "cell_type": "markdown",
   "id": "400c85e9-6204-40f7-b18e-586246a29bc7",
   "metadata": {},
   "source": [
    "## Compare DistCalc circuits"
   ]
  },
  {
   "cell_type": "code",
   "execution_count": null,
   "id": "3ce4578b-087e-4443-b4ed-651b3a5a8297",
   "metadata": {},
   "outputs": [],
   "source": [
    "import numpy as np\n",
    "import scripts.distance_calc as distc\n",
    "import h5py\n",
    "\n",
    "import qibo\n",
    "qibo.set_backend(\"tensorflow\")"
   ]
  },
  {
   "cell_type": "code",
   "execution_count": null,
   "id": "02af479e-084f-4893-98e6-2904e2a83636",
   "metadata": {},
   "outputs": [],
   "source": [
    "# dimension 2,3\n",
    "dim = 2\n",
    "samples_n = int(200)\n",
    "data_1 = np.random.multivariate_normal(mean=(0,0), cov=np.eye(dim)*1, size=samples_n)\n",
    "data_2 = np.random.multivariate_normal(mean=(1,1), cov=np.eye(dim)*1, size=samples_n)"
   ]
  },
  {
   "cell_type": "code",
   "execution_count": null,
   "id": "88657fac-becf-4150-95ec-6ec6eb099fe2",
   "metadata": {},
   "outputs": [],
   "source": [
    "import importlib\n",
    "importlib.reload(distc)"
   ]
  },
  {
   "cell_type": "code",
   "execution_count": null,
   "id": "9d3a9191-1544-4ee3-b446-dd1811359329",
   "metadata": {},
   "outputs": [],
   "source": [
    "import plots as p\n",
    "#p.plot_clusters(np.vstack([data_1, data_2]), np.vstack([np.zeros((samples_n,1)), np.ones((samples_n,1))]))\n",
    "p.plot_latent_representations(np.vstack([data_1, data_2]), np.vstack([np.zeros((samples_n,1)), np.ones((samples_n,1))]))"
   ]
  },
  {
   "cell_type": "code",
   "execution_count": null,
   "id": "e217eb09-a919-4e54-91b3-4a9b8ed26a56",
   "metadata": {},
   "outputs": [],
   "source": [
    "dist_1=[]; dist_2=[]\n",
    "for i in range(samples_n):\n",
    "    for j in range(samples_n):\n",
    "        arr1 = []\n",
    "        \n",
    "        distance, _ = distc.DistCalc_AmplE(data_1[i,:], data_2[j,:])\n",
    "        arr1.append(distance)\n",
    "    \n",
    "        arr2 = []\n",
    "        distance, _ = distc.DistCalc_DI(data_1[i,:], data_2[j,:])\n",
    "        arr2.append(distance)\n",
    "    dist_1.append(np.sum(arr1))\n",
    "    dist_2.append(np.sum(arr2))"
   ]
  },
  {
   "cell_type": "code",
   "execution_count": null,
   "id": "1523f42b-52cf-4019-acb0-13c09a71547f",
   "metadata": {},
   "outputs": [],
   "source": [
    "dist=[]\n",
    "for i in range(samples_n):\n",
    "    for j in range(samples_n):\n",
    "        arr = []\n",
    "        \n",
    "        distance = np.linalg.norm(data_1[i,:] - data_2[j,:])\n",
    "        arr.append(distance)\n",
    "    dist.append(np.sum(arr))"
   ]
  },
  {
   "cell_type": "code",
   "execution_count": null,
   "id": "a7bad31d-ef48-4050-95fc-d055a160d52b",
   "metadata": {},
   "outputs": [],
   "source": [
    "dist = np.array(dist)\n",
    "dist_1 = np.array(dist_1)\n",
    "dist_2 = np.array(dist_2)"
   ]
  },
  {
   "cell_type": "code",
   "execution_count": null,
   "id": "dc6d1364-f8c4-48e2-af03-acae59a91360",
   "metadata": {},
   "outputs": [],
   "source": [
    "import matplotlib.pyplot as plt\n",
    "plt.figure(figsize=(10,6))\n",
    "plt.hist(np.abs(dist_1-dist_2), histtype = 'step', fill=False, linewidth=2, bins=100, label='AmplE - DI(new)', density=True, color='forestgreen')\n",
    "plt.hist(np.abs(dist-dist_2), histtype = 'step', fill=False, linewidth=2, bins=50, label='DI(new) - Euclid', density=True, color='deeppink')\n",
    "plt.hist(np.abs(dist_1-dist), histtype = 'step', fill=False, linewidth=2, bins=100, label='AmplE - Euclid', density=True, color='lightblue')\n",
    "\n",
    "plt.yscale('log')\n",
    "plt.legend(frameon=True, prop={\"size\":15})\n",
    "plt.title(f'Abs Difference')\n",
    "plt.show()"
   ]
  },
  {
   "cell_type": "code",
   "execution_count": null,
   "id": "3a1d29ee-bf7d-422e-b649-de26c6733f35",
   "metadata": {},
   "outputs": [],
   "source": [
    "import scipy\n",
    "\n",
    "plt.figure(figsize=(10,6))\n",
    "plt.hist(scipy.stats.zscore(dist_1-dist_2), histtype = 'step', fill=False, linewidth=2, bins=50, label='AmplE - DI(new)', density=True, color='forestgreen')\n",
    "plt.hist(scipy.stats.zscore(dist_2-dist), histtype = 'step', fill=False, linewidth=2, bins=50, label='DI(new) - Euclid', density=True, color='deeppink')\n",
    "plt.hist(scipy.stats.zscore(dist_1-dist), histtype = 'step', fill=False, linewidth=2, bins=50, label='AmplE - Euclid', density=True, color='lightblue')\n",
    "\n",
    "plt.yscale('log')\n",
    "plt.legend(frameon=True, prop={\"size\":15})\n",
    "plt.title(f'Z-score')\n",
    "plt.show()"
   ]
  },
  {
   "cell_type": "markdown",
   "id": "5122db5c-1144-4b8e-8505-30a8ba650b9c",
   "metadata": {},
   "source": [
    "## Check DI circuit with Qiskit"
   ]
  },
  {
   "cell_type": "code",
   "execution_count": null,
   "id": "ce421e29-e205-4f0e-a6c8-87ff8726b058",
   "metadata": {},
   "outputs": [],
   "source": [
    "# Importing standard Qiskit libraries\n",
    "from qiskit import QuantumCircuit, Aer, IBMQ, execute\n",
    "from qiskit.tools.jupyter import *\n",
    "from qiskit.visualization import *\n",
    "from qiskit.providers.aer import QasmSimulator\n",
    "from qiskit.quantum_info import Statevector\n",
    "from qiskit import QuantumCircuit, ClassicalRegister, QuantumRegister\n",
    "from qiskit.visualization import plot_bloch_multivector, plot_histogram\n",
    "\n",
    "from scripts.util import create_gate, prepare_input, normalize, calc_norm\n",
    "import numpy as np\n",
    "from scripts.distance_calc import pad_input"
   ]
  },
  {
   "cell_type": "code",
   "execution_count": null,
   "id": "5a2dd657-ed16-4e19-8892-d87e7f54101d",
   "metadata": {},
   "outputs": [],
   "source": [
    "a = np.array([1,2,3,4]); b=np.array([2,3,4,5])"
   ]
  },
  {
   "cell_type": "code",
   "execution_count": null,
   "id": "a71fa1b2-a75b-470b-87fb-b99f367cfdb0",
   "metadata": {},
   "outputs": [],
   "source": [
    "\n",
    "num_features = len(a)\n",
    "norm = calc_norm(a, b)\n",
    "a_norm = a/norm\n",
    "b_norm = b/norm\n",
    "\n",
    "a_norm = pad_input(a_norm)\n",
    "b_norm = pad_input(b_norm)\n",
    "\n",
    "amplitudes = np.concatenate((a_norm, b_norm))\n",
    "n_qubits = int(np.log2(len(amplitudes)))\n",
    "\n",
    "qr_phi = QuantumRegister(n_qubits, \"phi\") # size always 1\n",
    "cr = ClassicalRegister(1, \"cr\")\n",
    "\n",
    "qc_phi = QuantumCircuit(qr_phi, cr)\n",
    "qc_phi.initialize(amplitudes)\n",
    "qc_phi.h(0)\n",
    "\n",
    "qc_phi.measure(0, cr)\n",
    "\n",
    "qc_phi.draw()"
   ]
  },
  {
   "cell_type": "code",
   "execution_count": null,
   "id": "60c0d8db-14ec-4f57-b9bf-7a10331a832d",
   "metadata": {},
   "outputs": [],
   "source": [
    "# To use local qasm simulator\n",
    "import math\n",
    "backend = Aer.get_backend('qasm_simulator')\n",
    "shots_n = 10000\n",
    "counts = execute(qc_phi, backend=backend, shots=shots_n).result().get_counts(qc_phi)\n",
    "\n",
    "distance = norm*math.sqrt(2)*math.sqrt((counts['1']/shots_n))"
   ]
  },
  {
   "cell_type": "code",
   "execution_count": null,
   "id": "43441e73-8eca-4b9e-bdc8-13e2fd313e14",
   "metadata": {},
   "outputs": [],
   "source": [
    "distance"
   ]
  },
  {
   "cell_type": "code",
   "execution_count": null,
   "id": "0e5b341e-7b30-4dfb-ada5-9d91a0312436",
   "metadata": {},
   "outputs": [],
   "source": [
    "from scripts.distance_calc import DistCalc_DI\n",
    "\n",
    "distance_di, _ = DistCalc_DI(a, b)\n",
    "distance_di"
   ]
  },
  {
   "cell_type": "code",
   "execution_count": null,
   "id": "f6251498-3dba-4533-8fba-801b56c4049f",
   "metadata": {},
   "outputs": [],
   "source": []
  }
 ],
 "metadata": {
  "kernelspec": {
   "display_name": "Python 3 (ipykernel)",
   "language": "python",
   "name": "python3"
  },
  "language_info": {
   "codemirror_mode": {
    "name": "ipython",
    "version": 3
   },
   "file_extension": ".py",
   "mimetype": "text/x-python",
   "name": "python",
   "nbconvert_exporter": "python",
   "pygments_lexer": "ipython3",
   "version": "3.8.12"
  }
 },
 "nbformat": 4,
 "nbformat_minor": 5
}
